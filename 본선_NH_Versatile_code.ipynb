{
 "cells": [
  {
   "cell_type": "markdown",
   "id": "4ac65298-6545-47e5-a826-c3c804c5bfcb",
   "metadata": {},
   "source": [
    "### 팀명 : Versatile\n",
    "### 팀원 : 강지민, 박소연\n",
    "### 주제명 : 투자, 건강한 문화가 되다\n",
    "### 분류 목적 및 방식 : 빠르게 변화할 수 있는 개인의 투자성향을 반영하기 위해 매월말을 기준으로 데이터를 갱신하여 고객을 분류한다"
   ]
  },
  {
   "cell_type": "markdown",
   "id": "ed901806-a507-4993-9764-3e55582c378d",
   "metadata": {},
   "source": [
    "# 데이터 전처리"
   ]
  },
  {
   "cell_type": "markdown",
   "id": "cac89cca-70a3-4bef-a88d-7c552a26ddfd",
   "metadata": {},
   "source": [
    "## 필요한 패키지 로드 및 데이터 로드"
   ]
  },
  {
   "cell_type": "code",
   "execution_count": 3,
   "id": "20e011a2-89a1-49e8-8589-54ae42254de1",
   "metadata": {},
   "outputs": [],
   "source": [
    "# 필요한 패키지 설치\n",
    "\n",
    "import matplotlib.pyplot as plt\n",
    "import pandas as pd\n",
    "import numpy as np\n",
    "import math\n",
    "import seaborn as sns\n",
    "from tqdm import tqdm\n",
    "from sklearn.cluster import KMeans\n",
    "from sklearn.preprocessing import StandardScaler\n",
    "from matplotlib import rc\n",
    "from yellowbrick.cluster import KElbowVisualizer\n",
    "import math\n",
    "import zipfile\n",
    "import warnings\n",
    "warnings.filterwarnings('ignore')\n",
    "rc('font', family='NanumBarunGothic')\n",
    "import re\n",
    "\n",
    "import FinanceDataReader as fdr\n",
    "from pykrx import stock\n",
    "import pandas_datareader.data as pdr\n",
    "import yfinance as yf"
   ]
  },
  {
   "cell_type": "code",
   "execution_count": 3,
   "id": "17adc8ce-2b24-4255-9529-f34f2e35bb5a",
   "metadata": {},
   "outputs": [],
   "source": [
    "# 데이터 불러오기\n",
    "\n",
    "info = pd.read_csv('/home/public/cus_ifo.csv',encoding='utf-8')\n",
    "kr = pd.read_csv('/home/public/kr_stk_orr.csv',encoding='utf-8')\n",
    "oss = pd.read_csv('/home/public/oss_stk_orr.csv',encoding='utf-8')\n",
    "ast = pd.read_csv('/home/public/cus_tot_aet_ifo.csv',encoding='utf-8')\n",
    "bnc = pd.read_csv('/home/public/cus_itg_sct_bnc.csv',encoding='utf-8')\n",
    "GA = pd.read_csv('/home/public/GA.csv',encoding='utf-8',delimiter='|')"
   ]
  },
  {
   "cell_type": "markdown",
   "id": "d4ffa547-1fcc-4ff3-8085-cd2e785c58ff",
   "metadata": {
    "tags": []
   },
   "source": [
    "## 데이터 수집 및 전처리"
   ]
  },
  {
   "cell_type": "markdown",
   "id": "dd882589-3577-4eb1-b988-ad33f962eca5",
   "metadata": {},
   "source": [
    "### 1. 월말 잔고 데이터 분리 \n",
    "- stocks/ETF, ETN/ELW"
   ]
  },
  {
   "cell_type": "code",
   "execution_count": 33,
   "id": "30833542-cc9f-4546-bd34-5fa6213d591d",
   "metadata": {},
   "outputs": [],
   "source": [
    "# 잔고데이터에 있는 주식, etf, 선물 및 모든 종목코드 불러오기\n",
    "bnc_code = list(bnc['iem_cd'].unique()) "
   ]
  },
  {
   "cell_type": "markdown",
   "id": "8b93ea36-0774-4b75-aa63-e1402d75430b",
   "metadata": {},
   "source": [
    "#### - 국내"
   ]
  },
  {
   "cell_type": "code",
   "execution_count": 35,
   "id": "a7102713-f3cb-456a-8d6f-5e725cf7d288",
   "metadata": {},
   "outputs": [],
   "source": [
    "# 그 중 한국 종목코드 \n",
    "bnc_kr_code = list(bnc[bnc['cur_cd']=='KRW'].iem_cd.unique())"
   ]
  },
  {
   "cell_type": "markdown",
   "id": "57d15857-532c-4514-9dfa-aa9d76f0a17b",
   "metadata": {
    "tags": []
   },
   "source": [
    "#### "
   ]
  },
  {
   "cell_type": "code",
   "execution_count": 38,
   "id": "90b87acf-b0cb-4f47-9551-7538fdd26a20",
   "metadata": {},
   "outputs": [],
   "source": [
    "#  잔고 국내 데이터에 ( ETN / ELW ) 있는지 확인.\n",
    "\n",
    "num_start = list() \n",
    "\n",
    "for a in bnc_kr_code : \n",
    "    if re.match('[0-9]',a):\n",
    "        num_start.append(a)"
   ]
  },
  {
   "cell_type": "code",
   "execution_count": 37,
   "id": "7fb96007-b33d-4474-8338-878ba7bebaa6",
   "metadata": {},
   "outputs": [
    {
     "data": {
      "text/plain": [
       "[]"
      ]
     },
     "execution_count": 37,
     "metadata": {},
     "output_type": "execute_result"
    }
   ],
   "source": [
    "num_start # 숫자로 시작하는 코드가 (ETN/ELW) 없다"
   ]
  },
  {
   "cell_type": "code",
   "execution_count": 41,
   "id": "be43e174-0b0e-47f2-9ad8-45d305483469",
   "metadata": {},
   "outputs": [],
   "source": [
    "start_A = list()\n",
    "\n",
    "for a in bnc_kr_code : \n",
    "    if a.startswith('A') : \n",
    "        start_A.append(a)"
   ]
  },
  {
   "cell_type": "code",
   "execution_count": 42,
   "id": "158c7b93-0d9f-4355-bffd-af7e0ecad87a",
   "metadata": {},
   "outputs": [
    {
     "data": {
      "text/plain": [
       "[]"
      ]
     },
     "execution_count": 42,
     "metadata": {},
     "output_type": "execute_result"
    }
   ],
   "source": [
    "start_A_k # k로 끝나는 코드가 (우선주)없다"
   ]
  },
  {
   "cell_type": "code",
   "execution_count": 43,
   "id": "90d35028-410a-47e4-b028-93061010d839",
   "metadata": {},
   "outputs": [],
   "source": [
    "start_A_k = list()\n",
    "\n",
    "for a in start_A : \n",
    "    if a.endswith('K') : \n",
    "        start_A_k.append(a)"
   ]
  },
  {
   "cell_type": "code",
   "execution_count": 45,
   "id": "8d9cba03-0b0d-4c71-a178-7eb990596500",
   "metadata": {},
   "outputs": [],
   "source": [
    "start_A_c = list()\n",
    "\n",
    "for a in start_A : \n",
    "    if a.endswith('C') : \n",
    "        start_A_c.append(a)"
   ]
  },
  {
   "cell_type": "code",
   "execution_count": 46,
   "id": "04b71796-2ee3-472b-9d5d-a817fc669156",
   "metadata": {},
   "outputs": [
    {
     "data": {
      "text/plain": [
       "[]"
      ]
     },
     "execution_count": 46,
     "metadata": {},
     "output_type": "execute_result"
    }
   ],
   "source": [
    "start_A_c "
   ]
  },
  {
   "cell_type": "code",
   "execution_count": 47,
   "id": "b8d25989-72ad-4404-a87d-506aa0bc6c1f",
   "metadata": {},
   "outputs": [],
   "source": [
    "# 잔고 데이터의 국내 stocks, etf\n",
    "bnc_stocks_etf = pd.DataFrame(start_A)"
   ]
  },
  {
   "cell_type": "code",
   "execution_count": 48,
   "id": "68203550-ac7f-4c65-8681-e71df05b0597",
   "metadata": {},
   "outputs": [],
   "source": [
    "bnc_stocks_etf.rename(columns={0:'Code'},inplace=True)"
   ]
  },
  {
   "cell_type": "code",
   "execution_count": 49,
   "id": "e04e2619-f63c-42d7-b23e-30ff6402b505",
   "metadata": {},
   "outputs": [],
   "source": [
    "#계좌 잔고 정보에 있는 주식,etf들은 bnc_stocks,etf로 저장함.\n",
    "bnc_stocks_etf.to_csv('bnc_stocks_etf.csv',index = False)"
   ]
  },
  {
   "cell_type": "code",
   "execution_count": 36,
   "id": "a5c5130b-c21e-4970-a2a8-24917730d37f",
   "metadata": {},
   "outputs": [
    {
     "data": {
      "text/html": [
       "<div>\n",
       "<style scoped>\n",
       "    .dataframe tbody tr th:only-of-type {\n",
       "        vertical-align: middle;\n",
       "    }\n",
       "\n",
       "    .dataframe tbody tr th {\n",
       "        vertical-align: top;\n",
       "    }\n",
       "\n",
       "    .dataframe thead th {\n",
       "        text-align: right;\n",
       "    }\n",
       "</style>\n",
       "<table border=\"1\" class=\"dataframe\">\n",
       "  <thead>\n",
       "    <tr style=\"text-align: right;\">\n",
       "      <th></th>\n",
       "      <th>code</th>\n",
       "    </tr>\n",
       "  </thead>\n",
       "  <tbody>\n",
       "    <tr>\n",
       "      <th>0</th>\n",
       "      <td>A271050</td>\n",
       "    </tr>\n",
       "    <tr>\n",
       "      <th>1</th>\n",
       "      <td>A122630</td>\n",
       "    </tr>\n",
       "    <tr>\n",
       "      <th>2</th>\n",
       "      <td>A251340</td>\n",
       "    </tr>\n",
       "    <tr>\n",
       "      <th>3</th>\n",
       "      <td>A233740</td>\n",
       "    </tr>\n",
       "    <tr>\n",
       "      <th>4</th>\n",
       "      <td>A261220</td>\n",
       "    </tr>\n",
       "    <tr>\n",
       "      <th>...</th>\n",
       "      <td>...</td>\n",
       "    </tr>\n",
       "    <tr>\n",
       "      <th>182</th>\n",
       "      <td>A196230</td>\n",
       "    </tr>\n",
       "    <tr>\n",
       "      <th>183</th>\n",
       "      <td>A266360</td>\n",
       "    </tr>\n",
       "    <tr>\n",
       "      <th>184</th>\n",
       "      <td>A105780</td>\n",
       "    </tr>\n",
       "    <tr>\n",
       "      <th>185</th>\n",
       "      <td>A412560</td>\n",
       "    </tr>\n",
       "    <tr>\n",
       "      <th>186</th>\n",
       "      <td>A412570</td>\n",
       "    </tr>\n",
       "  </tbody>\n",
       "</table>\n",
       "<p>187 rows × 1 columns</p>\n",
       "</div>"
      ],
      "text/plain": [
       "        code\n",
       "0    A271050\n",
       "1    A122630\n",
       "2    A251340\n",
       "3    A233740\n",
       "4    A261220\n",
       "..       ...\n",
       "182  A196230\n",
       "183  A266360\n",
       "184  A105780\n",
       "185  A412560\n",
       "186  A412570\n",
       "\n",
       "[187 rows x 1 columns]"
      ]
     },
     "execution_count": 36,
     "metadata": {},
     "output_type": "execute_result"
    }
   ],
   "source": [
    "# 국내 etf\n",
    "# 잔고데이터 미리 분류해 놓음.\n",
    "\n",
    "etf_bnc = pd.read_csv('etf_bnc.csv') \n",
    "etf_bnc"
   ]
  },
  {
   "cell_type": "code",
   "execution_count": 50,
   "id": "d5cb9c3c-fc4b-417b-a6bd-ea8686519513",
   "metadata": {},
   "outputs": [],
   "source": [
    "# 잔고데이터의 ETN\n",
    "\n",
    "start_notA = list()\n",
    "\n",
    "for a in bnc_kr_code : \n",
    "    if a.startswith('A') : \n",
    "        pass\n",
    "    else:\n",
    "        start_notA.append(a.strip())"
   ]
  },
  {
   "cell_type": "code",
   "execution_count": 51,
   "id": "5849a9df-cb1e-48dd-8e2f-7bdc6098aef6",
   "metadata": {},
   "outputs": [],
   "source": [
    "bnc_ETN = start_notA"
   ]
  },
  {
   "cell_type": "code",
   "execution_count": 53,
   "id": "4989e9e3-0694-47fb-9245-dd7ffb4faf6a",
   "metadata": {},
   "outputs": [],
   "source": [
    "bnc_ETN = pd.DataFrame(bnc_ETN)"
   ]
  },
  {
   "cell_type": "code",
   "execution_count": 54,
   "id": "194b23de-9987-467b-9375-be10cf35c813",
   "metadata": {},
   "outputs": [],
   "source": [
    "bnc_ETN.to_csv('bnc_ETN.csv',index=False)"
   ]
  },
  {
   "cell_type": "markdown",
   "id": "5b4a2631-da35-4f39-afff-61ecace7dbea",
   "metadata": {},
   "source": [
    "### 2. 국내 및 해외 일별 시세 데이터 불러오기\n",
    "- finance datareader 패키지 사용."
   ]
  },
  {
   "cell_type": "markdown",
   "id": "c75afb49-00d5-4bb0-9227-ca3be3bc83a3",
   "metadata": {},
   "source": [
    "#### <국내>"
   ]
  },
  {
   "cell_type": "code",
   "execution_count": 55,
   "id": "55b3697c-2179-4de8-a177-482411ba076a",
   "metadata": {},
   "outputs": [
    {
     "data": {
      "text/html": [
       "<div>\n",
       "<style scoped>\n",
       "    .dataframe tbody tr th:only-of-type {\n",
       "        vertical-align: middle;\n",
       "    }\n",
       "\n",
       "    .dataframe tbody tr th {\n",
       "        vertical-align: top;\n",
       "    }\n",
       "\n",
       "    .dataframe thead th {\n",
       "        text-align: right;\n",
       "    }\n",
       "</style>\n",
       "<table border=\"1\" class=\"dataframe\">\n",
       "  <thead>\n",
       "    <tr style=\"text-align: right;\">\n",
       "      <th></th>\n",
       "      <th>Code</th>\n",
       "      <th>ISU_CD</th>\n",
       "      <th>Name</th>\n",
       "      <th>Market</th>\n",
       "      <th>Dept</th>\n",
       "      <th>Close</th>\n",
       "      <th>ChangeCode</th>\n",
       "      <th>Changes</th>\n",
       "      <th>ChagesRatio</th>\n",
       "      <th>Open</th>\n",
       "      <th>High</th>\n",
       "      <th>Low</th>\n",
       "      <th>Volume</th>\n",
       "      <th>Amount</th>\n",
       "      <th>Marcap</th>\n",
       "      <th>Stocks</th>\n",
       "      <th>MarketId</th>\n",
       "    </tr>\n",
       "  </thead>\n",
       "  <tbody>\n",
       "    <tr>\n",
       "      <th>0</th>\n",
       "      <td>005930</td>\n",
       "      <td>KR7005930003</td>\n",
       "      <td>삼성전자</td>\n",
       "      <td>KOSPI</td>\n",
       "      <td></td>\n",
       "      <td>61000</td>\n",
       "      <td>2</td>\n",
       "      <td>-400</td>\n",
       "      <td>-0.65</td>\n",
       "      <td>61400</td>\n",
       "      <td>61700</td>\n",
       "      <td>60800</td>\n",
       "      <td>6677933</td>\n",
       "      <td>407953216200</td>\n",
       "      <td>364156735550000</td>\n",
       "      <td>5969782550</td>\n",
       "      <td>STK</td>\n",
       "    </tr>\n",
       "    <tr>\n",
       "      <th>1</th>\n",
       "      <td>373220</td>\n",
       "      <td>KR7373220003</td>\n",
       "      <td>LG에너지솔루션</td>\n",
       "      <td>KOSPI</td>\n",
       "      <td></td>\n",
       "      <td>571000</td>\n",
       "      <td>1</td>\n",
       "      <td>3000</td>\n",
       "      <td>0.53</td>\n",
       "      <td>568000</td>\n",
       "      <td>577000</td>\n",
       "      <td>566000</td>\n",
       "      <td>189536</td>\n",
       "      <td>108270903000</td>\n",
       "      <td>133614000000000</td>\n",
       "      <td>234000000</td>\n",
       "      <td>STK</td>\n",
       "    </tr>\n",
       "    <tr>\n",
       "      <th>2</th>\n",
       "      <td>207940</td>\n",
       "      <td>KR7207940008</td>\n",
       "      <td>삼성바이오로직스</td>\n",
       "      <td>KOSPI</td>\n",
       "      <td></td>\n",
       "      <td>903000</td>\n",
       "      <td>1</td>\n",
       "      <td>7000</td>\n",
       "      <td>0.78</td>\n",
       "      <td>900000</td>\n",
       "      <td>904000</td>\n",
       "      <td>895000</td>\n",
       "      <td>31687</td>\n",
       "      <td>28512433000</td>\n",
       "      <td>64270122000000</td>\n",
       "      <td>71174000</td>\n",
       "      <td>STK</td>\n",
       "    </tr>\n",
       "    <tr>\n",
       "      <th>3</th>\n",
       "      <td>000660</td>\n",
       "      <td>KR7000660001</td>\n",
       "      <td>SK하이닉스</td>\n",
       "      <td>KOSPI</td>\n",
       "      <td></td>\n",
       "      <td>85100</td>\n",
       "      <td>2</td>\n",
       "      <td>-1800</td>\n",
       "      <td>-2.07</td>\n",
       "      <td>87200</td>\n",
       "      <td>87300</td>\n",
       "      <td>85100</td>\n",
       "      <td>1439011</td>\n",
       "      <td>123372985900</td>\n",
       "      <td>61953001261500</td>\n",
       "      <td>728002365</td>\n",
       "      <td>STK</td>\n",
       "    </tr>\n",
       "    <tr>\n",
       "      <th>4</th>\n",
       "      <td>051910</td>\n",
       "      <td>KR7051910008</td>\n",
       "      <td>LG화학</td>\n",
       "      <td>KOSPI</td>\n",
       "      <td></td>\n",
       "      <td>721000</td>\n",
       "      <td>2</td>\n",
       "      <td>-7000</td>\n",
       "      <td>-0.96</td>\n",
       "      <td>726000</td>\n",
       "      <td>731000</td>\n",
       "      <td>718000</td>\n",
       "      <td>101478</td>\n",
       "      <td>73340712000</td>\n",
       "      <td>50897079303000</td>\n",
       "      <td>70592343</td>\n",
       "      <td>STK</td>\n",
       "    </tr>\n",
       "    <tr>\n",
       "      <th>...</th>\n",
       "      <td>...</td>\n",
       "      <td>...</td>\n",
       "      <td>...</td>\n",
       "      <td>...</td>\n",
       "      <td>...</td>\n",
       "      <td>...</td>\n",
       "      <td>...</td>\n",
       "      <td>...</td>\n",
       "      <td>...</td>\n",
       "      <td>...</td>\n",
       "      <td>...</td>\n",
       "      <td>...</td>\n",
       "      <td>...</td>\n",
       "      <td>...</td>\n",
       "      <td>...</td>\n",
       "      <td>...</td>\n",
       "      <td>...</td>\n",
       "    </tr>\n",
       "    <tr>\n",
       "      <th>2671</th>\n",
       "      <td>267810</td>\n",
       "      <td>KR7267810000</td>\n",
       "      <td>앙츠</td>\n",
       "      <td>KONEX</td>\n",
       "      <td>일반기업부</td>\n",
       "      <td>1160</td>\n",
       "      <td>2</td>\n",
       "      <td>-180</td>\n",
       "      <td>-13.43</td>\n",
       "      <td>1430</td>\n",
       "      <td>1430</td>\n",
       "      <td>1160</td>\n",
       "      <td>2</td>\n",
       "      <td>2590</td>\n",
       "      <td>2072920000</td>\n",
       "      <td>1787000</td>\n",
       "      <td>KNX</td>\n",
       "    </tr>\n",
       "    <tr>\n",
       "      <th>2672</th>\n",
       "      <td>288490</td>\n",
       "      <td>KR7288490006</td>\n",
       "      <td>나라소프트</td>\n",
       "      <td>KONEX</td>\n",
       "      <td>일반기업부</td>\n",
       "      <td>53</td>\n",
       "      <td>1</td>\n",
       "      <td>2</td>\n",
       "      <td>3.92</td>\n",
       "      <td>52</td>\n",
       "      <td>58</td>\n",
       "      <td>48</td>\n",
       "      <td>58197</td>\n",
       "      <td>3137902</td>\n",
       "      <td>2021791000</td>\n",
       "      <td>38147000</td>\n",
       "      <td>KNX</td>\n",
       "    </tr>\n",
       "    <tr>\n",
       "      <th>2673</th>\n",
       "      <td>215050</td>\n",
       "      <td>KR7215050006</td>\n",
       "      <td>비엔디생활건강</td>\n",
       "      <td>KONEX</td>\n",
       "      <td>일반기업부</td>\n",
       "      <td>912</td>\n",
       "      <td>0</td>\n",
       "      <td>0</td>\n",
       "      <td>0.00</td>\n",
       "      <td>0</td>\n",
       "      <td>0</td>\n",
       "      <td>0</td>\n",
       "      <td>0</td>\n",
       "      <td>0</td>\n",
       "      <td>1934959392</td>\n",
       "      <td>2121666</td>\n",
       "      <td>KNX</td>\n",
       "    </tr>\n",
       "    <tr>\n",
       "      <th>2674</th>\n",
       "      <td>267060</td>\n",
       "      <td>KR7267060002</td>\n",
       "      <td>명진홀딩스</td>\n",
       "      <td>KONEX</td>\n",
       "      <td>일반기업부</td>\n",
       "      <td>181</td>\n",
       "      <td>0</td>\n",
       "      <td>0</td>\n",
       "      <td>0.00</td>\n",
       "      <td>0</td>\n",
       "      <td>0</td>\n",
       "      <td>0</td>\n",
       "      <td>0</td>\n",
       "      <td>0</td>\n",
       "      <td>1654666524</td>\n",
       "      <td>9141804</td>\n",
       "      <td>KNX</td>\n",
       "    </tr>\n",
       "    <tr>\n",
       "      <th>2675</th>\n",
       "      <td>329020</td>\n",
       "      <td>KR7329020002</td>\n",
       "      <td>오션스톤</td>\n",
       "      <td>KONEX</td>\n",
       "      <td>일반기업부</td>\n",
       "      <td>1800</td>\n",
       "      <td>0</td>\n",
       "      <td>0</td>\n",
       "      <td>0.00</td>\n",
       "      <td>0</td>\n",
       "      <td>0</td>\n",
       "      <td>0</td>\n",
       "      <td>0</td>\n",
       "      <td>0</td>\n",
       "      <td>1503273600</td>\n",
       "      <td>835152</td>\n",
       "      <td>KNX</td>\n",
       "    </tr>\n",
       "  </tbody>\n",
       "</table>\n",
       "<p>2676 rows × 17 columns</p>\n",
       "</div>"
      ],
      "text/plain": [
       "        Code        ISU_CD      Name Market   Dept   Close ChangeCode  \\\n",
       "0     005930  KR7005930003      삼성전자  KOSPI          61000          2   \n",
       "1     373220  KR7373220003  LG에너지솔루션  KOSPI         571000          1   \n",
       "2     207940  KR7207940008  삼성바이오로직스  KOSPI         903000          1   \n",
       "3     000660  KR7000660001    SK하이닉스  KOSPI          85100          2   \n",
       "4     051910  KR7051910008      LG화학  KOSPI         721000          2   \n",
       "...      ...           ...       ...    ...    ...     ...        ...   \n",
       "2671  267810  KR7267810000        앙츠  KONEX  일반기업부    1160          2   \n",
       "2672  288490  KR7288490006     나라소프트  KONEX  일반기업부      53          1   \n",
       "2673  215050  KR7215050006   비엔디생활건강  KONEX  일반기업부     912          0   \n",
       "2674  267060  KR7267060002     명진홀딩스  KONEX  일반기업부     181          0   \n",
       "2675  329020  KR7329020002      오션스톤  KONEX  일반기업부    1800          0   \n",
       "\n",
       "      Changes  ChagesRatio    Open    High     Low   Volume        Amount  \\\n",
       "0        -400        -0.65   61400   61700   60800  6677933  407953216200   \n",
       "1        3000         0.53  568000  577000  566000   189536  108270903000   \n",
       "2        7000         0.78  900000  904000  895000    31687   28512433000   \n",
       "3       -1800        -2.07   87200   87300   85100  1439011  123372985900   \n",
       "4       -7000        -0.96  726000  731000  718000   101478   73340712000   \n",
       "...       ...          ...     ...     ...     ...      ...           ...   \n",
       "2671     -180       -13.43    1430    1430    1160        2          2590   \n",
       "2672        2         3.92      52      58      48    58197       3137902   \n",
       "2673        0         0.00       0       0       0        0             0   \n",
       "2674        0         0.00       0       0       0        0             0   \n",
       "2675        0         0.00       0       0       0        0             0   \n",
       "\n",
       "               Marcap      Stocks MarketId  \n",
       "0     364156735550000  5969782550      STK  \n",
       "1     133614000000000   234000000      STK  \n",
       "2      64270122000000    71174000      STK  \n",
       "3      61953001261500   728002365      STK  \n",
       "4      50897079303000    70592343      STK  \n",
       "...               ...         ...      ...  \n",
       "2671       2072920000     1787000      KNX  \n",
       "2672       2021791000    38147000      KNX  \n",
       "2673       1934959392     2121666      KNX  \n",
       "2674       1654666524     9141804      KNX  \n",
       "2675       1503273600      835152      KNX  \n",
       "\n",
       "[2676 rows x 17 columns]"
      ]
     },
     "execution_count": 55,
     "metadata": {},
     "output_type": "execute_result"
    }
   ],
   "source": [
    "stocks_fdr = fdr.StockListing('KRX')\n",
    "stocks_fdr"
   ]
  },
  {
   "cell_type": "code",
   "execution_count": 56,
   "id": "fe419b19-e2e6-403c-8d31-8632e33c4efa",
   "metadata": {},
   "outputs": [
    {
     "data": {
      "text/html": [
       "<div>\n",
       "<style scoped>\n",
       "    .dataframe tbody tr th:only-of-type {\n",
       "        vertical-align: middle;\n",
       "    }\n",
       "\n",
       "    .dataframe tbody tr th {\n",
       "        vertical-align: top;\n",
       "    }\n",
       "\n",
       "    .dataframe thead th {\n",
       "        text-align: right;\n",
       "    }\n",
       "</style>\n",
       "<table border=\"1\" class=\"dataframe\">\n",
       "  <thead>\n",
       "    <tr style=\"text-align: right;\">\n",
       "      <th></th>\n",
       "      <th>Symbol</th>\n",
       "      <th>Name</th>\n",
       "      <th>Market</th>\n",
       "      <th>SecuGroup</th>\n",
       "      <th>Kind</th>\n",
       "      <th>ListingDate</th>\n",
       "      <th>DelistingDate</th>\n",
       "      <th>Reason</th>\n",
       "      <th>ArrantEnforceDate</th>\n",
       "      <th>ArrantEndDate</th>\n",
       "      <th>Industry</th>\n",
       "      <th>ParValue</th>\n",
       "      <th>ListingShares</th>\n",
       "      <th>ToSymbol</th>\n",
       "      <th>ToName</th>\n",
       "    </tr>\n",
       "  </thead>\n",
       "  <tbody>\n",
       "    <tr>\n",
       "      <th>0</th>\n",
       "      <td>06031012</td>\n",
       "      <td>3S R</td>\n",
       "      <td>KOSDAQ</td>\n",
       "      <td>신주인수권증서</td>\n",
       "      <td>보통주</td>\n",
       "      <td>2012-05-14</td>\n",
       "      <td>2012-05-21</td>\n",
       "      <td></td>\n",
       "      <td>NaT</td>\n",
       "      <td>NaT</td>\n",
       "      <td></td>\n",
       "      <td>0.0</td>\n",
       "      <td>1194422.0</td>\n",
       "      <td></td>\n",
       "      <td></td>\n",
       "    </tr>\n",
       "    <tr>\n",
       "      <th>1</th>\n",
       "      <td>00684014</td>\n",
       "      <td>AK홀딩스8R</td>\n",
       "      <td>KOSPI</td>\n",
       "      <td>신주인수권증서</td>\n",
       "      <td>보통주</td>\n",
       "      <td>2014-07-28</td>\n",
       "      <td>2014-08-04</td>\n",
       "      <td></td>\n",
       "      <td>NaT</td>\n",
       "      <td>NaT</td>\n",
       "      <td></td>\n",
       "      <td>0.0</td>\n",
       "      <td>1278299.0</td>\n",
       "      <td></td>\n",
       "      <td></td>\n",
       "    </tr>\n",
       "    <tr>\n",
       "      <th>2</th>\n",
       "      <td>13893015</td>\n",
       "      <td>BNK금융지주 8R</td>\n",
       "      <td>KOSPI</td>\n",
       "      <td>신주인수권증서</td>\n",
       "      <td>보통주</td>\n",
       "      <td>2015-12-24</td>\n",
       "      <td>2016-01-05</td>\n",
       "      <td></td>\n",
       "      <td>NaT</td>\n",
       "      <td>NaT</td>\n",
       "      <td></td>\n",
       "      <td>0.0</td>\n",
       "      <td>55969410.0</td>\n",
       "      <td></td>\n",
       "      <td></td>\n",
       "    </tr>\n",
       "    <tr>\n",
       "      <th>3</th>\n",
       "      <td>13893014</td>\n",
       "      <td>BS금융지주5R</td>\n",
       "      <td>KOSPI</td>\n",
       "      <td>신주인수권증서</td>\n",
       "      <td>보통주</td>\n",
       "      <td>2014-06-18</td>\n",
       "      <td>2014-06-25</td>\n",
       "      <td></td>\n",
       "      <td>NaT</td>\n",
       "      <td>NaT</td>\n",
       "      <td></td>\n",
       "      <td>0.0</td>\n",
       "      <td>32791220.0</td>\n",
       "      <td></td>\n",
       "      <td></td>\n",
       "    </tr>\n",
       "    <tr>\n",
       "      <th>4</th>\n",
       "      <td>03204017</td>\n",
       "      <td>C&amp;S자산관리 34R</td>\n",
       "      <td>KOSDAQ</td>\n",
       "      <td>신주인수권증서</td>\n",
       "      <td>보통주</td>\n",
       "      <td>2017-02-02</td>\n",
       "      <td>2017-02-09</td>\n",
       "      <td></td>\n",
       "      <td>NaT</td>\n",
       "      <td>NaT</td>\n",
       "      <td></td>\n",
       "      <td>0.0</td>\n",
       "      <td>3995063.0</td>\n",
       "      <td></td>\n",
       "      <td></td>\n",
       "    </tr>\n",
       "    <tr>\n",
       "      <th>...</th>\n",
       "      <td>...</td>\n",
       "      <td>...</td>\n",
       "      <td>...</td>\n",
       "      <td>...</td>\n",
       "      <td>...</td>\n",
       "      <td>...</td>\n",
       "      <td>...</td>\n",
       "      <td>...</td>\n",
       "      <td>...</td>\n",
       "      <td>...</td>\n",
       "      <td>...</td>\n",
       "      <td>...</td>\n",
       "      <td>...</td>\n",
       "      <td>...</td>\n",
       "      <td>...</td>\n",
       "    </tr>\n",
       "    <tr>\n",
       "      <th>3454</th>\n",
       "      <td>034370</td>\n",
       "      <td>럭키소재</td>\n",
       "      <td>KOSPI</td>\n",
       "      <td>주권</td>\n",
       "      <td></td>\n",
       "      <td>1979-06-23</td>\n",
       "      <td>1991-11-11</td>\n",
       "      <td>해산 사유 발생</td>\n",
       "      <td>NaT</td>\n",
       "      <td>NaT</td>\n",
       "      <td></td>\n",
       "      <td>NaN</td>\n",
       "      <td>NaN</td>\n",
       "      <td></td>\n",
       "      <td></td>\n",
       "    </tr>\n",
       "    <tr>\n",
       "      <th>3455</th>\n",
       "      <td>028460</td>\n",
       "      <td>태평양건설</td>\n",
       "      <td>KOSPI</td>\n",
       "      <td>주권</td>\n",
       "      <td></td>\n",
       "      <td>1977-06-09</td>\n",
       "      <td>1991-10-05</td>\n",
       "      <td>영업활동정지 6월 계속</td>\n",
       "      <td>1991-08-28</td>\n",
       "      <td>1991-10-04</td>\n",
       "      <td></td>\n",
       "      <td>NaN</td>\n",
       "      <td>NaN</td>\n",
       "      <td></td>\n",
       "      <td></td>\n",
       "    </tr>\n",
       "    <tr>\n",
       "      <th>3456</th>\n",
       "      <td>028450</td>\n",
       "      <td>금성투자금융</td>\n",
       "      <td>KOSPI</td>\n",
       "      <td>주권</td>\n",
       "      <td></td>\n",
       "      <td>1986-08-29</td>\n",
       "      <td>1991-09-02</td>\n",
       "      <td>해산 사유 발생</td>\n",
       "      <td>NaT</td>\n",
       "      <td>NaT</td>\n",
       "      <td></td>\n",
       "      <td>NaN</td>\n",
       "      <td>NaN</td>\n",
       "      <td></td>\n",
       "      <td></td>\n",
       "    </tr>\n",
       "    <tr>\n",
       "      <th>3457</th>\n",
       "      <td>028440</td>\n",
       "      <td>삼화</td>\n",
       "      <td>KOSPI</td>\n",
       "      <td>주권</td>\n",
       "      <td></td>\n",
       "      <td>1974-06-12</td>\n",
       "      <td>1991-07-12</td>\n",
       "      <td>감사의견 의견거절</td>\n",
       "      <td>1991-06-05</td>\n",
       "      <td>1991-07-11</td>\n",
       "      <td></td>\n",
       "      <td>NaN</td>\n",
       "      <td>NaN</td>\n",
       "      <td></td>\n",
       "      <td></td>\n",
       "    </tr>\n",
       "    <tr>\n",
       "      <th>3458</th>\n",
       "      <td>029260</td>\n",
       "      <td>금성전기</td>\n",
       "      <td>KOSPI</td>\n",
       "      <td>주권</td>\n",
       "      <td></td>\n",
       "      <td>1976-06-29</td>\n",
       "      <td>1991-06-13</td>\n",
       "      <td>해산 사유 발생</td>\n",
       "      <td>NaT</td>\n",
       "      <td>NaT</td>\n",
       "      <td></td>\n",
       "      <td>NaN</td>\n",
       "      <td>NaN</td>\n",
       "      <td></td>\n",
       "      <td></td>\n",
       "    </tr>\n",
       "  </tbody>\n",
       "</table>\n",
       "<p>3459 rows × 15 columns</p>\n",
       "</div>"
      ],
      "text/plain": [
       "        Symbol         Name  Market SecuGroup Kind ListingDate DelistingDate  \\\n",
       "0     06031012         3S R  KOSDAQ   신주인수권증서  보통주  2012-05-14    2012-05-21   \n",
       "1     00684014      AK홀딩스8R   KOSPI   신주인수권증서  보통주  2014-07-28    2014-08-04   \n",
       "2     13893015   BNK금융지주 8R   KOSPI   신주인수권증서  보통주  2015-12-24    2016-01-05   \n",
       "3     13893014     BS금융지주5R   KOSPI   신주인수권증서  보통주  2014-06-18    2014-06-25   \n",
       "4     03204017  C&S자산관리 34R  KOSDAQ   신주인수권증서  보통주  2017-02-02    2017-02-09   \n",
       "...        ...          ...     ...       ...  ...         ...           ...   \n",
       "3454    034370         럭키소재   KOSPI        주권       1979-06-23    1991-11-11   \n",
       "3455    028460        태평양건설   KOSPI        주권       1977-06-09    1991-10-05   \n",
       "3456    028450       금성투자금융   KOSPI        주권       1986-08-29    1991-09-02   \n",
       "3457    028440           삼화   KOSPI        주권       1974-06-12    1991-07-12   \n",
       "3458    029260         금성전기   KOSPI        주권       1976-06-29    1991-06-13   \n",
       "\n",
       "            Reason ArrantEnforceDate ArrantEndDate Industry  ParValue  \\\n",
       "0                                NaT           NaT                0.0   \n",
       "1                                NaT           NaT                0.0   \n",
       "2                                NaT           NaT                0.0   \n",
       "3                                NaT           NaT                0.0   \n",
       "4                                NaT           NaT                0.0   \n",
       "...            ...               ...           ...      ...       ...   \n",
       "3454      해산 사유 발생               NaT           NaT                NaN   \n",
       "3455  영업활동정지 6월 계속        1991-08-28    1991-10-04                NaN   \n",
       "3456      해산 사유 발생               NaT           NaT                NaN   \n",
       "3457     감사의견 의견거절        1991-06-05    1991-07-11                NaN   \n",
       "3458      해산 사유 발생               NaT           NaT                NaN   \n",
       "\n",
       "      ListingShares ToSymbol ToName  \n",
       "0         1194422.0                  \n",
       "1         1278299.0                  \n",
       "2        55969410.0                  \n",
       "3        32791220.0                  \n",
       "4         3995063.0                  \n",
       "...             ...      ...    ...  \n",
       "3454            NaN                  \n",
       "3455            NaN                  \n",
       "3456            NaN                  \n",
       "3457            NaN                  \n",
       "3458            NaN                  \n",
       "\n",
       "[3459 rows x 15 columns]"
      ]
     },
     "execution_count": 56,
     "metadata": {},
     "output_type": "execute_result"
    }
   ],
   "source": [
    "# 2201~2206 기간동안 상폐된 종목들 확인 후 'delete_01_06'으로 저장¶\n",
    "\n",
    "krx_delisting = fdr.StockListing('KRX-DELISTING')\n",
    "krx_delisting"
   ]
  },
  {
   "cell_type": "code",
   "execution_count": 57,
   "id": "3f0ed111-f3a9-4f14-8075-6699fe22bde0",
   "metadata": {},
   "outputs": [],
   "source": [
    "krx_delisting.DelistingDate = krx_delisting.DelistingDate.astype('string')"
   ]
  },
  {
   "cell_type": "code",
   "execution_count": 58,
   "id": "f6a4b91d-d7a4-427b-ba2f-3563cc4541f2",
   "metadata": {},
   "outputs": [],
   "source": [
    "delete_01 = krx_delisting[krx_delisting['DelistingDate'].str.contains('2022-01')]\n",
    "delete_02 = krx_delisting[krx_delisting['DelistingDate'].str.contains('2022-02')]\n",
    "delete_03 = krx_delisting[krx_delisting['DelistingDate'].str.contains('2022-03')]\n",
    "delete_04 = krx_delisting[krx_delisting['DelistingDate'].str.contains('2022-04')]\n",
    "delete_05 = krx_delisting[krx_delisting['DelistingDate'].str.contains('2022-05')]\n",
    "delete_06 = krx_delisting[krx_delisting['DelistingDate'].str.contains('2022-06')]"
   ]
  },
  {
   "cell_type": "code",
   "execution_count": 59,
   "id": "b2f0b23c-bec7-4c8d-9def-677209e01ca6",
   "metadata": {},
   "outputs": [],
   "source": [
    "delete_01_06 = pd.concat([delete_01,delete_02,delete_03,delete_04,delete_05,delete_06])"
   ]
  },
  {
   "cell_type": "code",
   "execution_count": 60,
   "id": "6ecef3c2-9935-48d0-9be7-a20eb8c96a84",
   "metadata": {},
   "outputs": [],
   "source": [
    "delete_01_06.to_csv('delete_01_06.csv',index = False)"
   ]
  },
  {
   "cell_type": "code",
   "execution_count": 61,
   "id": "739d45cc-eb51-469e-b4f9-4b315094c226",
   "metadata": {},
   "outputs": [
    {
     "data": {
      "text/html": [
       "<div>\n",
       "<style scoped>\n",
       "    .dataframe tbody tr th:only-of-type {\n",
       "        vertical-align: middle;\n",
       "    }\n",
       "\n",
       "    .dataframe tbody tr th {\n",
       "        vertical-align: top;\n",
       "    }\n",
       "\n",
       "    .dataframe thead th {\n",
       "        text-align: right;\n",
       "    }\n",
       "</style>\n",
       "<table border=\"1\" class=\"dataframe\">\n",
       "  <thead>\n",
       "    <tr style=\"text-align: right;\">\n",
       "      <th></th>\n",
       "      <th>Symbol</th>\n",
       "      <th>Name</th>\n",
       "      <th>Market</th>\n",
       "      <th>SecuGroup</th>\n",
       "      <th>Kind</th>\n",
       "      <th>ListingDate</th>\n",
       "      <th>DelistingDate</th>\n",
       "      <th>Reason</th>\n",
       "      <th>ArrantEnforceDate</th>\n",
       "      <th>ArrantEndDate</th>\n",
       "      <th>Industry</th>\n",
       "      <th>ParValue</th>\n",
       "      <th>ListingShares</th>\n",
       "      <th>ToSymbol</th>\n",
       "      <th>ToName</th>\n",
       "    </tr>\n",
       "  </thead>\n",
       "  <tbody>\n",
       "    <tr>\n",
       "      <th>110</th>\n",
       "      <td>2903801C</td>\n",
       "      <td>대유 7R</td>\n",
       "      <td>KOSDAQ</td>\n",
       "      <td>신주인수권증서</td>\n",
       "      <td>보통주</td>\n",
       "      <td>2022-01-21</td>\n",
       "      <td>2022-01-28</td>\n",
       "      <td></td>\n",
       "      <td>NaT</td>\n",
       "      <td>NaT</td>\n",
       "      <td></td>\n",
       "      <td>0.0</td>\n",
       "      <td>7992590.0</td>\n",
       "      <td></td>\n",
       "      <td></td>\n",
       "    </tr>\n",
       "    <tr>\n",
       "      <th>148</th>\n",
       "      <td>0340201C</td>\n",
       "      <td>두산중공업 44R</td>\n",
       "      <td>KOSPI</td>\n",
       "      <td>신주인수권증서</td>\n",
       "      <td>보통주</td>\n",
       "      <td>2022-01-21</td>\n",
       "      <td>2022-01-28</td>\n",
       "      <td></td>\n",
       "      <td>NaT</td>\n",
       "      <td>NaT</td>\n",
       "      <td></td>\n",
       "      <td>0.0</td>\n",
       "      <td>66063103.0</td>\n",
       "      <td></td>\n",
       "      <td></td>\n",
       "    </tr>\n",
       "    <tr>\n",
       "      <th>782</th>\n",
       "      <td>101060</td>\n",
       "      <td>SBS미디어홀딩스</td>\n",
       "      <td>KOSPI</td>\n",
       "      <td>주권</td>\n",
       "      <td>보통주</td>\n",
       "      <td>2008-03-24</td>\n",
       "      <td>2022-01-18</td>\n",
       "      <td>해산 사유 발생</td>\n",
       "      <td>NaT</td>\n",
       "      <td>NaT</td>\n",
       "      <td>서비스업</td>\n",
       "      <td>500.0</td>\n",
       "      <td>139896190.0</td>\n",
       "      <td></td>\n",
       "      <td></td>\n",
       "    </tr>\n",
       "    <tr>\n",
       "      <th>783</th>\n",
       "      <td>015350</td>\n",
       "      <td>부산가스</td>\n",
       "      <td>KOSPI</td>\n",
       "      <td>주권</td>\n",
       "      <td>보통주</td>\n",
       "      <td>1997-06-23</td>\n",
       "      <td>2022-01-18</td>\n",
       "      <td>지주회사(최대주주등)의 완전자회사화 등</td>\n",
       "      <td>NaT</td>\n",
       "      <td>NaT</td>\n",
       "      <td>전기가스업</td>\n",
       "      <td>5000.0</td>\n",
       "      <td>11000000.0</td>\n",
       "      <td></td>\n",
       "      <td></td>\n",
       "    </tr>\n",
       "    <tr>\n",
       "      <th>784</th>\n",
       "      <td>221610</td>\n",
       "      <td>자안바이오</td>\n",
       "      <td>KOSDAQ</td>\n",
       "      <td>주권</td>\n",
       "      <td>보통주</td>\n",
       "      <td>2016-01-27</td>\n",
       "      <td>2022-01-05</td>\n",
       "      <td>발행한 어음 또는 수표가 주거래은행에 의하여 최종부도로 결정되거나 거래은행에 의한 ...</td>\n",
       "      <td>2021-12-24</td>\n",
       "      <td>2022-01-04</td>\n",
       "      <td>화학</td>\n",
       "      <td>5000.0</td>\n",
       "      <td>6654797.0</td>\n",
       "      <td></td>\n",
       "      <td></td>\n",
       "    </tr>\n",
       "    <tr>\n",
       "      <th>...</th>\n",
       "      <td>...</td>\n",
       "      <td>...</td>\n",
       "      <td>...</td>\n",
       "      <td>...</td>\n",
       "      <td>...</td>\n",
       "      <td>...</td>\n",
       "      <td>...</td>\n",
       "      <td>...</td>\n",
       "      <td>...</td>\n",
       "      <td>...</td>\n",
       "      <td>...</td>\n",
       "      <td>...</td>\n",
       "      <td>...</td>\n",
       "      <td>...</td>\n",
       "      <td>...</td>\n",
       "    </tr>\n",
       "    <tr>\n",
       "      <th>745</th>\n",
       "      <td>216280</td>\n",
       "      <td>원텍</td>\n",
       "      <td>KONEX</td>\n",
       "      <td>주권</td>\n",
       "      <td>보통주</td>\n",
       "      <td>2015-04-29</td>\n",
       "      <td>2022-06-30</td>\n",
       "      <td>피흡수합병</td>\n",
       "      <td>NaT</td>\n",
       "      <td>NaT</td>\n",
       "      <td>-</td>\n",
       "      <td>500.0</td>\n",
       "      <td>6330040.0</td>\n",
       "      <td></td>\n",
       "      <td></td>\n",
       "    </tr>\n",
       "    <tr>\n",
       "      <th>746</th>\n",
       "      <td>00004217</td>\n",
       "      <td>KR모터스 1WR</td>\n",
       "      <td>KOSPI</td>\n",
       "      <td>신주인수권증권</td>\n",
       "      <td>보통주</td>\n",
       "      <td>2017-08-14</td>\n",
       "      <td>2022-06-29</td>\n",
       "      <td>신주인수권증권 행사기간 및 행사의 만료</td>\n",
       "      <td>NaT</td>\n",
       "      <td>NaT</td>\n",
       "      <td></td>\n",
       "      <td>0.0</td>\n",
       "      <td>30439305.0</td>\n",
       "      <td>000040</td>\n",
       "      <td>KR모터스</td>\n",
       "    </tr>\n",
       "    <tr>\n",
       "      <th>747</th>\n",
       "      <td>176440</td>\n",
       "      <td>에이치엔티</td>\n",
       "      <td>KOSDAQ</td>\n",
       "      <td>주권</td>\n",
       "      <td>보통주</td>\n",
       "      <td>2016-11-28</td>\n",
       "      <td>2022-06-27</td>\n",
       "      <td>기업의 계속성 및 경영의 투명성 등을 종합적을 고려하여 상장폐지기준에 해당한다고 결정</td>\n",
       "      <td>2022-06-16</td>\n",
       "      <td>2022-06-24</td>\n",
       "      <td>IT부품</td>\n",
       "      <td>100.0</td>\n",
       "      <td>85739345.0</td>\n",
       "      <td></td>\n",
       "      <td></td>\n",
       "    </tr>\n",
       "    <tr>\n",
       "      <th>748</th>\n",
       "      <td>00306217</td>\n",
       "      <td>에이프로젠제약 13WR</td>\n",
       "      <td>KOSPI</td>\n",
       "      <td>신주인수권증권</td>\n",
       "      <td>보통주</td>\n",
       "      <td>2017-08-09</td>\n",
       "      <td>2022-06-21</td>\n",
       "      <td>신주인수권증권 행사기간 및 행사의 만료</td>\n",
       "      <td>NaT</td>\n",
       "      <td>NaT</td>\n",
       "      <td></td>\n",
       "      <td>0.0</td>\n",
       "      <td>12181109.0</td>\n",
       "      <td>003060</td>\n",
       "      <td>에이프로젠제약</td>\n",
       "    </tr>\n",
       "    <tr>\n",
       "      <th>749</th>\n",
       "      <td>309900</td>\n",
       "      <td>티티씨디펜스</td>\n",
       "      <td>KONEX</td>\n",
       "      <td>주권</td>\n",
       "      <td>보통주</td>\n",
       "      <td>2019-06-27</td>\n",
       "      <td>2022-06-16</td>\n",
       "      <td>외부감사인의 감사의견 의견거절</td>\n",
       "      <td>2022-06-07</td>\n",
       "      <td>2022-06-15</td>\n",
       "      <td>-</td>\n",
       "      <td>500.0</td>\n",
       "      <td>10000000.0</td>\n",
       "      <td></td>\n",
       "      <td></td>\n",
       "    </tr>\n",
       "  </tbody>\n",
       "</table>\n",
       "<p>68 rows × 15 columns</p>\n",
       "</div>"
      ],
      "text/plain": [
       "       Symbol          Name  Market SecuGroup Kind ListingDate DelistingDate  \\\n",
       "110  2903801C         대유 7R  KOSDAQ   신주인수권증서  보통주  2022-01-21    2022-01-28   \n",
       "148  0340201C     두산중공업 44R   KOSPI   신주인수권증서  보통주  2022-01-21    2022-01-28   \n",
       "782    101060     SBS미디어홀딩스   KOSPI        주권  보통주  2008-03-24    2022-01-18   \n",
       "783    015350          부산가스   KOSPI        주권  보통주  1997-06-23    2022-01-18   \n",
       "784    221610         자안바이오  KOSDAQ        주권  보통주  2016-01-27    2022-01-05   \n",
       "..        ...           ...     ...       ...  ...         ...           ...   \n",
       "745    216280            원텍   KONEX        주권  보통주  2015-04-29    2022-06-30   \n",
       "746  00004217     KR모터스 1WR   KOSPI   신주인수권증권  보통주  2017-08-14    2022-06-29   \n",
       "747    176440         에이치엔티  KOSDAQ        주권  보통주  2016-11-28    2022-06-27   \n",
       "748  00306217  에이프로젠제약 13WR   KOSPI   신주인수권증권  보통주  2017-08-09    2022-06-21   \n",
       "749    309900        티티씨디펜스   KONEX        주권  보통주  2019-06-27    2022-06-16   \n",
       "\n",
       "                                                Reason ArrantEnforceDate  \\\n",
       "110                                                                  NaT   \n",
       "148                                                                  NaT   \n",
       "782                                           해산 사유 발생               NaT   \n",
       "783                              지주회사(최대주주등)의 완전자회사화 등               NaT   \n",
       "784  발행한 어음 또는 수표가 주거래은행에 의하여 최종부도로 결정되거나 거래은행에 의한 ...        2021-12-24   \n",
       "..                                                 ...               ...   \n",
       "745                                              피흡수합병               NaT   \n",
       "746                              신주인수권증권 행사기간 및 행사의 만료               NaT   \n",
       "747    기업의 계속성 및 경영의 투명성 등을 종합적을 고려하여 상장폐지기준에 해당한다고 결정        2022-06-16   \n",
       "748                              신주인수권증권 행사기간 및 행사의 만료               NaT   \n",
       "749                                   외부감사인의 감사의견 의견거절        2022-06-07   \n",
       "\n",
       "    ArrantEndDate Industry  ParValue  ListingShares ToSymbol   ToName  \n",
       "110           NaT                0.0      7992590.0                    \n",
       "148           NaT                0.0     66063103.0                    \n",
       "782           NaT     서비스업     500.0    139896190.0                    \n",
       "783           NaT    전기가스업    5000.0     11000000.0                    \n",
       "784    2022-01-04       화학    5000.0      6654797.0                    \n",
       "..            ...      ...       ...            ...      ...      ...  \n",
       "745           NaT        -     500.0      6330040.0                    \n",
       "746           NaT                0.0     30439305.0   000040    KR모터스  \n",
       "747    2022-06-24     IT부품     100.0     85739345.0                    \n",
       "748           NaT                0.0     12181109.0   003060  에이프로젠제약  \n",
       "749    2022-06-15        -     500.0     10000000.0                    \n",
       "\n",
       "[68 rows x 15 columns]"
      ]
     },
     "execution_count": 61,
     "metadata": {},
     "output_type": "execute_result"
    }
   ],
   "source": [
    "delete_01_06"
   ]
  },
  {
   "cell_type": "code",
   "execution_count": 62,
   "id": "d6a8b358-f6cc-4ee6-9d98-2edf3c95f9ce",
   "metadata": {},
   "outputs": [],
   "source": [
    "# Code_fdr = fdr 에서 불러온 주식, etf 국내 종목코드. \n",
    "# 2201~2206사이 상장폐지 된 종목포함.\n",
    "\n",
    "Code_fdr = list(stocks_fdr.Code) + list(delete_01_06.Symbol) + list(etf_list_fdr.Symbol)"
   ]
  },
  {
   "cell_type": "code",
   "execution_count": 63,
   "id": "55f4f196-2b5f-4c01-b30d-747ca0ae09ea",
   "metadata": {},
   "outputs": [
    {
     "data": {
      "text/plain": [
       "3391"
      ]
     },
     "execution_count": 63,
     "metadata": {},
     "output_type": "execute_result"
    }
   ],
   "source": [
    "len(Code_fdr) # 3391개"
   ]
  },
  {
   "cell_type": "code",
   "execution_count": 73,
   "id": "f7f3ff72-94e8-4ea5-bcbc-255739bb3724",
   "metadata": {},
   "outputs": [],
   "source": [
    "stocks_fdr_m = stocks_fdr[['Code','Name']]\n",
    "delete_01_06_m = delete_01_06[['Symbol','Name']]"
   ]
  },
  {
   "cell_type": "code",
   "execution_count": 80,
   "id": "27dfe90f-afc8-46fe-a1cb-0dc56d5ba881",
   "metadata": {},
   "outputs": [],
   "source": [
    "delete_01_06_m.rename(columns={'Symbol':'Code'},inplace=True)\n",
    "etf_list_fdr.rename(columns={'Symbol':'Code'},inplace=True)"
   ]
  },
  {
   "cell_type": "code",
   "execution_count": 83,
   "id": "6a92200a-303e-4a38-b2c3-18fd696d74f0",
   "metadata": {},
   "outputs": [],
   "source": [
    "# fdr에서 불러온 stock, etf, 상폐 종목 concat.\n",
    "\n",
    "fdr_krx = pd.concat([stocks_fdr_m, etf_list_fdr ,delete_01_06_m])"
   ]
  },
  {
   "cell_type": "code",
   "execution_count": 84,
   "id": "8eca1029-5330-4924-a616-7d63dc9cd04a",
   "metadata": {},
   "outputs": [
    {
     "data": {
      "text/html": [
       "<div>\n",
       "<style scoped>\n",
       "    .dataframe tbody tr th:only-of-type {\n",
       "        vertical-align: middle;\n",
       "    }\n",
       "\n",
       "    .dataframe tbody tr th {\n",
       "        vertical-align: top;\n",
       "    }\n",
       "\n",
       "    .dataframe thead th {\n",
       "        text-align: right;\n",
       "    }\n",
       "</style>\n",
       "<table border=\"1\" class=\"dataframe\">\n",
       "  <thead>\n",
       "    <tr style=\"text-align: right;\">\n",
       "      <th></th>\n",
       "      <th>Code</th>\n",
       "      <th>Name</th>\n",
       "    </tr>\n",
       "  </thead>\n",
       "  <tbody>\n",
       "    <tr>\n",
       "      <th>0</th>\n",
       "      <td>005930</td>\n",
       "      <td>삼성전자</td>\n",
       "    </tr>\n",
       "    <tr>\n",
       "      <th>1</th>\n",
       "      <td>373220</td>\n",
       "      <td>LG에너지솔루션</td>\n",
       "    </tr>\n",
       "    <tr>\n",
       "      <th>2</th>\n",
       "      <td>207940</td>\n",
       "      <td>삼성바이오로직스</td>\n",
       "    </tr>\n",
       "    <tr>\n",
       "      <th>3</th>\n",
       "      <td>000660</td>\n",
       "      <td>SK하이닉스</td>\n",
       "    </tr>\n",
       "    <tr>\n",
       "      <th>4</th>\n",
       "      <td>051910</td>\n",
       "      <td>LG화학</td>\n",
       "    </tr>\n",
       "    <tr>\n",
       "      <th>...</th>\n",
       "      <td>...</td>\n",
       "      <td>...</td>\n",
       "    </tr>\n",
       "    <tr>\n",
       "      <th>745</th>\n",
       "      <td>216280</td>\n",
       "      <td>원텍</td>\n",
       "    </tr>\n",
       "    <tr>\n",
       "      <th>746</th>\n",
       "      <td>00004217</td>\n",
       "      <td>KR모터스 1WR</td>\n",
       "    </tr>\n",
       "    <tr>\n",
       "      <th>747</th>\n",
       "      <td>176440</td>\n",
       "      <td>에이치엔티</td>\n",
       "    </tr>\n",
       "    <tr>\n",
       "      <th>748</th>\n",
       "      <td>00306217</td>\n",
       "      <td>에이프로젠제약 13WR</td>\n",
       "    </tr>\n",
       "    <tr>\n",
       "      <th>749</th>\n",
       "      <td>309900</td>\n",
       "      <td>티티씨디펜스</td>\n",
       "    </tr>\n",
       "  </tbody>\n",
       "</table>\n",
       "<p>3391 rows × 2 columns</p>\n",
       "</div>"
      ],
      "text/plain": [
       "         Code          Name\n",
       "0      005930          삼성전자\n",
       "1      373220      LG에너지솔루션\n",
       "2      207940      삼성바이오로직스\n",
       "3      000660        SK하이닉스\n",
       "4      051910          LG화학\n",
       "..        ...           ...\n",
       "745    216280            원텍\n",
       "746  00004217     KR모터스 1WR\n",
       "747    176440         에이치엔티\n",
       "748  00306217  에이프로젠제약 13WR\n",
       "749    309900        티티씨디펜스\n",
       "\n",
       "[3391 rows x 2 columns]"
      ]
     },
     "execution_count": 84,
     "metadata": {},
     "output_type": "execute_result"
    }
   ],
   "source": [
    "fdr_krx"
   ]
  },
  {
   "cell_type": "markdown",
   "id": "ddf7836e-c6ee-49b3-942b-0ccad2447a8a",
   "metadata": {},
   "source": [
    "- fdr에서 국내 데이터 불러오기"
   ]
  },
  {
   "cell_type": "code",
   "execution_count": null,
   "id": "12ec5fbc-c6a1-4f88-9150-0982f49b7d22",
   "metadata": {},
   "outputs": [],
   "source": [
    "# 여기 코드는 돌리는데 시간이 걸립니다.\n",
    "# 결과  = 'fdr_11_06.csv'\n",
    "\n",
    "df_fdr = pd.DataFrame()\n",
    "\n",
    "for a in Code_fdr :\n",
    "\n",
    "    start_date = '2021-10-29'\n",
    "    end_date = '2022-06-30'\n",
    " \n",
    "    df = fdr.DataReader( a , start=start_date, end=end_date)\n",
    "    df['Code'] = a\n",
    "    df_fdr = pd.concat([df, df_fdr])"
   ]
  },
  {
   "cell_type": "code",
   "execution_count": null,
   "id": "9ab36c10-764b-40e3-951f-2165656976cc",
   "metadata": {},
   "outputs": [],
   "source": [
    "df_fdr = df_fdr.reset_index().merge(fdr_krx , how='left', on = 'Code')"
   ]
  },
  {
   "cell_type": "code",
   "execution_count": null,
   "id": "d5304a51-b9c8-4f18-b5f8-582c55df299c",
   "metadata": {},
   "outputs": [],
   "source": [
    "# 앞에 문자 추가해서 저장해줘야 0 안사라짐.\n",
    "# df_fdr에는 주식과, ETF 만 있으므로 'A'추가.\n",
    "\n",
    "df_fdr.Code = 'A' + df_fdr.Code "
   ]
  },
  {
   "cell_type": "code",
   "execution_count": null,
   "id": "cd468066-67f0-491b-b1ef-2ed7dc5a319a",
   "metadata": {},
   "outputs": [],
   "source": [
    "df_fdr.rename(columns={'index':'Date'},inplace=True)"
   ]
  },
  {
   "cell_type": "code",
   "execution_count": null,
   "id": "0efef15d-0b78-42ce-bede-2d99225fc110",
   "metadata": {},
   "outputs": [],
   "source": [
    "# 이후 사용의 편리함을 위해 년월로만 표기된 열 추가\n",
    "df_fdr['Date_m'] = df_fdr['Date'].dt.strftime('%Y-%m')"
   ]
  },
  {
   "cell_type": "code",
   "execution_count": 4,
   "id": "c85b9aa0-beb7-4f91-bf64-d73e9713a0b2",
   "metadata": {},
   "outputs": [],
   "source": [
    "# 위 데이터 불러오는 코드가 시간이 오래 걸리므로 미리 저장해놓았습니다.\n",
    "\n",
    "df_fdr = pd.read_csv('fdr_11_06.csv')"
   ]
  },
  {
   "cell_type": "code",
   "execution_count": 5,
   "id": "1427be86-b0a0-41ca-8905-4e6106665f44",
   "metadata": {},
   "outputs": [
    {
     "name": "stdout",
     "output_type": "stream",
     "text": [
      "<class 'pandas.core.frame.DataFrame'>\n",
      "RangeIndex: 520876 entries, 0 to 520875\n",
      "Data columns (total 11 columns):\n",
      " #   Column      Non-Null Count   Dtype  \n",
      "---  ------      --------------   -----  \n",
      " 0   Date        520876 non-null  object \n",
      " 1   Open        520876 non-null  float64\n",
      " 2   High        520876 non-null  float64\n",
      " 3   Low         520876 non-null  float64\n",
      " 4   Close       520876 non-null  float64\n",
      " 5   Volume      520876 non-null  float64\n",
      " 6   Change      520717 non-null  float64\n",
      " 7   Code        520876 non-null  object \n",
      " 8   Name        520876 non-null  object \n",
      " 9   Change_cal  520875 non-null  float64\n",
      " 10  Date_m      520876 non-null  object \n",
      "dtypes: float64(7), object(4)\n",
      "memory usage: 43.7+ MB\n"
     ]
    }
   ],
   "source": [
    "df_fdr.info()"
   ]
  },
  {
   "cell_type": "markdown",
   "id": "937fce32-02b3-4196-bdce-32a82b7dd8e8",
   "metadata": {},
   "source": [
    "- 코스피 지수 불러오기"
   ]
  },
  {
   "cell_type": "code",
   "execution_count": 12,
   "id": "ee3a7572-99f3-44b0-91b5-c927e5a456c9",
   "metadata": {},
   "outputs": [],
   "source": [
    "# 코스피 지수 불러오기 \n",
    "df_kospi = fdr.DataReader('KS11','2021-10-29','2022-06-30')"
   ]
  },
  {
   "cell_type": "code",
   "execution_count": 13,
   "id": "7e962411-ccbf-4478-98ad-216610f70695",
   "metadata": {},
   "outputs": [],
   "source": [
    "df_kospi.reset_index(inplace=True)"
   ]
  },
  {
   "cell_type": "code",
   "execution_count": 14,
   "id": "7c48bb04-e30b-416b-b000-ddeda8db4565",
   "metadata": {},
   "outputs": [],
   "source": [
    "df_kospi.to_csv('df_kospi.csv',index=False)"
   ]
  },
  {
   "cell_type": "markdown",
   "id": "182cbc0f-0448-4731-b1ed-b807d1d97b3b",
   "metadata": {},
   "source": [
    "#### <해외>"
   ]
  },
  {
   "cell_type": "code",
   "execution_count": 51,
   "id": "b7a42f41-7be6-4e2d-9f1f-ee9b9318103f",
   "metadata": {},
   "outputs": [],
   "source": [
    "oss_ticker = pd.read_csv('oss_isin_ticker.csv')"
   ]
  },
  {
   "cell_type": "code",
   "execution_count": 52,
   "id": "69f9a22b-32e2-4014-b088-21e5541f3b7f",
   "metadata": {},
   "outputs": [],
   "source": [
    "oss_ticker.symbol = oss_ticker.symbol.astype('string')"
   ]
  },
  {
   "cell_type": "code",
   "execution_count": 53,
   "id": "8b4ea3d5-ff74-4070-a763-0bc304751002",
   "metadata": {},
   "outputs": [],
   "source": [
    "oss_ticker.dropna(inplace=True)"
   ]
  },
  {
   "cell_type": "code",
   "execution_count": 54,
   "id": "2b98caae-d1f4-4de0-8044-c43789cd401c",
   "metadata": {},
   "outputs": [
    {
     "name": "stdout",
     "output_type": "stream",
     "text": [
      "<class 'pandas.core.frame.DataFrame'>\n",
      "Int64Index: 1226 entries, 0 to 1276\n",
      "Data columns (total 3 columns):\n",
      " #   Column  Non-Null Count  Dtype \n",
      "---  ------  --------------  ----- \n",
      " 0   iem_cd  1226 non-null   object\n",
      " 1   cur_cd  1226 non-null   object\n",
      " 2   symbol  1226 non-null   string\n",
      "dtypes: object(2), string(1)\n",
      "memory usage: 38.3+ KB\n"
     ]
    }
   ],
   "source": [
    "oss_ticker.info()"
   ]
  },
  {
   "cell_type": "code",
   "execution_count": 55,
   "id": "54e2572a-7596-487c-b23d-15ece540c14c",
   "metadata": {},
   "outputs": [],
   "source": [
    "code_oss = list(oss_ticker.symbol)"
   ]
  },
  {
   "cell_type": "markdown",
   "id": "d0149e14-f469-456d-a33f-0a8505f8fe70",
   "metadata": {},
   "source": [
    "#### - 해외 데이터 불러오기 위한 for 문"
   ]
  },
  {
   "cell_type": "code",
   "execution_count": null,
   "id": "70c9f928-0173-4686-90d6-8a0ae7c2b10b",
   "metadata": {},
   "outputs": [],
   "source": [
    "code_oss = list(oss_ticker.symbol)"
   ]
  },
  {
   "cell_type": "code",
   "execution_count": null,
   "id": "be29d044-be66-4d83-b39c-cb02f332dbce",
   "metadata": {},
   "outputs": [],
   "source": [
    "## yfinance로 해외데이터 불러오기 (다소 오래걸림..)\n",
    "## 결과 : oss_fdr\n",
    "\n",
    "oss_fdr = pd.DataFrame()\n",
    "\n",
    "for a in code_oss :\n",
    "    yf.download(a, start=start_date, end=end_date)\n",
    "    df['Code'] = a\n",
    "    oss_fdr = pd.concat([df, oss_fdr])"
   ]
  },
  {
   "cell_type": "code",
   "execution_count": null,
   "id": "64427735-495b-486b-b9b0-77a9b84fe280",
   "metadata": {},
   "outputs": [],
   "source": [
    "oss_ticker.rename(columns={'symbol':'Code'},inplace=True)"
   ]
  },
  {
   "cell_type": "code",
   "execution_count": null,
   "id": "f074f4f7-3fdf-4e06-b31d-ceed0a5f87a9",
   "metadata": {},
   "outputs": [],
   "source": [
    "oss_yf = oss_fdr.reset_index().merge(oss_ticker, how='left',on='Code')"
   ]
  },
  {
   "cell_type": "code",
   "execution_count": null,
   "id": "37a48625-4289-40ec-98b4-deec09c205eb",
   "metadata": {},
   "outputs": [],
   "source": [
    "# 이후 편의를 위해 년월에 대한 열 추가.\n",
    "\n",
    "oss_yf['Date_m'] = oss_yf['Date'].dt.strftime('%Y-%m')"
   ]
  },
  {
   "cell_type": "markdown",
   "id": "4ce120d7-d2f7-41f9-8632-bca685366219",
   "metadata": {},
   "source": [
    "- S&P 500"
   ]
  },
  {
   "cell_type": "code",
   "execution_count": 56,
   "id": "940740dd-982f-447c-8004-a0a06804623b",
   "metadata": {},
   "outputs": [
    {
     "name": "stdout",
     "output_type": "stream",
     "text": [
      "[*********************100%***********************]  1 of 1 completed\n"
     ]
    }
   ],
   "source": [
    "Snp500 = yf.download('^GSPC', start='2021-10-29', end='2022-06-30')"
   ]
  },
  {
   "cell_type": "code",
   "execution_count": 57,
   "id": "4926a8d3-cb71-412c-a942-02d65216dc10",
   "metadata": {},
   "outputs": [],
   "source": [
    "Snp500.reset_index(inplace=True)"
   ]
  },
  {
   "cell_type": "code",
   "execution_count": 58,
   "id": "b7168b1f-9144-4a6f-ab92-97b30070b097",
   "metadata": {},
   "outputs": [
    {
     "data": {
      "text/html": [
       "<div>\n",
       "<style scoped>\n",
       "    .dataframe tbody tr th:only-of-type {\n",
       "        vertical-align: middle;\n",
       "    }\n",
       "\n",
       "    .dataframe tbody tr th {\n",
       "        vertical-align: top;\n",
       "    }\n",
       "\n",
       "    .dataframe thead th {\n",
       "        text-align: right;\n",
       "    }\n",
       "</style>\n",
       "<table border=\"1\" class=\"dataframe\">\n",
       "  <thead>\n",
       "    <tr style=\"text-align: right;\">\n",
       "      <th></th>\n",
       "      <th>Date</th>\n",
       "      <th>Open</th>\n",
       "      <th>High</th>\n",
       "      <th>Low</th>\n",
       "      <th>Close</th>\n",
       "      <th>Adj Close</th>\n",
       "      <th>Volume</th>\n",
       "    </tr>\n",
       "  </thead>\n",
       "  <tbody>\n",
       "    <tr>\n",
       "      <th>0</th>\n",
       "      <td>2021-10-29</td>\n",
       "      <td>4572.870117</td>\n",
       "      <td>4608.080078</td>\n",
       "      <td>4567.589844</td>\n",
       "      <td>4605.379883</td>\n",
       "      <td>4605.379883</td>\n",
       "      <td>4510200000</td>\n",
       "    </tr>\n",
       "    <tr>\n",
       "      <th>1</th>\n",
       "      <td>2021-11-01</td>\n",
       "      <td>4610.620117</td>\n",
       "      <td>4620.339844</td>\n",
       "      <td>4595.060059</td>\n",
       "      <td>4613.669922</td>\n",
       "      <td>4613.669922</td>\n",
       "      <td>3971540000</td>\n",
       "    </tr>\n",
       "    <tr>\n",
       "      <th>2</th>\n",
       "      <td>2021-11-02</td>\n",
       "      <td>4613.339844</td>\n",
       "      <td>4635.149902</td>\n",
       "      <td>4613.339844</td>\n",
       "      <td>4630.649902</td>\n",
       "      <td>4630.649902</td>\n",
       "      <td>3975250000</td>\n",
       "    </tr>\n",
       "    <tr>\n",
       "      <th>3</th>\n",
       "      <td>2021-11-03</td>\n",
       "      <td>4630.649902</td>\n",
       "      <td>4663.459961</td>\n",
       "      <td>4621.189941</td>\n",
       "      <td>4660.569824</td>\n",
       "      <td>4660.569824</td>\n",
       "      <td>4319660000</td>\n",
       "    </tr>\n",
       "    <tr>\n",
       "      <th>4</th>\n",
       "      <td>2021-11-04</td>\n",
       "      <td>4662.930176</td>\n",
       "      <td>4683.000000</td>\n",
       "      <td>4662.589844</td>\n",
       "      <td>4680.060059</td>\n",
       "      <td>4680.060059</td>\n",
       "      <td>4462300000</td>\n",
       "    </tr>\n",
       "    <tr>\n",
       "      <th>...</th>\n",
       "      <td>...</td>\n",
       "      <td>...</td>\n",
       "      <td>...</td>\n",
       "      <td>...</td>\n",
       "      <td>...</td>\n",
       "      <td>...</td>\n",
       "      <td>...</td>\n",
       "    </tr>\n",
       "    <tr>\n",
       "      <th>162</th>\n",
       "      <td>2022-06-23</td>\n",
       "      <td>3774.709961</td>\n",
       "      <td>3802.580078</td>\n",
       "      <td>3743.520020</td>\n",
       "      <td>3795.729980</td>\n",
       "      <td>3795.729980</td>\n",
       "      <td>5098640000</td>\n",
       "    </tr>\n",
       "    <tr>\n",
       "      <th>163</th>\n",
       "      <td>2022-06-24</td>\n",
       "      <td>3821.750000</td>\n",
       "      <td>3913.649902</td>\n",
       "      <td>3821.750000</td>\n",
       "      <td>3911.739990</td>\n",
       "      <td>3911.739990</td>\n",
       "      <td>8120260000</td>\n",
       "    </tr>\n",
       "    <tr>\n",
       "      <th>164</th>\n",
       "      <td>2022-06-27</td>\n",
       "      <td>3920.760010</td>\n",
       "      <td>3927.719971</td>\n",
       "      <td>3889.659912</td>\n",
       "      <td>3900.110107</td>\n",
       "      <td>3900.110107</td>\n",
       "      <td>4325310000</td>\n",
       "    </tr>\n",
       "    <tr>\n",
       "      <th>165</th>\n",
       "      <td>2022-06-28</td>\n",
       "      <td>3913.000000</td>\n",
       "      <td>3945.860107</td>\n",
       "      <td>3820.139893</td>\n",
       "      <td>3821.550049</td>\n",
       "      <td>3821.550049</td>\n",
       "      <td>4270120000</td>\n",
       "    </tr>\n",
       "    <tr>\n",
       "      <th>166</th>\n",
       "      <td>2022-06-29</td>\n",
       "      <td>3825.090088</td>\n",
       "      <td>3836.500000</td>\n",
       "      <td>3799.020020</td>\n",
       "      <td>3818.830078</td>\n",
       "      <td>3818.830078</td>\n",
       "      <td>4211240000</td>\n",
       "    </tr>\n",
       "  </tbody>\n",
       "</table>\n",
       "<p>167 rows × 7 columns</p>\n",
       "</div>"
      ],
      "text/plain": [
       "          Date         Open         High          Low        Close  \\\n",
       "0   2021-10-29  4572.870117  4608.080078  4567.589844  4605.379883   \n",
       "1   2021-11-01  4610.620117  4620.339844  4595.060059  4613.669922   \n",
       "2   2021-11-02  4613.339844  4635.149902  4613.339844  4630.649902   \n",
       "3   2021-11-03  4630.649902  4663.459961  4621.189941  4660.569824   \n",
       "4   2021-11-04  4662.930176  4683.000000  4662.589844  4680.060059   \n",
       "..         ...          ...          ...          ...          ...   \n",
       "162 2022-06-23  3774.709961  3802.580078  3743.520020  3795.729980   \n",
       "163 2022-06-24  3821.750000  3913.649902  3821.750000  3911.739990   \n",
       "164 2022-06-27  3920.760010  3927.719971  3889.659912  3900.110107   \n",
       "165 2022-06-28  3913.000000  3945.860107  3820.139893  3821.550049   \n",
       "166 2022-06-29  3825.090088  3836.500000  3799.020020  3818.830078   \n",
       "\n",
       "       Adj Close      Volume  \n",
       "0    4605.379883  4510200000  \n",
       "1    4613.669922  3971540000  \n",
       "2    4630.649902  3975250000  \n",
       "3    4660.569824  4319660000  \n",
       "4    4680.060059  4462300000  \n",
       "..           ...         ...  \n",
       "162  3795.729980  5098640000  \n",
       "163  3911.739990  8120260000  \n",
       "164  3900.110107  4325310000  \n",
       "165  3821.550049  4270120000  \n",
       "166  3818.830078  4211240000  \n",
       "\n",
       "[167 rows x 7 columns]"
      ]
     },
     "execution_count": 58,
     "metadata": {},
     "output_type": "execute_result"
    }
   ],
   "source": [
    "Snp500"
   ]
  },
  {
   "cell_type": "markdown",
   "id": "6d9a2ebd-a408-4ff4-ba3a-b538dbda7896",
   "metadata": {
    "tags": []
   },
   "source": [
    "## 변수 생성\n",
    "1. 포트폴리오 베타\n",
    "2. 월평균 일일 거래 빈도\n",
    "3. 우량주 투자 비율\n",
    "4. 파생상품 보유 개수 (국내만)\n",
    "5. 정보 수집 성향 지수"
   ]
  },
  {
   "cell_type": "markdown",
   "id": "032c2edf-2863-4852-bf25-ddc7b76ec294",
   "metadata": {
    "tags": []
   },
   "source": [
    "### 종목별 가중치 계산"
   ]
  },
  {
   "cell_type": "code",
   "execution_count": null,
   "id": "064adda8-31dc-4c42-87fb-c5235fc780cb",
   "metadata": {},
   "outputs": [],
   "source": [
    "# 계좌/고객정보년월/종목코드에 따라 결제기준 현재평가 금액 합계 계산 \n",
    "\n",
    "## 종목당 투자금액 확인\n",
    "bnc_grouped = bnc.groupby(['act_no', 'bse_ym', 'iem_cd'])[['stl_bse_now_eal_amt']].sum()\n",
    "bnc_grouped"
   ]
  },
  {
   "cell_type": "code",
   "execution_count": null,
   "id": "f4608aab-dac0-42a5-8d1b-58405d5f32d1",
   "metadata": {},
   "outputs": [],
   "source": [
    "# 고객정보년월당 투자금액 확인 (계좌 하나당 월별 주식 잔고 합계 확인)\n",
    "bnc_grouped.sum(axis =0, level= [0,1])"
   ]
  },
  {
   "cell_type": "code",
   "execution_count": null,
   "id": "95e83e47-5f67-4d52-a5dd-d9fdc0928735",
   "metadata": {},
   "outputs": [],
   "source": [
    "# dist (개별 종목에 대한 투자 비율) = (개별 종목 투자 금액) / (보유 종목들에 대한 총 투자 금액)\n",
    "bnc_grouped['dist'] = bnc_grouped.sum(axis=0, level=[0,1,2])/bnc_grouped.sum(axis =0, level= [0,1] )\n",
    "bnc_grouped = bnc_grouped.fillna(0)"
   ]
  },
  {
   "cell_type": "code",
   "execution_count": null,
   "id": "25fbba55-7137-45c8-997c-64a54edbf6dd",
   "metadata": {},
   "outputs": [],
   "source": [
    "bnc_grouped"
   ]
  },
  {
   "cell_type": "code",
   "execution_count": null,
   "id": "aca8c474-7186-473b-8120-b0cd12a0dc9b",
   "metadata": {},
   "outputs": [],
   "source": [
    "bnc_grouped.reset_index(inplace = True)\n",
    "bnc_grouped = bnc_grouped.rename(columns = {'stl_bse_now_eal_amt' : 'tot_amt' })\n",
    "bnc_grouped"
   ]
  },
  {
   "cell_type": "code",
   "execution_count": null,
   "id": "1bf13da8-5ca5-4bde-a697-6e98af2a0c72",
   "metadata": {},
   "outputs": [],
   "source": [
    "bnc_grouped.to_csv('bnc_dist.csv', index= False)"
   ]
  },
  {
   "cell_type": "markdown",
   "id": "581244cb-2e69-4a16-9795-6acfc64ae507",
   "metadata": {
    "jp-MarkdownHeadingCollapsed": true,
    "tags": []
   },
   "source": [
    "### 1) 포트폴리오 베타 (월 말일 기준)"
   ]
  },
  {
   "cell_type": "markdown",
   "id": "4b389779-a1c8-46f2-be47-d2acc5c0c06d",
   "metadata": {
    "tags": []
   },
   "source": [
    "#### < 국내 >"
   ]
  },
  {
   "cell_type": "markdown",
   "id": "f0bdfc15-96ce-41a0-8d6b-2d56a91072e6",
   "metadata": {},
   "source": [
    "- stock/ETF"
   ]
  },
  {
   "cell_type": "code",
   "execution_count": 6,
   "id": "d9cc96e3-d73a-4e5c-a6d9-0fdfb6ecaa02",
   "metadata": {},
   "outputs": [],
   "source": [
    "df_fdr_1 = df_fdr[df_fdr['Date'].between('2021-10-28', '2022-01-31')]\n",
    "df_fdr_2 = df_fdr[df_fdr['Date'].between('2021-11-29', '2022-02-28')]\n",
    "df_fdr_3 = df_fdr[df_fdr['Date'].between('2021-12-29', '2022-03-31')]\n",
    "df_fdr_4 = df_fdr[df_fdr['Date'].between('2022-01-28', '2022-04-30')]\n",
    "df_fdr_5 = df_fdr[df_fdr['Date'].between('2022-02-26', '2022-05-31')]\n",
    "df_fdr_6 = df_fdr[df_fdr['Date'].between('2022-03-28', '2022-06-30')]\n"
   ]
  },
  {
   "cell_type": "code",
   "execution_count": 7,
   "id": "8876880a-4c67-485c-a2b0-570f36e3dc71",
   "metadata": {},
   "outputs": [],
   "source": [
    "# 등락률 구하기\n",
    "df_fdr_1['Change_cal'] = (df_fdr_1['Close'] - df_fdr_1['Close'].shift(1)) / df_fdr_1['Close'].shift(1) * 100\n",
    "df_fdr_2['Change_cal'] = (df_fdr_2['Close'] - df_fdr_2['Close'].shift(1)) / df_fdr_2['Close'].shift(1) * 100\n",
    "df_fdr_3['Change_cal'] = (df_fdr_3['Close'] - df_fdr_3['Close'].shift(1)) / df_fdr_3['Close'].shift(1) * 100\n",
    "df_fdr_4['Change_cal'] = (df_fdr_4['Close'] - df_fdr_4['Close'].shift(1)) / df_fdr_4['Close'].shift(1) * 100\n",
    "df_fdr_5['Change_cal'] = (df_fdr_5['Close'] - df_fdr_5['Close'].shift(1)) / df_fdr_5['Close'].shift(1) * 100\n",
    "df_fdr_6['Change_cal'] = (df_fdr_6['Close'] - df_fdr_6['Close'].shift(1)) / df_fdr_6['Close'].shift(1) * 100"
   ]
  },
  {
   "cell_type": "code",
   "execution_count": 8,
   "id": "f6ce41f7-5640-41b4-b625-d867408e26a7",
   "metadata": {},
   "outputs": [],
   "source": [
    "dfr_1 = df_fdr_1[df_fdr_1['Date_m'].between('2021-11', '2022-01')]\n",
    "dfr_2 = df_fdr_2[df_fdr_2['Date_m'].between('2021-12', '2022-02')]\n",
    "dfr_3 = df_fdr_3[df_fdr_3['Date_m'].between('2022-01', '2022-03')]\n",
    "dfr_4 = df_fdr_4[df_fdr_4['Date_m'].between('2022-02', '2022-04')]\n",
    "dfr_5 = df_fdr_5[df_fdr_5['Date_m'].between('2022-03', '2022-05')]\n",
    "dfr_6 = df_fdr_6[df_fdr_6['Date_m'].between('2022-04', '2022-06')]\n"
   ]
  },
  {
   "cell_type": "code",
   "execution_count": 9,
   "id": "f87565e0-65f6-40a7-919a-d52515f48e04",
   "metadata": {},
   "outputs": [],
   "source": [
    "grouped1 = dfr_1.groupby(['Code'])\n",
    "grouped2 = dfr_2.groupby(['Code'])\n",
    "grouped3 = dfr_3.groupby(['Code'])\n",
    "grouped4 = dfr_4.groupby(['Code'])\n",
    "grouped5 = dfr_5.groupby(['Code'])\n",
    "grouped6 = dfr_6.groupby(['Code'])"
   ]
  },
  {
   "cell_type": "code",
   "execution_count": 10,
   "id": "0e7b14e9-cb2f-435a-9a3a-7382be0d69de",
   "metadata": {},
   "outputs": [],
   "source": [
    "# 개별종목의 표준편차 구하기.\n",
    "\n",
    "dfr_1['stock_std'] = grouped1.Change_cal.transform('std')\n",
    "dfr_2['stock_std'] = grouped2.Change_cal.transform('std')\n",
    "dfr_3['stock_std'] = grouped3.Change_cal.transform('std')\n",
    "dfr_4['stock_std'] = grouped4.Change_cal.transform('std')\n",
    "dfr_5['stock_std'] = grouped5.Change_cal.transform('std')\n",
    "dfr_6['stock_std'] = grouped6.Change_cal.transform('std')"
   ]
  },
  {
   "cell_type": "code",
   "execution_count": 11,
   "id": "f2e9fb5a-a4ad-4778-aa3c-12b8e215aa66",
   "metadata": {},
   "outputs": [],
   "source": [
    "# 나눠준 파일 모두 저장\n",
    "dfr_1.to_csv('dfr_1.csv',index=False)\n",
    "dfr_2.to_csv('dfr_2.csv',index=False)\n",
    "dfr_3.to_csv('dfr_3.csv',index=False)\n",
    "dfr_4.to_csv('dfr_4.csv',index=False)\n",
    "dfr_5.to_csv('dfr_5.csv',index=False)\n",
    "dfr_6.to_csv('dfr_6.csv',index=False)"
   ]
  },
  {
   "cell_type": "markdown",
   "id": "c09ddca0-5f74-49cd-8061-565c7de36256",
   "metadata": {},
   "source": [
    "- Kospi"
   ]
  },
  {
   "cell_type": "code",
   "execution_count": 15,
   "id": "daee0b65-4491-45a8-a8ed-7b1354a31d3e",
   "metadata": {},
   "outputs": [],
   "source": [
    "# kospi 등락률 구하기\n",
    "df_kospi['Change_cal'] = (df_kospi['Adj Close'] - df_kospi['Adj Close'].shift(1)) / df_kospi['Adj Close'].shift(1) * 100"
   ]
  },
  {
   "cell_type": "code",
   "execution_count": 16,
   "id": "4bab072b-d08a-4b44-893a-da201a8771f7",
   "metadata": {},
   "outputs": [
    {
     "name": "stdout",
     "output_type": "stream",
     "text": [
      "<class 'pandas.core.frame.DataFrame'>\n",
      "RangeIndex: 163 entries, 0 to 162\n",
      "Data columns (total 8 columns):\n",
      " #   Column      Non-Null Count  Dtype         \n",
      "---  ------      --------------  -----         \n",
      " 0   Date        163 non-null    datetime64[ns]\n",
      " 1   Open        163 non-null    float64       \n",
      " 2   High        163 non-null    float64       \n",
      " 3   Low         163 non-null    float64       \n",
      " 4   Close       163 non-null    float64       \n",
      " 5   Adj Close   163 non-null    float64       \n",
      " 6   Volume      163 non-null    int64         \n",
      " 7   Change_cal  162 non-null    float64       \n",
      "dtypes: datetime64[ns](1), float64(6), int64(1)\n",
      "memory usage: 10.3 KB\n"
     ]
    }
   ],
   "source": [
    "df_kospi.info()"
   ]
  },
  {
   "cell_type": "code",
   "execution_count": 17,
   "id": "a7cb5d1d-455b-412b-9cb9-d37488ce9c41",
   "metadata": {},
   "outputs": [],
   "source": [
    "df_kospi.Date = pd.to_datetime(df_kospi.Date)"
   ]
  },
  {
   "cell_type": "code",
   "execution_count": 18,
   "id": "aff3dca5-cadc-4fe3-b29c-9dd6b2c8e581",
   "metadata": {},
   "outputs": [],
   "source": [
    "df_kospi['Date_m'] = df_kospi['Date'].dt.strftime('%Y-%m')\n",
    "\n",
    "kospi_1 = df_kospi[df_kospi['Date_m'].between('2021-11', '2022-01')]\n",
    "kospi_2 = df_kospi[df_kospi['Date_m'].between('2021-12', '2022-02')]\n",
    "kospi_3 = df_kospi[df_kospi['Date_m'].between('2022-01', '2022-03')]\n",
    "kospi_4 = df_kospi[df_kospi['Date_m'].between('2022-02', '2022-04')]\n",
    "kospi_5 = df_kospi[df_kospi['Date_m'].between('2022-03', '2022-05')]\n",
    "kospi_6 = df_kospi[df_kospi['Date_m'].between('2022-04', '2022-06')]\n"
   ]
  },
  {
   "cell_type": "code",
   "execution_count": 19,
   "id": "f3579cfa-b191-46c6-9b55-d115e7aaf779",
   "metadata": {},
   "outputs": [],
   "source": [
    "# 코스피의 표준편차 구하기.\n",
    "\n",
    "kospi_1_std = kospi_1.Change_cal.std()\n",
    "kospi_2_std = kospi_2.Change_cal.std()\n",
    "kospi_3_std = kospi_3.Change_cal.std()\n",
    "kospi_4_std = kospi_4.Change_cal.std()\n",
    "kospi_5_std = kospi_5.Change_cal.std()\n",
    "kospi_6_std = kospi_6.Change_cal.std()"
   ]
  },
  {
   "cell_type": "code",
   "execution_count": 20,
   "id": "d3d36422-9b2c-41e8-aa99-e975204d1c73",
   "metadata": {},
   "outputs": [],
   "source": [
    "kospi_1['kospi_std'] = kospi_1_std\n",
    "kospi_2['kospi_std'] = kospi_2_std\n",
    "kospi_3['kospi_std'] = kospi_3_std\n",
    "kospi_4['kospi_std'] = kospi_4_std\n",
    "kospi_5['kospi_std'] = kospi_5_std\n",
    "kospi_6['kospi_std'] = kospi_6_std"
   ]
  },
  {
   "cell_type": "markdown",
   "id": "a33ea31a-229e-47d1-abea-a18786a670a0",
   "metadata": {},
   "source": [
    "-  stock, etf, kospi 모두 합쳐진 데이터프레임 만들기"
   ]
  },
  {
   "cell_type": "code",
   "execution_count": 21,
   "id": "a576b064-1065-405e-ac55-55c62f34fbab",
   "metadata": {},
   "outputs": [],
   "source": [
    "dfr_1_1 = dfr_1[['Date','Change_cal','Code','stock_std']]\n",
    "dfr_2_2 = dfr_2[['Date','Change_cal','Code','stock_std']]\n",
    "dfr_3_3 = dfr_3[['Date','Change_cal','Code','stock_std']]\n",
    "dfr_4_4 = dfr_4[['Date','Change_cal','Code','stock_std']]\n",
    "dfr_5_5 = dfr_5[['Date','Change_cal','Code','stock_std']]\n",
    "dfr_6_6 = dfr_6[['Date','Change_cal','Code','stock_std']]\n"
   ]
  },
  {
   "cell_type": "code",
   "execution_count": 23,
   "id": "2ad35a2b-08e0-4f9a-bcdd-75d37a3d5cdf",
   "metadata": {},
   "outputs": [],
   "source": [
    "kospi_1_1 = kospi_1[['Date','Change_cal','kospi_std']]\n",
    "kospi_2_2 = kospi_2[['Date','Change_cal','kospi_std']]\n",
    "kospi_3_3 = kospi_3[['Date','Change_cal','kospi_std']]\n",
    "kospi_4_4 = kospi_4[['Date','Change_cal','kospi_std']]\n",
    "kospi_5_5 = kospi_5[['Date','Change_cal','kospi_std']]\n",
    "kospi_6_6 = kospi_6[['Date','Change_cal','kospi_std']]"
   ]
  },
  {
   "cell_type": "code",
   "execution_count": 24,
   "id": "85339272-b233-4bef-827d-113fdf4d6165",
   "metadata": {},
   "outputs": [],
   "source": [
    "dfr_1_1.rename(columns={'Change_cal':'Change_stock','Code':'stock_code'},inplace=True)\n",
    "kospi_1_1.rename(columns={'Change_cal':'Change_kospi'},inplace=True)\n",
    "dfr_2_2.rename(columns={'Change_cal':'Change_stock','Code':'stock_code'},inplace=True)\n",
    "kospi_2_2.rename(columns={'Change_cal':'Change_kospi'},inplace=True)\n",
    "dfr_3_3.rename(columns={'Change_cal':'Change_stock','Code':'stock_code'},inplace=True)\n",
    "kospi_3_3.rename(columns={'Change_cal':'Change_kospi'},inplace=True)\n",
    "dfr_4_4.rename(columns={'Change_cal':'Change_stock','Code':'stock_code'},inplace=True)\n",
    "kospi_4_4.rename(columns={'Change_cal':'Change_kospi'},inplace=True)\n",
    "dfr_5_5.rename(columns={'Change_cal':'Change_stock','Code':'stock_code'},inplace=True)\n",
    "kospi_5_5.rename(columns={'Change_cal':'Change_kospi'},inplace=True)\n",
    "dfr_6_6.rename(columns={'Change_cal':'Change_stock','Code':'stock_code'},inplace=True)\n",
    "kospi_6_6.rename(columns={'Change_cal':'Change_kospi'},inplace=True)"
   ]
  },
  {
   "cell_type": "code",
   "execution_count": 25,
   "id": "2bd5e603-c856-4679-a4a1-c2e81f685db6",
   "metadata": {},
   "outputs": [],
   "source": [
    "dfr_1_1.Date = pd.to_datetime(dfr_1_1.Date)\n",
    "dfr_2_2.Date = pd.to_datetime(dfr_2_2.Date)\n",
    "dfr_3_3.Date = pd.to_datetime(dfr_3_3.Date)\n",
    "dfr_4_4.Date = pd.to_datetime(dfr_4_4.Date)\n",
    "dfr_5_5.Date = pd.to_datetime(dfr_5_5.Date)\n",
    "dfr_6_6.Date = pd.to_datetime(dfr_6_6.Date)"
   ]
  },
  {
   "cell_type": "code",
   "execution_count": 28,
   "id": "e6db4438-0650-4160-b89f-45f722038158",
   "metadata": {},
   "outputs": [],
   "source": [
    "forbeta1 = pd.merge(dfr_1_1,kospi_1_1,how='left',on='Date')\n",
    "forbeta2 = pd.merge(dfr_2_2,kospi_2_2,how='left',on='Date')\n",
    "forbeta3 = pd.merge(dfr_3_3,kospi_3_3,how='left',on='Date')\n",
    "forbeta4 = pd.merge(dfr_4_4,kospi_4_4,how='left',on='Date')\n",
    "forbeta5 = pd.merge(dfr_5_5,kospi_5_5,how='left',on='Date')\n",
    "forbeta6 = pd.merge(dfr_6_6,kospi_6_6,how='left',on='Date')"
   ]
  },
  {
   "cell_type": "code",
   "execution_count": 29,
   "id": "59fbe416-2a19-46e8-8c92-c57ad7973015",
   "metadata": {},
   "outputs": [],
   "source": [
    "#kospi 데이터 불러오는 과정 중, \n",
    "#2022-01-03, 2022-05-09, 2022-06-30 데이터가 누락되어 해당 날 행 제거.\n",
    "\n",
    "forbeta1 = forbeta1.dropna(axis=0)\n",
    "forbeta2 = forbeta2.dropna(axis=0)\n",
    "forbeta3 = forbeta3.dropna(axis=0)\n",
    "forbeta4 = forbeta4.dropna(axis=0)\n",
    "forbeta5 = forbeta5.dropna(axis=0)\n",
    "forbeta6 = forbeta6.dropna(axis=0)"
   ]
  },
  {
   "cell_type": "code",
   "execution_count": 30,
   "id": "42c363b0-ea74-4972-9315-38ef20b3127f",
   "metadata": {},
   "outputs": [
    {
     "name": "stdout",
     "output_type": "stream",
     "text": [
      "<class 'pandas.core.frame.DataFrame'>\n",
      "Int64Index: 195743 entries, 0 to 198863\n",
      "Data columns (total 6 columns):\n",
      " #   Column        Non-Null Count   Dtype         \n",
      "---  ------        --------------   -----         \n",
      " 0   Date          195743 non-null  datetime64[ns]\n",
      " 1   Change_stock  195743 non-null  float64       \n",
      " 2   stock_code    195743 non-null  object        \n",
      " 3   stock_std     195743 non-null  float64       \n",
      " 4   Change_kospi  195743 non-null  float64       \n",
      " 5   kospi_std     195743 non-null  float64       \n",
      "dtypes: datetime64[ns](1), float64(4), object(1)\n",
      "memory usage: 10.5+ MB\n"
     ]
    }
   ],
   "source": [
    "forbeta1.info()"
   ]
  },
  {
   "cell_type": "code",
   "execution_count": 31,
   "id": "b041fd45-4d79-4aa2-a4ba-efa6b100265e",
   "metadata": {
    "scrolled": false
   },
   "outputs": [
    {
     "data": {
      "text/html": [
       "<div>\n",
       "<style scoped>\n",
       "    .dataframe tbody tr th:only-of-type {\n",
       "        vertical-align: middle;\n",
       "    }\n",
       "\n",
       "    .dataframe tbody tr th {\n",
       "        vertical-align: top;\n",
       "    }\n",
       "\n",
       "    .dataframe thead th {\n",
       "        text-align: right;\n",
       "    }\n",
       "</style>\n",
       "<table border=\"1\" class=\"dataframe\">\n",
       "  <thead>\n",
       "    <tr style=\"text-align: right;\">\n",
       "      <th></th>\n",
       "      <th>Date</th>\n",
       "      <th>Change_stock</th>\n",
       "      <th>stock_code</th>\n",
       "      <th>stock_std</th>\n",
       "      <th>Change_kospi</th>\n",
       "      <th>kospi_std</th>\n",
       "    </tr>\n",
       "  </thead>\n",
       "  <tbody>\n",
       "    <tr>\n",
       "      <th>0</th>\n",
       "      <td>2021-11-01</td>\n",
       "      <td>-0.173595</td>\n",
       "      <td>A287320</td>\n",
       "      <td>1.442717</td>\n",
       "      <td>0.278051</td>\n",
       "      <td>1.092023</td>\n",
       "    </tr>\n",
       "    <tr>\n",
       "      <th>1</th>\n",
       "      <td>2021-11-02</td>\n",
       "      <td>2.068461</td>\n",
       "      <td>A287320</td>\n",
       "      <td>1.442717</td>\n",
       "      <td>1.159810</td>\n",
       "      <td>1.092023</td>\n",
       "    </tr>\n",
       "    <tr>\n",
       "      <th>2</th>\n",
       "      <td>2021-11-03</td>\n",
       "      <td>-1.631994</td>\n",
       "      <td>A287320</td>\n",
       "      <td>1.442717</td>\n",
       "      <td>-1.253697</td>\n",
       "      <td>1.092023</td>\n",
       "    </tr>\n",
       "    <tr>\n",
       "      <th>3</th>\n",
       "      <td>2021-11-04</td>\n",
       "      <td>0.091158</td>\n",
       "      <td>A287320</td>\n",
       "      <td>1.442717</td>\n",
       "      <td>0.252377</td>\n",
       "      <td>1.092023</td>\n",
       "    </tr>\n",
       "    <tr>\n",
       "      <th>4</th>\n",
       "      <td>2021-11-05</td>\n",
       "      <td>-0.765027</td>\n",
       "      <td>A287320</td>\n",
       "      <td>1.442717</td>\n",
       "      <td>-0.467614</td>\n",
       "      <td>1.092023</td>\n",
       "    </tr>\n",
       "    <tr>\n",
       "      <th>...</th>\n",
       "      <td>...</td>\n",
       "      <td>...</td>\n",
       "      <td>...</td>\n",
       "      <td>...</td>\n",
       "      <td>...</td>\n",
       "      <td>...</td>\n",
       "    </tr>\n",
       "    <tr>\n",
       "      <th>198859</th>\n",
       "      <td>2022-01-24</td>\n",
       "      <td>-0.661376</td>\n",
       "      <td>A005930</td>\n",
       "      <td>1.391445</td>\n",
       "      <td>-1.492086</td>\n",
       "      <td>1.092023</td>\n",
       "    </tr>\n",
       "    <tr>\n",
       "      <th>198860</th>\n",
       "      <td>2022-01-25</td>\n",
       "      <td>-1.464714</td>\n",
       "      <td>A005930</td>\n",
       "      <td>1.391445</td>\n",
       "      <td>-2.564832</td>\n",
       "      <td>1.092023</td>\n",
       "    </tr>\n",
       "    <tr>\n",
       "      <th>198861</th>\n",
       "      <td>2022-01-26</td>\n",
       "      <td>-0.945946</td>\n",
       "      <td>A005930</td>\n",
       "      <td>1.391445</td>\n",
       "      <td>-0.409864</td>\n",
       "      <td>1.092023</td>\n",
       "    </tr>\n",
       "    <tr>\n",
       "      <th>198862</th>\n",
       "      <td>2022-01-27</td>\n",
       "      <td>-2.728513</td>\n",
       "      <td>A005930</td>\n",
       "      <td>1.391445</td>\n",
       "      <td>-3.497291</td>\n",
       "      <td>1.092023</td>\n",
       "    </tr>\n",
       "    <tr>\n",
       "      <th>198863</th>\n",
       "      <td>2022-01-28</td>\n",
       "      <td>2.805049</td>\n",
       "      <td>A005930</td>\n",
       "      <td>1.391445</td>\n",
       "      <td>1.868437</td>\n",
       "      <td>1.092023</td>\n",
       "    </tr>\n",
       "  </tbody>\n",
       "</table>\n",
       "<p>195743 rows × 6 columns</p>\n",
       "</div>"
      ],
      "text/plain": [
       "             Date  Change_stock stock_code  stock_std  Change_kospi  kospi_std\n",
       "0      2021-11-01     -0.173595    A287320   1.442717      0.278051   1.092023\n",
       "1      2021-11-02      2.068461    A287320   1.442717      1.159810   1.092023\n",
       "2      2021-11-03     -1.631994    A287320   1.442717     -1.253697   1.092023\n",
       "3      2021-11-04      0.091158    A287320   1.442717      0.252377   1.092023\n",
       "4      2021-11-05     -0.765027    A287320   1.442717     -0.467614   1.092023\n",
       "...           ...           ...        ...        ...           ...        ...\n",
       "198859 2022-01-24     -0.661376    A005930   1.391445     -1.492086   1.092023\n",
       "198860 2022-01-25     -1.464714    A005930   1.391445     -2.564832   1.092023\n",
       "198861 2022-01-26     -0.945946    A005930   1.391445     -0.409864   1.092023\n",
       "198862 2022-01-27     -2.728513    A005930   1.391445     -3.497291   1.092023\n",
       "198863 2022-01-28      2.805049    A005930   1.391445      1.868437   1.092023\n",
       "\n",
       "[195743 rows x 6 columns]"
      ]
     },
     "execution_count": 31,
     "metadata": {},
     "output_type": "execute_result"
    }
   ],
   "source": [
    "forbeta1"
   ]
  },
  {
   "cell_type": "markdown",
   "id": "202a68c9-df7d-4610-ac24-a8095206e4f0",
   "metadata": {},
   "source": [
    "- 베타계수 구하기"
   ]
  },
  {
   "cell_type": "code",
   "execution_count": 32,
   "id": "83e6d701-594a-4276-8130-a848fb7681f2",
   "metadata": {},
   "outputs": [],
   "source": [
    "# kospi 와 종목 간 상관계수 구하기\n",
    "corr_stock_kospi = lambda x : x['Change_stock'].corr(x['Change_kospi'])"
   ]
  },
  {
   "cell_type": "code",
   "execution_count": 33,
   "id": "592a39cf-2236-4f5a-9a5e-dfa208792780",
   "metadata": {},
   "outputs": [],
   "source": [
    "# null 값 존재, fdr 데이터 불러오기 오류.\n",
    "# 모든 종가가 다 같은 값으로 불러와져 등락률이 0으로 나와 상관계수를 구할 수 없음. \n",
    "\n",
    "corr1 = pd.DataFrame(forbeta1.groupby('stock_code').apply(corr_stock_kospi))\n",
    "corr2 = pd.DataFrame(forbeta2.groupby('stock_code').apply(corr_stock_kospi))\n",
    "corr3 = pd.DataFrame(forbeta3.groupby('stock_code').apply(corr_stock_kospi))\n",
    "corr4 = pd.DataFrame(forbeta4.groupby('stock_code').apply(corr_stock_kospi))\n",
    "corr5 = pd.DataFrame(forbeta5.groupby('stock_code').apply(corr_stock_kospi))\n",
    "corr6 = pd.DataFrame(forbeta6.groupby('stock_code').apply(corr_stock_kospi))"
   ]
  },
  {
   "cell_type": "code",
   "execution_count": 34,
   "id": "a4af9e7f-c5ff-467b-b5db-ae5f981c5909",
   "metadata": {},
   "outputs": [],
   "source": [
    "forbeta1_ = pd.merge(forbeta1,corr1,how='left',on='stock_code')\n",
    "forbeta2_ = pd.merge(forbeta2,corr2,how='left',on='stock_code')\n",
    "forbeta3_ = pd.merge(forbeta3,corr3,how='left',on='stock_code')\n",
    "forbeta4_ = pd.merge(forbeta4,corr4,how='left',on='stock_code')\n",
    "forbeta5_ = pd.merge(forbeta5,corr5,how='left',on='stock_code')\n",
    "forbeta6_ = pd.merge(forbeta6,corr6,how='left',on='stock_code')"
   ]
  },
  {
   "cell_type": "code",
   "execution_count": 36,
   "id": "c7cb9ae3-d6f4-4570-931d-2d3a6c85b7d9",
   "metadata": {},
   "outputs": [],
   "source": [
    "forbeta1_.rename(columns={0:'corr'},inplace=True)\n",
    "forbeta2_.rename(columns={0:'corr'},inplace=True)\n",
    "forbeta3_.rename(columns={0:'corr'},inplace=True)\n",
    "forbeta4_.rename(columns={0:'corr'},inplace=True)\n",
    "forbeta5_.rename(columns={0:'corr'},inplace=True)\n",
    "forbeta6_.rename(columns={0:'corr'},inplace=True)"
   ]
  },
  {
   "cell_type": "code",
   "execution_count": 37,
   "id": "21d1d53c-dbae-4f26-ae75-3d3b0c9bd3b3",
   "metadata": {},
   "outputs": [],
   "source": [
    "forbeta1_ = forbeta1_.drop_duplicates(['stock_code'])\n",
    "forbeta2_ = forbeta2_.drop_duplicates(['stock_code'])\n",
    "forbeta3_ = forbeta3_.drop_duplicates(['stock_code'])\n",
    "forbeta4_ = forbeta4_.drop_duplicates(['stock_code'])\n",
    "forbeta5_ = forbeta5_.drop_duplicates(['stock_code'])\n",
    "forbeta6_ = forbeta6_.drop_duplicates(['stock_code'])"
   ]
  },
  {
   "cell_type": "code",
   "execution_count": 38,
   "id": "bda85e01-6760-411e-83ba-256671b54ce1",
   "metadata": {},
   "outputs": [],
   "source": [
    "forbeta1_.to_csv('forbeta1_kr.csv',index=False)\n",
    "forbeta2_.to_csv('forbeta2_kr.csv',index=False)\n",
    "forbeta3_.to_csv('forbeta3_kr.csv',index=False)\n",
    "forbeta4_.to_csv('forbeta4_kr.csv',index=False)\n",
    "forbeta5_.to_csv('forbeta5_kr.csv',index=False)\n",
    "forbeta6_.to_csv('forbeta6_kr.csv',index=False)"
   ]
  },
  {
   "cell_type": "code",
   "execution_count": 39,
   "id": "d60d756a-5c56-4392-9607-cc4c9ad03c98",
   "metadata": {},
   "outputs": [],
   "source": [
    "# 베타 생성 함수 만들기\n",
    "# (개별주식 표준편차 * 시장 표준편차 * 둘의 상관계수)/ (시장 표준편차^2)\n",
    "\n",
    "def beta(a,b,c):\n",
    "    return (a*b*c)/(b**2)"
   ]
  },
  {
   "cell_type": "code",
   "execution_count": 40,
   "id": "f50d6eb5-e60f-4c7a-b644-51f99d9f8702",
   "metadata": {},
   "outputs": [],
   "source": [
    "forbeta1_['beta'] = forbeta1_.apply(lambda x : beta(x['corr'],x['kospi_std'],x['stock_std']), axis=1)\n",
    "forbeta2_['beta'] = forbeta2_.apply(lambda x : beta(x['corr'],x['kospi_std'],x['stock_std']), axis=1)\n",
    "forbeta3_['beta'] = forbeta3_.apply(lambda x : beta(x['corr'],x['kospi_std'],x['stock_std']), axis=1)\n",
    "forbeta4_['beta'] = forbeta4_.apply(lambda x : beta(x['corr'],x['kospi_std'],x['stock_std']), axis=1)\n",
    "forbeta5_['beta'] = forbeta5_.apply(lambda x : beta(x['corr'],x['kospi_std'],x['stock_std']), axis=1)\n",
    "forbeta6_['beta'] = forbeta6_.apply(lambda x : beta(x['corr'],x['kospi_std'],x['stock_std']), axis=1)"
   ]
  },
  {
   "cell_type": "code",
   "execution_count": 41,
   "id": "6af0e8dd-9c1f-40e2-a889-84bb17ec68d1",
   "metadata": {},
   "outputs": [],
   "source": [
    "# fdr로 구한 데이터 베타는 다 구함.\n",
    "forbeta1_.to_csv('fdr_beta_1_kr.csv',index=False)\n",
    "forbeta2_.to_csv('fdr_beta_2_kr.csv',index=False)\n",
    "forbeta3_.to_csv('fdr_beta_3_kr.csv',index=False)\n",
    "forbeta4_.to_csv('fdr_beta_4_kr.csv',index=False)\n",
    "forbeta5_.to_csv('fdr_beta_5_kr.csv',index=False)\n",
    "forbeta6_.to_csv('fdr_beta_6_kr.csv',index=False)"
   ]
  },
  {
   "cell_type": "code",
   "execution_count": 42,
   "id": "7925b8e9-c21e-4622-a06e-69e0b0bb4d7f",
   "metadata": {},
   "outputs": [],
   "source": [
    "forbeta1_['bse_ym']='202201'\n",
    "forbeta2_['bse_ym']='202202'\n",
    "forbeta3_['bse_ym']='202203'\n",
    "forbeta4_['bse_ym']='202204'\n",
    "forbeta5_['bse_ym']='202205'\n",
    "forbeta6_['bse_ym']='202206'"
   ]
  },
  {
   "cell_type": "code",
   "execution_count": 43,
   "id": "afda97f2-cb0c-4555-afdc-e583422f24be",
   "metadata": {},
   "outputs": [],
   "source": [
    "fdr_beta_01_06 = pd.concat([forbeta1_,forbeta2_,forbeta3_,forbeta4_,forbeta5_,forbeta6_])"
   ]
  },
  {
   "cell_type": "code",
   "execution_count": 44,
   "id": "21e639e6-6c39-4a82-93c6-019497b1174c",
   "metadata": {},
   "outputs": [],
   "source": [
    "fdr_beta_01_06 = fdr_beta_01_06[['bse_ym','stock_code','beta']]"
   ]
  },
  {
   "cell_type": "code",
   "execution_count": 46,
   "id": "7a1b5b84-c211-4a9f-87ee-3278c176a122",
   "metadata": {},
   "outputs": [],
   "source": [
    "# 베타계수 결측은 0으로 처리.\n",
    "fdr_beta_01_06.beta = fdr_beta_01_06.beta.fillna(0)"
   ]
  },
  {
   "cell_type": "code",
   "execution_count": 47,
   "id": "043b8c88-8871-4131-bd5e-bc4dc7a3dc00",
   "metadata": {},
   "outputs": [
    {
     "name": "stdout",
     "output_type": "stream",
     "text": [
      "<class 'pandas.core.frame.DataFrame'>\n",
      "Int64Index: 19015 entries, 0 to 189936\n",
      "Data columns (total 3 columns):\n",
      " #   Column      Non-Null Count  Dtype  \n",
      "---  ------      --------------  -----  \n",
      " 0   bse_ym      19015 non-null  object \n",
      " 1   stock_code  19015 non-null  object \n",
      " 2   beta        19015 non-null  float64\n",
      "dtypes: float64(1), object(2)\n",
      "memory usage: 594.2+ KB\n"
     ]
    }
   ],
   "source": [
    "fdr_beta_01_06.info()"
   ]
  },
  {
   "cell_type": "code",
   "execution_count": 48,
   "id": "837d0c6e-0ccf-4d9d-8465-8582eb2a5558",
   "metadata": {},
   "outputs": [],
   "source": [
    "fdr_beta_01_06.to_csv('kr_fdr_beta_all.csv',index = False)"
   ]
  },
  {
   "cell_type": "code",
   "execution_count": 49,
   "id": "052d4f11-ea7b-40c6-96e0-552ea21df86a",
   "metadata": {},
   "outputs": [],
   "source": [
    "kr_fdr_beta_all = pd.read_csv('kr_fdr_beta_all.csv')"
   ]
  },
  {
   "cell_type": "markdown",
   "id": "141d5c44-dc2f-44b9-bb52-763f937d03f9",
   "metadata": {},
   "source": [
    "#### < 해외 >"
   ]
  },
  {
   "cell_type": "code",
   "execution_count": null,
   "id": "1f8de673-37cd-42ba-b0cf-5677dfeefd8d",
   "metadata": {},
   "outputs": [],
   "source": [
    "# 90일 베타계수를 구하기 위해 데이터프레임 분리.\n",
    "oss_yf_1 = oss_yf[oss_yf['Date'].between('2021-10-28', '2022-01-31')]\n",
    "oss_yf_2 = oss_yf[oss_yf['Date'].between('2021-11-29', '2022-02-28')]\n",
    "oss_yf_3 = oss_yf[oss_yf['Date'].between('2021-12-29', '2022-03-31')]\n",
    "oss_yf_4 = oss_yf[oss_yf['Date'].between('2022-01-28', '2022-04-30')]\n",
    "oss_yf_5 = oss_yf[oss_yf['Date'].between('2022-02-26', '2022-05-31')]\n",
    "oss_yf_6 = oss_yf[oss_yf['Date'].between('2022-03-28', '2022-06-30')]\n"
   ]
  },
  {
   "cell_type": "code",
   "execution_count": null,
   "id": "a284e615-0a4c-4218-a24f-98d43cec50c6",
   "metadata": {},
   "outputs": [],
   "source": [
    "# 등락률 구하기\n",
    "oss_yf_1['Change_cal'] = (oss_yf_1['Adj Close'] - oss_yf_1['Adj Close'].shift(1)) / oss_yf_1['Adj Close'].shift(1) * 100\n",
    "oss_yf_2['Change_cal'] = (oss_yf_2['Adj Close'] - oss_yf_2['Adj Close'].shift(1)) / oss_yf_2['Adj Close'].shift(1) * 100\n",
    "oss_yf_3['Change_cal'] = (oss_yf_3['Adj Close'] - oss_yf_3['Adj Close'].shift(1)) / oss_yf_3['Adj Close'].shift(1) * 100\n",
    "oss_yf_4['Change_cal'] = (oss_yf_4['Adj Close'] - oss_yf_4['Adj Close'].shift(1)) / oss_yf_4['Adj Close'].shift(1) * 100\n",
    "oss_yf_5['Change_cal'] = (oss_yf_5['Adj Close'] - oss_yf_5['Adj Close'].shift(1)) / oss_yf_5['Adj Close'].shift(1) * 100\n",
    "oss_yf_6['Change_cal'] = (oss_yf_6['Adj Close'] - oss_yf_6['Adj Close'].shift(1)) / oss_yf_6['Adj Close'].shift(1) * 100"
   ]
  },
  {
   "cell_type": "code",
   "execution_count": null,
   "id": "712181e7-89c1-4146-9b28-f6e29e4fd265",
   "metadata": {},
   "outputs": [],
   "source": [
    "oss_yf_1 = oss_yf_1[oss_yf_1['Date_m'].between('2021-11', '2022-01')]\n",
    "oss_yf_2 = oss_yf_2[oss_yf_2['Date_m'].between('2021-12', '2022-02')]\n",
    "oss_yf_3 = oss_yf_3[oss_yf_3['Date_m'].between('2022-01', '2022-03')]\n",
    "oss_yf_4 = oss_yf_4[oss_yf_4['Date_m'].between('2022-02', '2022-04')]\n",
    "oss_yf_5 = oss_yf_5[oss_yf_5['Date_m'].between('2022-03', '2022-05')]\n",
    "oss_yf_6 = oss_yf_6[oss_yf_6['Date_m'].between('2022-04', '2022-06')]\n"
   ]
  },
  {
   "cell_type": "code",
   "execution_count": null,
   "id": "5d0af476-bd67-4af4-a65c-783082b8e054",
   "metadata": {},
   "outputs": [],
   "source": [
    "grouped1 = oss_yf_1.groupby(['Code'])\n",
    "grouped2 = oss_yf_2.groupby(['Code'])\n",
    "grouped3 = oss_yf_3.groupby(['Code'])\n",
    "grouped4 = oss_yf_4.groupby(['Code'])\n",
    "grouped5 = oss_yf_5.groupby(['Code'])\n",
    "grouped6 = oss_yf_6.groupby(['Code'])"
   ]
  },
  {
   "cell_type": "code",
   "execution_count": null,
   "id": "1ea906c9-81f2-44de-b2df-cb75151804d9",
   "metadata": {},
   "outputs": [],
   "source": [
    "# 개별종목의 표준편차 구하기.\n",
    "\n",
    "oss_yf_1['stock_std'] = grouped1.Change_cal.transform('std')\n",
    "oss_yf_2['stock_std'] = grouped2.Change_cal.transform('std')\n",
    "oss_yf_3['stock_std'] = grouped3.Change_cal.transform('std')\n",
    "oss_yf_4['stock_std'] = grouped4.Change_cal.transform('std')\n",
    "oss_yf_5['stock_std'] = grouped5.Change_cal.transform('std')\n",
    "oss_yf_6['stock_std'] = grouped6.Change_cal.transform('std')"
   ]
  },
  {
   "cell_type": "code",
   "execution_count": null,
   "id": "1e7c6370-aa7d-43dc-bda2-8753a6de5553",
   "metadata": {},
   "outputs": [],
   "source": [
    "# 나눠준 파일 다 저장\n",
    "\n",
    "oss_yf_1.to_csv('oss_yf_1.csv',index = False)\n",
    "oss_yf_2.to_csv('oss_yf_2.csv',index = False)\n",
    "oss_yf_3.to_csv('oss_yf_3.csv',index = False)\n",
    "oss_yf_4.to_csv('oss_yf_4.csv',index = False)\n",
    "oss_yf_5.to_csv('oss_yf_5.csv',index = False)\n",
    "oss_yf_6.to_csv('oss_yf_6.csv',index = False)"
   ]
  },
  {
   "cell_type": "markdown",
   "id": "b5e81989-f42e-4003-9fe0-99a30f66a7fa",
   "metadata": {},
   "source": [
    "- S&P 500"
   ]
  },
  {
   "cell_type": "code",
   "execution_count": null,
   "id": "1c72cbef-9616-43c4-acdb-47908bc6fbd5",
   "metadata": {},
   "outputs": [],
   "source": [
    "# S&P500 등락률 구하기\n",
    "Snp500['Change_cal'] = (Snp500['Adj Close'] - Snp500['Adj Close'].shift(1)) / Snp500['Adj Close'].shift(1) * 100"
   ]
  },
  {
   "cell_type": "code",
   "execution_count": null,
   "id": "c4216a05-513d-4a7b-b2b5-02e5418b40bf",
   "metadata": {},
   "outputs": [],
   "source": [
    "Snp500['Date_m'] = Snp500['Date'].dt.strftime('%Y-%m')\n",
    "\n",
    "Snp500_1 = Snp500[Snp500['Date_m'].between('2021-11', '2022-01')]\n",
    "Snp500_2 = Snp500[Snp500['Date_m'].between('2021-12', '2022-02')]\n",
    "Snp500_3 = Snp500[Snp500['Date_m'].between('2022-01', '2022-03')]\n",
    "Snp500_4 = Snp500[Snp500['Date_m'].between('2022-02', '2022-04')]\n",
    "Snp500_5 = Snp500[Snp500['Date_m'].between('2022-03', '2022-05')]\n",
    "Snp500_6 = Snp500[Snp500['Date_m'].between('2022-04', '2022-06')]\n"
   ]
  },
  {
   "cell_type": "code",
   "execution_count": null,
   "id": "f35b256f-b75b-4202-bed3-ea6fbeef7e48",
   "metadata": {},
   "outputs": [],
   "source": [
    "# S&P500의 표준편차 구하기.\n",
    "\n",
    "Snp500_1_std = Snp500_1.Change_cal.std()\n",
    "Snp500_2_std = Snp500_2.Change_cal.std()\n",
    "Snp500_3_std = Snp500_3.Change_cal.std()\n",
    "Snp500_4_std = Snp500_4.Change_cal.std()\n",
    "Snp500_5_std = Snp500_5.Change_cal.std()\n",
    "Snp500_6_std = Snp500_6.Change_cal.std()"
   ]
  },
  {
   "cell_type": "code",
   "execution_count": null,
   "id": "20c97feb-7b6b-469b-891b-da3dbd032f33",
   "metadata": {},
   "outputs": [],
   "source": [
    "Snp500_1['Snp500_std'] = Snp500_1_std\n",
    "Snp500_2['Snp500_std'] = Snp500_2_std\n",
    "Snp500_3['Snp500_std'] = Snp500_3_std\n",
    "Snp500_4['Snp500_std'] = Snp500_4_std\n",
    "Snp500_5['Snp500_std'] = Snp500_5_std\n",
    "Snp500_6['Snp500_std'] = Snp500_6_std"
   ]
  },
  {
   "cell_type": "code",
   "execution_count": null,
   "id": "440ccb8c-25f2-4e9a-82aa-5207199a64e5",
   "metadata": {},
   "outputs": [],
   "source": [
    "oss_yf_1_1 = oss_yf_1[['Date','Code','iem_cd','cur_cd','Change_cal','stock_std']]\n",
    "oss_yf_2_2 = oss_yf_2[['Date','Code','iem_cd','cur_cd','Change_cal','stock_std']]\n",
    "oss_yf_3_3 = oss_yf_3[['Date','Code','iem_cd','cur_cd','Change_cal','stock_std']]\n",
    "oss_yf_4_4 = oss_yf_4[['Date','Code','iem_cd','cur_cd','Change_cal','stock_std']]\n",
    "oss_yf_5_5 = oss_yf_5[['Date','Code','iem_cd','cur_cd','Change_cal','stock_std']]\n",
    "oss_yf_6_6 = oss_yf_6[['Date','Code','iem_cd','cur_cd','Change_cal','stock_std']]"
   ]
  },
  {
   "cell_type": "code",
   "execution_count": null,
   "id": "4ebb7e99-1c37-4ecf-8265-61bef2265736",
   "metadata": {},
   "outputs": [],
   "source": [
    "Snp500_1_1 = Snp500_1[['Date', 'Change_cal','Snp500_std']]\n",
    "Snp500_2_2 = Snp500_2[['Date', 'Change_cal','Snp500_std']]\n",
    "Snp500_3_3 = Snp500_3[['Date', 'Change_cal','Snp500_std']]\n",
    "Snp500_4_4 = Snp500_4[['Date', 'Change_cal','Snp500_std']]\n",
    "Snp500_5_5 = Snp500_5[['Date', 'Change_cal','Snp500_std']]\n",
    "Snp500_6_6 = Snp500_6[['Date', 'Change_cal','Snp500_std']]"
   ]
  },
  {
   "cell_type": "code",
   "execution_count": null,
   "id": "6e6f66c3-2ade-49fd-b9c8-c0c43e1f80f9",
   "metadata": {},
   "outputs": [],
   "source": [
    "oss_yf_1_1.rename(columns={'Change_cal':'Change_stock','Code':'stock_code'},inplace=True)\n",
    "Snp500_1_1.rename(columns={'Change_cal':'Change_snp500'},inplace=True)\n",
    "oss_yf_2_2.rename(columns={'Change_cal':'Change_stock','Code':'stock_code'},inplace=True)\n",
    "Snp500_2_2.rename(columns={'Change_cal':'Change_snp500'},inplace=True)\n",
    "oss_yf_3_3.rename(columns={'Change_cal':'Change_stock','Code':'stock_code'},inplace=True)\n",
    "Snp500_3_3.rename(columns={'Change_cal':'Change_snp500'},inplace=True)\n",
    "oss_yf_4_4.rename(columns={'Change_cal':'Change_stock','Code':'stock_code'},inplace=True)\n",
    "Snp500_4_4.rename(columns={'Change_cal':'Change_snp500'},inplace=True)\n",
    "oss_yf_5_5.rename(columns={'Change_cal':'Change_stock','Code':'stock_code'},inplace=True)\n",
    "Snp500_5_5.rename(columns={'Change_cal':'Change_snp500'},inplace=True)\n",
    "oss_yf_6_6.rename(columns={'Change_cal':'Change_stock','Code':'stock_code'},inplace=True)\n",
    "Snp500_6_6.rename(columns={'Change_cal':'Change_snp500'},inplace=True)"
   ]
  },
  {
   "cell_type": "code",
   "execution_count": null,
   "id": "7e218776-3136-4010-be38-1ce75faf0689",
   "metadata": {},
   "outputs": [],
   "source": [
    "forbeta1 = pd.merge(oss_yf_1_1,Snp500_1_1,how='left',on='Date')\n",
    "forbeta2 = pd.merge(oss_yf_2_2,Snp500_2_2,how='left',on='Date')\n",
    "forbeta3 = pd.merge(oss_yf_3_3,Snp500_3_3,how='left',on='Date')\n",
    "forbeta4 = pd.merge(oss_yf_4_4,Snp500_4_4,how='left',on='Date')\n",
    "forbeta5 = pd.merge(oss_yf_5_5,Snp500_5_5,how='left',on='Date')\n",
    "forbeta6 = pd.merge(oss_yf_6_6,Snp500_6_6,how='left',on='Date')"
   ]
  },
  {
   "cell_type": "code",
   "execution_count": null,
   "id": "f7aa67f9-dfb7-40e6-bca1-856f34a96520",
   "metadata": {},
   "outputs": [],
   "source": [
    "# S&P500 과 종목 간 상관계수 구하기\n",
    "corr_stock_snp500 = lambda x : x['Change_stock'].corr(x['Change_snp500'])"
   ]
  },
  {
   "cell_type": "code",
   "execution_count": null,
   "id": "83e2887d-0a02-4d9b-806b-59831369add4",
   "metadata": {},
   "outputs": [],
   "source": [
    "corr1 = pd.DataFrame(forbeta1.groupby('stock_code').apply(corr_stock_snp500))\n",
    "corr2 = pd.DataFrame(forbeta2.groupby('stock_code').apply(corr_stock_snp500))\n",
    "corr3 = pd.DataFrame(forbeta3.groupby('stock_code').apply(corr_stock_snp500))\n",
    "corr4 = pd.DataFrame(forbeta4.groupby('stock_code').apply(corr_stock_snp500))\n",
    "corr5 = pd.DataFrame(forbeta5.groupby('stock_code').apply(corr_stock_snp500))\n",
    "corr6 = pd.DataFrame(forbeta6.groupby('stock_code').apply(corr_stock_snp500))"
   ]
  },
  {
   "cell_type": "code",
   "execution_count": null,
   "id": "056b7aba-5603-447e-aec4-7c2875ccc75a",
   "metadata": {},
   "outputs": [],
   "source": [
    "forbeta1_ = pd.merge(forbeta1,corr1,how='left',on='stock_code')\n",
    "forbeta2_ = pd.merge(forbeta2,corr2,how='left',on='stock_code')\n",
    "forbeta3_ = pd.merge(forbeta3,corr3,how='left',on='stock_code')\n",
    "forbeta4_ = pd.merge(forbeta4,corr4,how='left',on='stock_code')\n",
    "forbeta5_ = pd.merge(forbeta5,corr5,how='left',on='stock_code')\n",
    "forbeta6_ = pd.merge(forbeta6,corr6,how='left',on='stock_code')"
   ]
  },
  {
   "cell_type": "code",
   "execution_count": null,
   "id": "93db1a2c-d8b1-41d2-b108-5205c4980ff8",
   "metadata": {},
   "outputs": [],
   "source": [
    "forbeta1_.rename(columns={0:'corr'},inplace=True)\n",
    "forbeta2_.rename(columns={0:'corr'},inplace=True)\n",
    "forbeta3_.rename(columns={0:'corr'},inplace=True)\n",
    "forbeta4_.rename(columns={0:'corr'},inplace=True)\n",
    "forbeta5_.rename(columns={0:'corr'},inplace=True)\n",
    "forbeta6_.rename(columns={0:'corr'},inplace=True)"
   ]
  },
  {
   "cell_type": "code",
   "execution_count": null,
   "id": "2da07aca-c559-4711-8d57-ac0103648a5b",
   "metadata": {},
   "outputs": [],
   "source": [
    "forbeta1_ = forbeta1_.drop_duplicates(['stock_code'])\n",
    "forbeta2_ = forbeta2_.drop_duplicates(['stock_code'])\n",
    "forbeta3_ = forbeta3_.drop_duplicates(['stock_code'])\n",
    "forbeta4_ = forbeta4_.drop_duplicates(['stock_code'])\n",
    "forbeta5_ = forbeta5_.drop_duplicates(['stock_code'])\n",
    "forbeta6_ = forbeta6_.drop_duplicates(['stock_code'])"
   ]
  },
  {
   "cell_type": "code",
   "execution_count": null,
   "id": "63bcf6c7-e1b2-4a57-a0e8-65f9456031b6",
   "metadata": {},
   "outputs": [],
   "source": [
    "forbeta1_.to_csv('forbeta1_orr.csv',index=False)\n",
    "forbeta2_.to_csv('forbeta2_orr.csv',index=False)\n",
    "forbeta3_.to_csv('forbeta3_orr.csv',index=False)\n",
    "forbeta4_.to_csv('forbeta4_orr.csv',index=False)\n",
    "forbeta5_.to_csv('forbeta5_orr.csv',index=False)\n",
    "forbeta6_.to_csv('forbeta6_orr.csv',index=False)"
   ]
  },
  {
   "cell_type": "code",
   "execution_count": null,
   "id": "9e134f82-efec-49a4-bcf4-abdad93c2bb3",
   "metadata": {},
   "outputs": [],
   "source": [
    "forbeta1_['beta'] = forbeta1_.apply(lambda x : beta(x['corr'],x['Snp500_std'],x['stock_std']), axis=1)\n",
    "forbeta2_['beta'] = forbeta2_.apply(lambda x : beta(x['corr'],x['Snp500_std'],x['stock_std']), axis=1)\n",
    "forbeta3_['beta'] = forbeta3_.apply(lambda x : beta(x['corr'],x['Snp500_std'],x['stock_std']), axis=1)\n",
    "forbeta4_['beta'] = forbeta4_.apply(lambda x : beta(x['corr'],x['Snp500_std'],x['stock_std']), axis=1)\n",
    "forbeta5_['beta'] = forbeta5_.apply(lambda x : beta(x['corr'],x['Snp500_std'],x['stock_std']), axis=1)\n",
    "forbeta6_['beta'] = forbeta6_.apply(lambda x : beta(x['corr'],x['Snp500_std'],x['stock_std']), axis=1)"
   ]
  },
  {
   "cell_type": "code",
   "execution_count": null,
   "id": "2499cda6-fc66-4dbe-b5bf-d795fd047db1",
   "metadata": {},
   "outputs": [],
   "source": [
    "# yf로 구한 데이터 베타는 다 구함.\n",
    "forbeta1_.to_csv('yf_beta_1.csv',index=False)\n",
    "forbeta2_.to_csv('yf_beta_2.csv',index=False)\n",
    "forbeta3_.to_csv('yf_beta_3.csv',index=False)\n",
    "forbeta4_.to_csv('yf_beta_4.csv',index=False)\n",
    "forbeta5_.to_csv('yf_beta_5.csv',index=False)\n",
    "forbeta6_.to_csv('yf_beta_6.csv',index=False)"
   ]
  },
  {
   "cell_type": "code",
   "execution_count": null,
   "id": "c88a417a-84d5-40f7-af47-158e089740d6",
   "metadata": {},
   "outputs": [],
   "source": [
    "forbeta1_['bse_ym']='202201'\n",
    "forbeta2_['bse_ym']='202202'\n",
    "forbeta3_['bse_ym']='202203'\n",
    "forbeta4_['bse_ym']='202204'\n",
    "forbeta5_['bse_ym']='202205'\n",
    "forbeta6_['bse_ym']='202206'"
   ]
  },
  {
   "cell_type": "code",
   "execution_count": null,
   "id": "c74a16e2-e7f9-468e-9039-060d5c81d891",
   "metadata": {},
   "outputs": [],
   "source": [
    "yf_beta_01_06 = pd.concat([forbeta1_,forbeta2_,forbeta3_,forbeta4_,forbeta5_,forbeta6_])"
   ]
  },
  {
   "cell_type": "code",
   "execution_count": null,
   "id": "062f3ef7-cb82-454c-93a7-0b6207e2b768",
   "metadata": {},
   "outputs": [],
   "source": [
    "yf_beta_01_06.info()"
   ]
  },
  {
   "cell_type": "code",
   "execution_count": null,
   "id": "715d236b-99f8-4e63-8060-a18cee276a17",
   "metadata": {},
   "outputs": [],
   "source": [
    "yf_beta_01_06 = yf_beta_01_06[['bse_ym','iem_cd','beta']]"
   ]
  },
  {
   "cell_type": "code",
   "execution_count": null,
   "id": "8b4ef54c-3eae-4c20-af76-a18c46734216",
   "metadata": {},
   "outputs": [],
   "source": [
    "yf_beta_01_06.to_csv('yf_beta_all.csv',index=False)"
   ]
  },
  {
   "cell_type": "code",
   "execution_count": 59,
   "id": "69b06c8d-a106-4c77-86a2-6f70ecab8283",
   "metadata": {},
   "outputs": [],
   "source": [
    "yf_beta_all = pd.read_csv('yf_beta_all.csv')"
   ]
  },
  {
   "cell_type": "code",
   "execution_count": 62,
   "id": "ba69ee6a-bdbf-4705-84cb-a8b2d31e9a01",
   "metadata": {},
   "outputs": [],
   "source": [
    "kr_fdr_beta_all = pd.read_csv('kr_fdr_beta_all.csv')"
   ]
  },
  {
   "cell_type": "code",
   "execution_count": 64,
   "id": "be41da4b-64d2-418a-8f1e-4d564b30615f",
   "metadata": {},
   "outputs": [
    {
     "data": {
      "text/html": [
       "<div>\n",
       "<style scoped>\n",
       "    .dataframe tbody tr th:only-of-type {\n",
       "        vertical-align: middle;\n",
       "    }\n",
       "\n",
       "    .dataframe tbody tr th {\n",
       "        vertical-align: top;\n",
       "    }\n",
       "\n",
       "    .dataframe thead th {\n",
       "        text-align: right;\n",
       "    }\n",
       "</style>\n",
       "<table border=\"1\" class=\"dataframe\">\n",
       "  <thead>\n",
       "    <tr style=\"text-align: right;\">\n",
       "      <th></th>\n",
       "      <th>bse_ym</th>\n",
       "      <th>stock_code</th>\n",
       "      <th>iem_cd</th>\n",
       "      <th>cur_cd</th>\n",
       "      <th>beta</th>\n",
       "    </tr>\n",
       "  </thead>\n",
       "  <tbody>\n",
       "    <tr>\n",
       "      <th>0</th>\n",
       "      <td>202201</td>\n",
       "      <td>603605.SS</td>\n",
       "      <td>CNE100002TP9</td>\n",
       "      <td>CNY</td>\n",
       "      <td>0.852084</td>\n",
       "    </tr>\n",
       "    <tr>\n",
       "      <th>1</th>\n",
       "      <td>202201</td>\n",
       "      <td>STLA.MI</td>\n",
       "      <td>NL00150001Q9</td>\n",
       "      <td>USD</td>\n",
       "      <td>0.852084</td>\n",
       "    </tr>\n",
       "    <tr>\n",
       "      <th>2</th>\n",
       "      <td>202201</td>\n",
       "      <td>RACE</td>\n",
       "      <td>NL0011585146</td>\n",
       "      <td>USD</td>\n",
       "      <td>0.852084</td>\n",
       "    </tr>\n",
       "    <tr>\n",
       "      <th>3</th>\n",
       "      <td>202201</td>\n",
       "      <td>SVFAU</td>\n",
       "      <td>KYG8601L1106</td>\n",
       "      <td>USD</td>\n",
       "      <td>0.852084</td>\n",
       "    </tr>\n",
       "    <tr>\n",
       "      <th>4</th>\n",
       "      <td>202201</td>\n",
       "      <td>LEV.TO</td>\n",
       "      <td>CA5362211040</td>\n",
       "      <td>USD</td>\n",
       "      <td>0.852084</td>\n",
       "    </tr>\n",
       "    <tr>\n",
       "      <th>...</th>\n",
       "      <td>...</td>\n",
       "      <td>...</td>\n",
       "      <td>...</td>\n",
       "      <td>...</td>\n",
       "      <td>...</td>\n",
       "    </tr>\n",
       "    <tr>\n",
       "      <th>7243</th>\n",
       "      <td>202206</td>\n",
       "      <td>MF</td>\n",
       "      <td>US60500F1057</td>\n",
       "      <td>USD</td>\n",
       "      <td>1.294073</td>\n",
       "    </tr>\n",
       "    <tr>\n",
       "      <th>7244</th>\n",
       "      <td>202206</td>\n",
       "      <td>FNCH</td>\n",
       "      <td>US31773D1019</td>\n",
       "      <td>USD</td>\n",
       "      <td>1.294073</td>\n",
       "    </tr>\n",
       "    <tr>\n",
       "      <th>7245</th>\n",
       "      <td>202206</td>\n",
       "      <td>MULN</td>\n",
       "      <td>US62526P1093</td>\n",
       "      <td>USD</td>\n",
       "      <td>1.294073</td>\n",
       "    </tr>\n",
       "    <tr>\n",
       "      <th>7246</th>\n",
       "      <td>202206</td>\n",
       "      <td>IONQ</td>\n",
       "      <td>US46222L1089</td>\n",
       "      <td>USD</td>\n",
       "      <td>1.294073</td>\n",
       "    </tr>\n",
       "    <tr>\n",
       "      <th>7247</th>\n",
       "      <td>202206</td>\n",
       "      <td>LCID</td>\n",
       "      <td>US5494981039</td>\n",
       "      <td>USD</td>\n",
       "      <td>1.294073</td>\n",
       "    </tr>\n",
       "  </tbody>\n",
       "</table>\n",
       "<p>7248 rows × 5 columns</p>\n",
       "</div>"
      ],
      "text/plain": [
       "      bse_ym stock_code        iem_cd cur_cd      beta\n",
       "0     202201  603605.SS  CNE100002TP9    CNY  0.852084\n",
       "1     202201    STLA.MI  NL00150001Q9    USD  0.852084\n",
       "2     202201       RACE  NL0011585146    USD  0.852084\n",
       "3     202201      SVFAU  KYG8601L1106    USD  0.852084\n",
       "4     202201     LEV.TO  CA5362211040    USD  0.852084\n",
       "...      ...        ...           ...    ...       ...\n",
       "7243  202206         MF  US60500F1057    USD  1.294073\n",
       "7244  202206       FNCH  US31773D1019    USD  1.294073\n",
       "7245  202206       MULN  US62526P1093    USD  1.294073\n",
       "7246  202206       IONQ  US46222L1089    USD  1.294073\n",
       "7247  202206       LCID  US5494981039    USD  1.294073\n",
       "\n",
       "[7248 rows x 5 columns]"
      ]
     },
     "execution_count": 64,
     "metadata": {},
     "output_type": "execute_result"
    }
   ],
   "source": [
    "yf_beta_all"
   ]
  },
  {
   "cell_type": "code",
   "execution_count": 65,
   "id": "bb9a8413-c4b5-435b-8411-ccd9d7473f2e",
   "metadata": {},
   "outputs": [
    {
     "data": {
      "text/html": [
       "<div>\n",
       "<style scoped>\n",
       "    .dataframe tbody tr th:only-of-type {\n",
       "        vertical-align: middle;\n",
       "    }\n",
       "\n",
       "    .dataframe tbody tr th {\n",
       "        vertical-align: top;\n",
       "    }\n",
       "\n",
       "    .dataframe thead th {\n",
       "        text-align: right;\n",
       "    }\n",
       "</style>\n",
       "<table border=\"1\" class=\"dataframe\">\n",
       "  <thead>\n",
       "    <tr style=\"text-align: right;\">\n",
       "      <th></th>\n",
       "      <th>bse_ym</th>\n",
       "      <th>stock_code</th>\n",
       "      <th>beta</th>\n",
       "    </tr>\n",
       "  </thead>\n",
       "  <tbody>\n",
       "    <tr>\n",
       "      <th>0</th>\n",
       "      <td>202201</td>\n",
       "      <td>A287320</td>\n",
       "      <td>1.038303</td>\n",
       "    </tr>\n",
       "    <tr>\n",
       "      <th>1</th>\n",
       "      <td>202201</td>\n",
       "      <td>A252720</td>\n",
       "      <td>0.799408</td>\n",
       "    </tr>\n",
       "    <tr>\n",
       "      <th>2</th>\n",
       "      <td>202201</td>\n",
       "      <td>A252730</td>\n",
       "      <td>0.839871</td>\n",
       "    </tr>\n",
       "    <tr>\n",
       "      <th>3</th>\n",
       "      <td>202201</td>\n",
       "      <td>A334700</td>\n",
       "      <td>-0.083188</td>\n",
       "    </tr>\n",
       "    <tr>\n",
       "      <th>4</th>\n",
       "      <td>202201</td>\n",
       "      <td>A301400</td>\n",
       "      <td>0.998643</td>\n",
       "    </tr>\n",
       "    <tr>\n",
       "      <th>...</th>\n",
       "      <td>...</td>\n",
       "      <td>...</td>\n",
       "      <td>...</td>\n",
       "    </tr>\n",
       "    <tr>\n",
       "      <th>19010</th>\n",
       "      <td>202206</td>\n",
       "      <td>A051910</td>\n",
       "      <td>1.575415</td>\n",
       "    </tr>\n",
       "    <tr>\n",
       "      <th>19011</th>\n",
       "      <td>202206</td>\n",
       "      <td>A000660</td>\n",
       "      <td>1.193967</td>\n",
       "    </tr>\n",
       "    <tr>\n",
       "      <th>19012</th>\n",
       "      <td>202206</td>\n",
       "      <td>A207940</td>\n",
       "      <td>0.519727</td>\n",
       "    </tr>\n",
       "    <tr>\n",
       "      <th>19013</th>\n",
       "      <td>202206</td>\n",
       "      <td>A373220</td>\n",
       "      <td>1.025824</td>\n",
       "    </tr>\n",
       "    <tr>\n",
       "      <th>19014</th>\n",
       "      <td>202206</td>\n",
       "      <td>A005930</td>\n",
       "      <td>0.887154</td>\n",
       "    </tr>\n",
       "  </tbody>\n",
       "</table>\n",
       "<p>19015 rows × 3 columns</p>\n",
       "</div>"
      ],
      "text/plain": [
       "       bse_ym stock_code      beta\n",
       "0      202201    A287320  1.038303\n",
       "1      202201    A252720  0.799408\n",
       "2      202201    A252730  0.839871\n",
       "3      202201    A334700 -0.083188\n",
       "4      202201    A301400  0.998643\n",
       "...       ...        ...       ...\n",
       "19010  202206    A051910  1.575415\n",
       "19011  202206    A000660  1.193967\n",
       "19012  202206    A207940  0.519727\n",
       "19013  202206    A373220  1.025824\n",
       "19014  202206    A005930  0.887154\n",
       "\n",
       "[19015 rows x 3 columns]"
      ]
     },
     "execution_count": 65,
     "metadata": {},
     "output_type": "execute_result"
    }
   ],
   "source": [
    "kr_fdr_beta_all"
   ]
  },
  {
   "cell_type": "markdown",
   "id": "78879d08-79ba-4396-952f-4ea6e35e1fc6",
   "metadata": {},
   "source": [
    "- 국내/ 해외 주식 합치기"
   ]
  },
  {
   "cell_type": "code",
   "execution_count": 68,
   "id": "dc9b8f8c-7f8c-449e-a571-943f35e7c29d",
   "metadata": {},
   "outputs": [],
   "source": [
    "All_beta = pd.concat([kr_fdr_beta_all, yf_beta_all])"
   ]
  },
  {
   "cell_type": "code",
   "execution_count": 69,
   "id": "7dab060b-58b6-4730-bbc9-ab7c29082aff",
   "metadata": {},
   "outputs": [],
   "source": [
    "All_beta = pd.read_csv('All_beta.csv')"
   ]
  },
  {
   "cell_type": "markdown",
   "id": "52c36742-bfc2-4cb5-ab14-f3128d739da4",
   "metadata": {},
   "source": [
    "#### 포트폴리오 베타 구하기"
   ]
  },
  {
   "cell_type": "code",
   "execution_count": 71,
   "id": "e0a2af7a-4fd2-47ef-836a-1f3f6e377856",
   "metadata": {},
   "outputs": [],
   "source": [
    "# 미리 구해놓은 계좌 당 종목별 (금액 * 개수) 가중치 데이터.\n",
    "bnc_dist = pd.read_csv('bnc_dist.csv')"
   ]
  },
  {
   "cell_type": "code",
   "execution_count": 72,
   "id": "c77b76bd-7767-49fc-a345-6471c22ff4ec",
   "metadata": {},
   "outputs": [
    {
     "name": "stdout",
     "output_type": "stream",
     "text": [
      "<class 'pandas.core.frame.DataFrame'>\n",
      "RangeIndex: 366797 entries, 0 to 366796\n",
      "Data columns (total 5 columns):\n",
      " #   Column   Non-Null Count   Dtype  \n",
      "---  ------   --------------   -----  \n",
      " 0   act_no   366797 non-null  object \n",
      " 1   bse_ym   366797 non-null  int64  \n",
      " 2   iem_cd   366797 non-null  object \n",
      " 3   tot_amt  366797 non-null  float64\n",
      " 4   dist     366797 non-null  float64\n",
      "dtypes: float64(2), int64(1), object(2)\n",
      "memory usage: 14.0+ MB\n"
     ]
    }
   ],
   "source": [
    "bnc_dist.info()"
   ]
  },
  {
   "cell_type": "code",
   "execution_count": 73,
   "id": "49f3fb02-58f4-44ea-aab8-d62b90ecd916",
   "metadata": {},
   "outputs": [],
   "source": [
    "merge_bnc = pd.merge(bnc_dist,All_beta,how='left',on=['bse_ym','iem_cd'])"
   ]
  },
  {
   "cell_type": "code",
   "execution_count": 74,
   "id": "fe436589-b51e-42fb-bdd5-16cfd81bfb75",
   "metadata": {},
   "outputs": [],
   "source": [
    "merge_bnc.beta = merge_bnc.beta.fillna(0)"
   ]
  },
  {
   "cell_type": "code",
   "execution_count": null,
   "id": "18f76daf-5009-4304-93a9-175b89146756",
   "metadata": {},
   "outputs": [],
   "source": [
    "merge_bnc['distbeta'] = merge_bnc.dist * merge_bnc.beta"
   ]
  },
  {
   "cell_type": "code",
   "execution_count": null,
   "id": "17010834-aed1-420a-8d66-9edbad75d13d",
   "metadata": {},
   "outputs": [],
   "source": [
    "merge_bnc['portforlio_beta'] = merge_bnc.groupby(['bse_ym','act_no'])['distbeta'].transform('sum')"
   ]
  },
  {
   "cell_type": "code",
   "execution_count": null,
   "id": "e7a14cfa-6744-4a3c-99a2-a23894c7ed5b",
   "metadata": {},
   "outputs": [],
   "source": [
    "portfolio_beta = pd.DataFrame(merge_bnc.groupby(['bse_ym','act_no'])['distbeta'].sum())"
   ]
  },
  {
   "cell_type": "code",
   "execution_count": null,
   "id": "e953ad35-0b47-41ff-b98d-1e5bb437ccb0",
   "metadata": {},
   "outputs": [],
   "source": [
    "portfolio_beta.rename(columns = {'distbeta' : 'portfoliobeta'},inplace=True)"
   ]
  },
  {
   "cell_type": "code",
   "execution_count": null,
   "id": "a94f5483-d853-4511-9a9d-870219ed37c6",
   "metadata": {},
   "outputs": [],
   "source": [
    "portfolio_beta.reset_index(inplace=True)"
   ]
  },
  {
   "cell_type": "code",
   "execution_count": null,
   "id": "d4236dd5-a978-4d71-9f9c-1883c9871c48",
   "metadata": {},
   "outputs": [],
   "source": [
    "portfolio_beta.bse_ym.value_counts()"
   ]
  },
  {
   "cell_type": "code",
   "execution_count": null,
   "id": "afa2a222-8020-4aa2-9788-025cea61944f",
   "metadata": {},
   "outputs": [],
   "source": [
    "# 포트폴리오 베타 파일로 저장.\n",
    "portfolio_beta.to_csv('portfolio_beta_01_06.csv',index=False)"
   ]
  },
  {
   "cell_type": "markdown",
   "id": "e5fb7731-d491-4f28-908e-862bb38dadca",
   "metadata": {
    "jp-MarkdownHeadingCollapsed": true,
    "tags": []
   },
   "source": [
    "### 2.월평균 일일 거래 빈도"
   ]
  },
  {
   "cell_type": "code",
   "execution_count": null,
   "id": "0ebd5b40-06d5-4c5b-96b3-e020e7ccd088",
   "metadata": {},
   "outputs": [],
   "source": [
    "kr_ord = kr[['act_no', 'orr_dt', 'orr_ord']]\n",
    "oss_ord = oss[['act_no', 'orr_dt', 'orr_ord']]"
   ]
  },
  {
   "cell_type": "code",
   "execution_count": null,
   "id": "4f330622-c6b6-4a4b-800b-fc2a0429dce2",
   "metadata": {},
   "outputs": [],
   "source": [
    "kr_ord_act = kr_ord.groupby(['act_no', 'orr_dt'])[['orr_ord']].max()\n",
    "kr_ord_act.reset_index(inplace = True)\n",
    "kr_ord_act"
   ]
  },
  {
   "cell_type": "code",
   "execution_count": null,
   "id": "1e12555e-63df-4e16-b88f-7aa44671dfa2",
   "metadata": {},
   "outputs": [],
   "source": [
    "oss_ord_act = oss_ord.groupby(['act_no', 'orr_dt'])[['orr_ord']].max()\n",
    "oss_ord_act.reset_index(inplace = True)\n",
    "oss_ord_act"
   ]
  },
  {
   "cell_type": "code",
   "execution_count": null,
   "id": "286b591b-1362-4edf-b734-dd5bfe151861",
   "metadata": {},
   "outputs": [],
   "source": [
    "ord = pd.concat([kr_ord_act, oss_ord_act])"
   ]
  },
  {
   "cell_type": "code",
   "execution_count": null,
   "id": "a9ac2004-0e98-4c07-93b1-dd76f59b304d",
   "metadata": {},
   "outputs": [],
   "source": [
    "# 국내 일일 거래건수와 해외 일일 거래 건수 sum\n",
    "ord = ord.groupby(['act_no', 'orr_dt'])[['orr_ord']].sum()\n",
    "ord.reset_index(inplace = True)\n",
    "ord"
   ]
  },
  {
   "cell_type": "code",
   "execution_count": null,
   "id": "232436e6-e276-431b-ad0c-afdc9ac8eca1",
   "metadata": {},
   "outputs": [],
   "source": [
    "ord.info()"
   ]
  },
  {
   "cell_type": "code",
   "execution_count": null,
   "id": "d78b3c16-63f1-461f-8025-2bf2ac5f0866",
   "metadata": {},
   "outputs": [],
   "source": [
    "ord['bse_ym'] = ord['orr_dt'].astype('string').str[:6]\n",
    "ord.head()"
   ]
  },
  {
   "cell_type": "code",
   "execution_count": null,
   "id": "cdb3fe27-1278-45c4-a943-3677d0f45070",
   "metadata": {},
   "outputs": [],
   "source": [
    "ord_mean = ord.groupby(['act_no', 'bse_ym'])[['orr_ord']].mean().round(1)\n",
    "ord_mean.reset_index(inplace = True)\n",
    "\n",
    "# 월별 일평균 거래빈도\n",
    "ord_mean"
   ]
  },
  {
   "cell_type": "code",
   "execution_count": null,
   "id": "b72af7e9-9d5e-4dba-bfd2-5569ef32519c",
   "metadata": {},
   "outputs": [],
   "source": [
    "sns.distplot(ord_mean['orr_ord'])\n",
    "plt.xlim(-2, 50)"
   ]
  },
  {
   "cell_type": "code",
   "execution_count": null,
   "id": "fb1610e6-3a2a-4bf2-a3ec-0dba22735a36",
   "metadata": {},
   "outputs": [],
   "source": [
    "ord_mean.to_csv('일일거래평균.csv', index = False)"
   ]
  },
  {
   "cell_type": "markdown",
   "id": "d3356025-c7b7-4c42-8114-8f8c5e39b726",
   "metadata": {
    "tags": []
   },
   "source": [
    "### 3.우량주 투자 비율"
   ]
  },
  {
   "cell_type": "markdown",
   "id": "4fd1dd9f-f3b2-415d-83bf-6f9b05141fd4",
   "metadata": {},
   "source": [
    "#### 우량주 유무 변수 만들기\n",
    "- 국내, 미국 주식 기준\n",
    "- 우량주 기준 : 시가총액 상위 100등 이내"
   ]
  },
  {
   "cell_type": "code",
   "execution_count": null,
   "id": "6acd1339-2cce-4bf6-bc4e-841d04981a07",
   "metadata": {},
   "outputs": [],
   "source": [
    "# max columns 재설정\n",
    "pd.set_option('display.max_columns', 500)"
   ]
  },
  {
   "cell_type": "code",
   "execution_count": null,
   "id": "b011ae62-2e12-42a6-a875-0a3e65dd7936",
   "metadata": {},
   "outputs": [],
   "source": [
    "# 원본 데이터 손실 방지를 위한 copy\n",
    "info = info.copy()\n",
    "kr = kr.copy()\n",
    "oss = oss.copy()\n",
    "ast = ast.copy()\n",
    "bnc = bnc.copy()\n",
    "GA = GA.copy()\n",
    "\n",
    "# bnc 내 'iem_cd' 공백 제거\n",
    "bnc_marketcap = bnc[['act_no', 'bse_ym' ,'iem_cd']]\n",
    "bnc_marketcap['iem_cd'] = bnc_marketcap['iem_cd'].str.strip()\n",
    "bnc_marketcap['bse_ym'] = bnc_marketcap['bse_ym'].astype('string')\n",
    "bnc_marketcap"
   ]
  },
  {
   "cell_type": "code",
   "execution_count": null,
   "id": "212d561d-b0de-4593-a64e-4173d0a3ecf9",
   "metadata": {},
   "outputs": [],
   "source": [
    "kr_marketcap = pd.read_csv('주식시세데이터(211201-220630).csv')\n",
    "\n",
    "# 필요한 칼럼만 추출\n",
    "kr_marketcap = kr_marketcap[['기준일자', '단축코드', '종목명', '시가총액']]\n",
    "kr_marketcap = kr_marketcap[(kr_marketcap['기준일자'] == 20220128) | (kr_marketcap['기준일자'] == 20220228) | (kr_marketcap['기준일자'] == 20220331) | (kr_marketcap['기준일자'] == 20220429) | (kr_marketcap['기준일자'] == 20220531) | (kr_marketcap['기준일자'] == 20220630)]\n",
    "kr_marketcap['기준일자'] = kr_marketcap['기준일자'].astype('string').str[:6]\n",
    "\n",
    "# 월말 기준 시가총액 상위 100개 종목 추출\n",
    "kr_marketcap100 = kr_marketcap.sort_values(by = '시가총액', ascending = False).groupby(['기준일자']).head(100)\n",
    "kr_marketcap100 = kr_marketcap100.sort_values(by = '기준일자')\n",
    "kr_marketcap100.reset_index(inplace = True)\n",
    "kr_marketcap100 = kr_marketcap100.drop(columns = 'index')\n",
    "kr_marketcap100 = kr_marketcap100[['기준일자', '단축코드']]\n",
    "kr_marketcap100['단축코드'] = 'A' + kr_marketcap100['단축코드']\n",
    "kr_marketcap100 = kr_marketcap100.rename(columns = {'기준일자' : 'bse_ym', '단축코드' : 'iem_cd'})\n",
    "kr_marketcap100['우량주 유무'] = 1\n",
    "kr_marketcap100"
   ]
  },
  {
   "cell_type": "code",
   "execution_count": null,
   "id": "9a7be50c-36cd-4a19-9f68-7bb6d5b38022",
   "metadata": {},
   "outputs": [],
   "source": [
    "kr_marketcap100.info()"
   ]
  },
  {
   "cell_type": "code",
   "execution_count": null,
   "id": "92b622b3-1c08-41f0-887a-6a7586d4ce04",
   "metadata": {},
   "outputs": [],
   "source": [
    "kr_marketcap100.to_csv('국내주식시가총액100위.csv')"
   ]
  },
  {
   "cell_type": "code",
   "execution_count": 78,
   "id": "c248481f-4204-4643-ad8f-5d7ebabd04f7",
   "metadata": {},
   "outputs": [],
   "source": [
    "kr_marketcap100 = pd.read_csv('국내주식시가총액100위.csv')"
   ]
  },
  {
   "cell_type": "code",
   "execution_count": null,
   "id": "4ac53999-3728-42d8-b8e8-1ca8ed62cb29",
   "metadata": {},
   "outputs": [],
   "source": [
    "us_marketcap1 = pd.read_csv('미국시가총액1.csv')\n",
    "us_marketcap2 = pd.read_csv('미국시가총액2.csv')\n",
    "\n",
    "us_marketcap100 = pd.concat([us_marketcap1, us_marketcap2])\n",
    "us_marketcap100.reset_index(inplace = True)\n",
    "us_marketcap100 = us_marketcap100.drop(columns = 'index')\n",
    "us_marketcap100 = us_marketcap100[['기호', '시가 총액']]\n",
    "us_marketcap100 = us_marketcap100.rename(columns = {'기호' : 'symbol'})\n",
    "us_marketcap100"
   ]
  },
  {
   "cell_type": "code",
   "execution_count": null,
   "id": "950f8059-94c4-4946-9b7a-4571162202e4",
   "metadata": {},
   "outputs": [],
   "source": [
    "us_marketcap100.to_csv('미국주식시가총액100위.csv')"
   ]
  },
  {
   "cell_type": "code",
   "execution_count": 79,
   "id": "05772703-291d-46db-ab30-b806317151b7",
   "metadata": {},
   "outputs": [],
   "source": [
    "us_marketcap100 = pd.read_csv('미국주식시가총액100위.csv')"
   ]
  },
  {
   "cell_type": "code",
   "execution_count": 80,
   "id": "db148e01-582a-4906-af17-604b217b96d4",
   "metadata": {},
   "outputs": [
    {
     "data": {
      "text/html": [
       "<div>\n",
       "<style scoped>\n",
       "    .dataframe tbody tr th:only-of-type {\n",
       "        vertical-align: middle;\n",
       "    }\n",
       "\n",
       "    .dataframe tbody tr th {\n",
       "        vertical-align: top;\n",
       "    }\n",
       "\n",
       "    .dataframe thead th {\n",
       "        text-align: right;\n",
       "    }\n",
       "</style>\n",
       "<table border=\"1\" class=\"dataframe\">\n",
       "  <thead>\n",
       "    <tr style=\"text-align: right;\">\n",
       "      <th></th>\n",
       "      <th>iem_cd</th>\n",
       "      <th>cur_cd</th>\n",
       "      <th>symbol</th>\n",
       "    </tr>\n",
       "  </thead>\n",
       "  <tbody>\n",
       "    <tr>\n",
       "      <th>0</th>\n",
       "      <td>US5494981039</td>\n",
       "      <td>USD</td>\n",
       "      <td>LCID</td>\n",
       "    </tr>\n",
       "    <tr>\n",
       "      <th>1</th>\n",
       "      <td>US46222L1089</td>\n",
       "      <td>USD</td>\n",
       "      <td>IONQ</td>\n",
       "    </tr>\n",
       "    <tr>\n",
       "      <th>2</th>\n",
       "      <td>US62526P1093</td>\n",
       "      <td>USD</td>\n",
       "      <td>MULN</td>\n",
       "    </tr>\n",
       "    <tr>\n",
       "      <th>3</th>\n",
       "      <td>US31773D1019</td>\n",
       "      <td>USD</td>\n",
       "      <td>FNCH</td>\n",
       "    </tr>\n",
       "    <tr>\n",
       "      <th>4</th>\n",
       "      <td>US60500F1057</td>\n",
       "      <td>USD</td>\n",
       "      <td>MF</td>\n",
       "    </tr>\n",
       "  </tbody>\n",
       "</table>\n",
       "</div>"
      ],
      "text/plain": [
       "         iem_cd cur_cd symbol\n",
       "0  US5494981039    USD   LCID\n",
       "1  US46222L1089    USD   IONQ\n",
       "2  US62526P1093    USD   MULN\n",
       "3  US31773D1019    USD   FNCH\n",
       "4  US60500F1057    USD     MF"
      ]
     },
     "execution_count": 80,
     "metadata": {},
     "output_type": "execute_result"
    }
   ],
   "source": [
    "oss_ticker = pd.read_csv('oss_isin_ticker.csv')\n",
    "oss_ticker.head()"
   ]
  },
  {
   "cell_type": "code",
   "execution_count": 81,
   "id": "85be4ac1-bc61-4a49-ae32-c7d5100aa1d9",
   "metadata": {},
   "outputs": [
    {
     "data": {
      "text/html": [
       "<div>\n",
       "<style scoped>\n",
       "    .dataframe tbody tr th:only-of-type {\n",
       "        vertical-align: middle;\n",
       "    }\n",
       "\n",
       "    .dataframe tbody tr th {\n",
       "        vertical-align: top;\n",
       "    }\n",
       "\n",
       "    .dataframe thead th {\n",
       "        text-align: right;\n",
       "    }\n",
       "</style>\n",
       "<table border=\"1\" class=\"dataframe\">\n",
       "  <thead>\n",
       "    <tr style=\"text-align: right;\">\n",
       "      <th></th>\n",
       "      <th>iem_cd</th>\n",
       "      <th>우량주 유무</th>\n",
       "    </tr>\n",
       "  </thead>\n",
       "  <tbody>\n",
       "    <tr>\n",
       "      <th>0</th>\n",
       "      <td>US0378331005</td>\n",
       "      <td>1</td>\n",
       "    </tr>\n",
       "    <tr>\n",
       "      <th>1</th>\n",
       "      <td>US5949181045</td>\n",
       "      <td>1</td>\n",
       "    </tr>\n",
       "    <tr>\n",
       "      <th>2</th>\n",
       "      <td>US02079K1079</td>\n",
       "      <td>1</td>\n",
       "    </tr>\n",
       "    <tr>\n",
       "      <th>3</th>\n",
       "      <td>US02079K3059</td>\n",
       "      <td>1</td>\n",
       "    </tr>\n",
       "    <tr>\n",
       "      <th>4</th>\n",
       "      <td>US0231351067</td>\n",
       "      <td>1</td>\n",
       "    </tr>\n",
       "  </tbody>\n",
       "</table>\n",
       "</div>"
      ],
      "text/plain": [
       "         iem_cd  우량주 유무\n",
       "0  US0378331005       1\n",
       "1  US5949181045       1\n",
       "2  US02079K1079       1\n",
       "3  US02079K3059       1\n",
       "4  US0231351067       1"
      ]
     },
     "execution_count": 81,
     "metadata": {},
     "output_type": "execute_result"
    }
   ],
   "source": [
    "# symbol 과 iem_cd 매칭\n",
    "us_marketcap100 = us_marketcap100.merge(oss_ticker, how = 'left', on = 'symbol')\n",
    "us_marketcap100 = us_marketcap100[['iem_cd']]\n",
    "us_marketcap100['우량주 유무'] = 1\n",
    "us_marketcap100.head()"
   ]
  },
  {
   "cell_type": "code",
   "execution_count": 82,
   "id": "c9cf8116-4b58-4755-af22-c75c62ae26f6",
   "metadata": {},
   "outputs": [
    {
     "ename": "<class 'NameError'>",
     "evalue": "name 'bnc_marketcap' is not defined",
     "output_type": "error",
     "traceback": [
      "\u001b[0;31m---------------------------------------------------------------------------\u001b[0m",
      "\u001b[0;31mNameError\u001b[0m                                 Traceback (most recent call last)",
      "\u001b[0;32m/tmp/xpython_86906/2639921798.py\u001b[0m in \u001b[0;36m<module>\u001b[0;34m\u001b[0m\n\u001b[1;32m      1\u001b[0m \u001b[0;31m# 미국 시가총액 top 100인 우량주가 있으면 1, 없으면 0\u001b[0m\u001b[0;34m\u001b[0m\u001b[0;34m\u001b[0m\u001b[0;34m\u001b[0m\u001b[0m\n\u001b[0;32m----> 2\u001b[0;31m \u001b[0mbnc_marketcap1\u001b[0m \u001b[0;34m=\u001b[0m \u001b[0mbnc_marketcap\u001b[0m\u001b[0;34m.\u001b[0m\u001b[0mmerge\u001b[0m\u001b[0;34m(\u001b[0m\u001b[0mus_marketcap100\u001b[0m\u001b[0;34m,\u001b[0m \u001b[0mhow\u001b[0m \u001b[0;34m=\u001b[0m \u001b[0;34m'left'\u001b[0m\u001b[0;34m,\u001b[0m \u001b[0mon\u001b[0m \u001b[0;34m=\u001b[0m \u001b[0;34m'iem_cd'\u001b[0m\u001b[0;34m)\u001b[0m\u001b[0;34m\u001b[0m\u001b[0;34m\u001b[0m\u001b[0m\n\u001b[0m\u001b[1;32m      3\u001b[0m \u001b[0mbnc_marketcap1\u001b[0m \u001b[0;34m=\u001b[0m \u001b[0mbnc_marketcap1\u001b[0m\u001b[0;34m.\u001b[0m\u001b[0mfillna\u001b[0m\u001b[0;34m(\u001b[0m\u001b[0;36m0\u001b[0m\u001b[0;34m)\u001b[0m\u001b[0;34m\u001b[0m\u001b[0;34m\u001b[0m\u001b[0m\n",
      "\u001b[0;31mNameError\u001b[0m: name 'bnc_marketcap' is not defined"
     ]
    }
   ],
   "source": [
    "# 미국 시가총액 top 100인 우량주가 있으면 1, 없으면 0\n",
    "bnc_marketcap1 = bnc_marketcap.merge(us_marketcap100, how = 'left', on = 'iem_cd')\n",
    "bnc_marketcap1 = bnc_marketcap1.fillna(0)"
   ]
  },
  {
   "cell_type": "code",
   "execution_count": null,
   "id": "2912e6a7-e7ca-408c-93f2-cb02e3ec68d3",
   "metadata": {},
   "outputs": [],
   "source": [
    "bnc_marketcap1['우량주 유무'].value_counts()"
   ]
  },
  {
   "cell_type": "code",
   "execution_count": null,
   "id": "fd02ad1c-6493-4e3f-bd72-59bbc99a3420",
   "metadata": {},
   "outputs": [],
   "source": [
    "# 국내 시가총액 top 100인 우량주가 있으면 1, 없으면 0\n",
    "bnc_marketcap2 = bnc_marketcap1.merge(kr_marketcap100, how = 'left', on = ['bse_ym', 'iem_cd'])\n",
    "bnc_marketcap2 = bnc_marketcap2.fillna(0)\n",
    "bnc_marketcap2\n",
    "bnc_marketcap2['우량주 유무'] = bnc_marketcap2['우량주 유무_x'] + bnc_marketcap2['우량주 유무_y']\n",
    "\n",
    "bnc_marketcap = bnc_marketcap2[['act_no', 'bse_ym', 'iem_cd', '우량주 유무']] #필요한 칼럼만 추출\n",
    "bnc_marketcap"
   ]
  },
  {
   "cell_type": "code",
   "execution_count": null,
   "id": "43f80652-1262-4397-aa48-ecb77b7d41df",
   "metadata": {},
   "outputs": [],
   "source": [
    "bnc_marketcap2['우량주 유무_x'].value_counts()"
   ]
  },
  {
   "cell_type": "code",
   "execution_count": null,
   "id": "1e1034e0-b33f-488f-b702-48804a172892",
   "metadata": {},
   "outputs": [],
   "source": [
    "bnc_marketcap.to_csv('시가총액변수.csv')"
   ]
  },
  {
   "cell_type": "code",
   "execution_count": 84,
   "id": "6ba796ce-9473-4fed-a582-e09b14e8ad42",
   "metadata": {},
   "outputs": [],
   "source": [
    "bnc_marketcap = pd.read_csv('시가총액변수.csv')"
   ]
  },
  {
   "cell_type": "code",
   "execution_count": 85,
   "id": "e354d8ee-98d4-4350-8b36-1c3b332e29b0",
   "metadata": {},
   "outputs": [],
   "source": [
    "bnc_dist = pd.read_csv('bnc_dist.csv')"
   ]
  },
  {
   "cell_type": "code",
   "execution_count": 86,
   "id": "6a7410f9-b64f-49ae-927c-2f9ac73b5361",
   "metadata": {},
   "outputs": [
    {
     "data": {
      "text/html": [
       "<div>\n",
       "<style scoped>\n",
       "    .dataframe tbody tr th:only-of-type {\n",
       "        vertical-align: middle;\n",
       "    }\n",
       "\n",
       "    .dataframe tbody tr th {\n",
       "        vertical-align: top;\n",
       "    }\n",
       "\n",
       "    .dataframe thead th {\n",
       "        text-align: right;\n",
       "    }\n",
       "</style>\n",
       "<table border=\"1\" class=\"dataframe\">\n",
       "  <thead>\n",
       "    <tr style=\"text-align: right;\">\n",
       "      <th></th>\n",
       "      <th>act_no</th>\n",
       "      <th>bse_ym</th>\n",
       "      <th>iem_cd</th>\n",
       "      <th>tot_amt</th>\n",
       "      <th>dist</th>\n",
       "    </tr>\n",
       "  </thead>\n",
       "  <tbody>\n",
       "    <tr>\n",
       "      <th>0</th>\n",
       "      <td>0000b53f15d9484a62a745bdb02cd5f27796ba07c1bddc...</td>\n",
       "      <td>202201</td>\n",
       "      <td>A391060</td>\n",
       "      <td>58100.0</td>\n",
       "      <td>0.268677</td>\n",
       "    </tr>\n",
       "    <tr>\n",
       "      <th>1</th>\n",
       "      <td>0000b53f15d9484a62a745bdb02cd5f27796ba07c1bddc...</td>\n",
       "      <td>202201</td>\n",
       "      <td>A391710</td>\n",
       "      <td>39185.0</td>\n",
       "      <td>0.181207</td>\n",
       "    </tr>\n",
       "    <tr>\n",
       "      <th>2</th>\n",
       "      <td>0000b53f15d9484a62a745bdb02cd5f27796ba07c1bddc...</td>\n",
       "      <td>202201</td>\n",
       "      <td>A396770</td>\n",
       "      <td>63300.0</td>\n",
       "      <td>0.292724</td>\n",
       "    </tr>\n",
       "    <tr>\n",
       "      <th>3</th>\n",
       "      <td>0000b53f15d9484a62a745bdb02cd5f27796ba07c1bddc...</td>\n",
       "      <td>202201</td>\n",
       "      <td>A400760</td>\n",
       "      <td>55660.0</td>\n",
       "      <td>0.257393</td>\n",
       "    </tr>\n",
       "    <tr>\n",
       "      <th>4</th>\n",
       "      <td>0000b53f15d9484a62a745bdb02cd5f27796ba07c1bddc...</td>\n",
       "      <td>202202</td>\n",
       "      <td>A377330</td>\n",
       "      <td>25000.0</td>\n",
       "      <td>0.102883</td>\n",
       "    </tr>\n",
       "    <tr>\n",
       "      <th>...</th>\n",
       "      <td>...</td>\n",
       "      <td>...</td>\n",
       "      <td>...</td>\n",
       "      <td>...</td>\n",
       "      <td>...</td>\n",
       "    </tr>\n",
       "    <tr>\n",
       "      <th>366792</th>\n",
       "      <td>ffff314cc371dd13571dbde2fc9355e142b8e88d4b9790...</td>\n",
       "      <td>202203</td>\n",
       "      <td>A27957K</td>\n",
       "      <td>0.0</td>\n",
       "      <td>0.000000</td>\n",
       "    </tr>\n",
       "    <tr>\n",
       "      <th>366793</th>\n",
       "      <td>ffff314cc371dd13571dbde2fc9355e142b8e88d4b9790...</td>\n",
       "      <td>202204</td>\n",
       "      <td>A27957K</td>\n",
       "      <td>0.0</td>\n",
       "      <td>0.000000</td>\n",
       "    </tr>\n",
       "    <tr>\n",
       "      <th>366794</th>\n",
       "      <td>ffff314cc371dd13571dbde2fc9355e142b8e88d4b9790...</td>\n",
       "      <td>202205</td>\n",
       "      <td>A27957K</td>\n",
       "      <td>0.0</td>\n",
       "      <td>0.000000</td>\n",
       "    </tr>\n",
       "    <tr>\n",
       "      <th>366795</th>\n",
       "      <td>ffff314cc371dd13571dbde2fc9355e142b8e88d4b9790...</td>\n",
       "      <td>202206</td>\n",
       "      <td>A279570</td>\n",
       "      <td>0.0</td>\n",
       "      <td>0.000000</td>\n",
       "    </tr>\n",
       "    <tr>\n",
       "      <th>366796</th>\n",
       "      <td>ffff314cc371dd13571dbde2fc9355e142b8e88d4b9790...</td>\n",
       "      <td>202206</td>\n",
       "      <td>A27957K</td>\n",
       "      <td>0.0</td>\n",
       "      <td>0.000000</td>\n",
       "    </tr>\n",
       "  </tbody>\n",
       "</table>\n",
       "<p>366797 rows × 5 columns</p>\n",
       "</div>"
      ],
      "text/plain": [
       "                                                   act_no  bse_ym   iem_cd  \\\n",
       "0       0000b53f15d9484a62a745bdb02cd5f27796ba07c1bddc...  202201  A391060   \n",
       "1       0000b53f15d9484a62a745bdb02cd5f27796ba07c1bddc...  202201  A391710   \n",
       "2       0000b53f15d9484a62a745bdb02cd5f27796ba07c1bddc...  202201  A396770   \n",
       "3       0000b53f15d9484a62a745bdb02cd5f27796ba07c1bddc...  202201  A400760   \n",
       "4       0000b53f15d9484a62a745bdb02cd5f27796ba07c1bddc...  202202  A377330   \n",
       "...                                                   ...     ...      ...   \n",
       "366792  ffff314cc371dd13571dbde2fc9355e142b8e88d4b9790...  202203  A27957K   \n",
       "366793  ffff314cc371dd13571dbde2fc9355e142b8e88d4b9790...  202204  A27957K   \n",
       "366794  ffff314cc371dd13571dbde2fc9355e142b8e88d4b9790...  202205  A27957K   \n",
       "366795  ffff314cc371dd13571dbde2fc9355e142b8e88d4b9790...  202206  A279570   \n",
       "366796  ffff314cc371dd13571dbde2fc9355e142b8e88d4b9790...  202206  A27957K   \n",
       "\n",
       "        tot_amt      dist  \n",
       "0       58100.0  0.268677  \n",
       "1       39185.0  0.181207  \n",
       "2       63300.0  0.292724  \n",
       "3       55660.0  0.257393  \n",
       "4       25000.0  0.102883  \n",
       "...         ...       ...  \n",
       "366792      0.0  0.000000  \n",
       "366793      0.0  0.000000  \n",
       "366794      0.0  0.000000  \n",
       "366795      0.0  0.000000  \n",
       "366796      0.0  0.000000  \n",
       "\n",
       "[366797 rows x 5 columns]"
      ]
     },
     "execution_count": 86,
     "metadata": {},
     "output_type": "execute_result"
    }
   ],
   "source": [
    "bnc_dist['iem_cd'] = bnc_dist['iem_cd'].str.strip()\n",
    "bnc_dist['bse_ym'] = bnc_dist['bse_ym'].astype('string')\n",
    "bnc_dist"
   ]
  },
  {
   "cell_type": "code",
   "execution_count": null,
   "id": "6c903478-ae99-42f7-bfe7-b2f3b6a0b415",
   "metadata": {},
   "outputs": [],
   "source": [
    "bnc_marcap = bnc_dist.merge(bnc_marketcap, how = 'left', on = ['act_no', 'bse_ym', 'iem_cd' ])\n",
    "bnc_marcap['우량주 비율'] = bnc_marcap['dist'] * bnc_marcap['우량주 유무']\n",
    "bnc_marcap = bnc_marcap.groupby(['act_no', 'bse_ym'])[['우량주 비율']].sum().round(3)\n",
    "bnc_marcap.reset_index(inplace = True)\n",
    "bnc_marcap"
   ]
  },
  {
   "cell_type": "code",
   "execution_count": null,
   "id": "eb3da363-9ce0-4d7a-9e92-4d11a90ee850",
   "metadata": {},
   "outputs": [],
   "source": [
    "bnc_marcap['우량주 비율'].value_counts()"
   ]
  },
  {
   "cell_type": "code",
   "execution_count": null,
   "id": "3bf055d9-17f3-4161-9d5e-7e0028fecc22",
   "metadata": {},
   "outputs": [],
   "source": [
    "bnc_marcap.to_csv('우량주 비율변수.csv', index = False)"
   ]
  },
  {
   "cell_type": "markdown",
   "id": "f5d535cd-6870-42d7-ae00-92cb3558d30b",
   "metadata": {
    "jp-MarkdownHeadingCollapsed": true,
    "tags": []
   },
   "source": [
    "### 4.파생상품 보유 개수 (국내만)"
   ]
  },
  {
   "cell_type": "markdown",
   "id": "c5d8854c-2ee7-47d5-bf56-f62fefe966c7",
   "metadata": {},
   "source": [
    "#### 파생상품 유무 변수 만들기\n",
    "- 파생상품이 존재 : 1, 존재하지 않음 : 0"
   ]
  },
  {
   "cell_type": "code",
   "execution_count": null,
   "id": "343b50cf-4dbc-494c-968e-c4a9df273cd5",
   "metadata": {},
   "outputs": [],
   "source": [
    "bnc_kr = bnc[['act_no', 'bse_ym' , 'iem_cd', 'cur_cd']]\n",
    "bnc_kr = bnc_kr[bnc_kr['cur_cd'] == 'KRW']\n",
    "bnc_kr['파생상품 유무'] = bnc_kr['iem_cd'].str[0] # 종목코드가 A로 시작하면 국내주식, 아니면 파생상품\n",
    "\n",
    "# 파생상품이 있으면 '1' 부여, 없으면 '0' 부여\n",
    "bnc_kr['파생상품 유무'] = bnc_kr['파생상품 유무'].apply(lambda x : 0 if x == 'A' else 1)\n",
    "bnc_kr.head()"
   ]
  },
  {
   "cell_type": "code",
   "execution_count": null,
   "id": "56117484-6bc1-4a9a-82a3-2bb92ebc8fe4",
   "metadata": {},
   "outputs": [],
   "source": [
    "bnc_kr = bnc_kr[['act_no', 'bse_ym', '파생상품 유무']]\n",
    "bnc_kr = bnc_kr.groupby(['act_no', 'bse_ym'])[['파생상품 유무']].sum()\n",
    "bnc_kr.reset_index(inplace = True)\n",
    "bnc_kr"
   ]
  },
  {
   "cell_type": "code",
   "execution_count": null,
   "id": "337bac2d-5a0e-4d2a-9cb4-a0cdddb0f277",
   "metadata": {},
   "outputs": [],
   "source": [
    "bnc_kr.to_csv('파생상품 유무.csv')"
   ]
  },
  {
   "cell_type": "markdown",
   "id": "767e4017-a670-4562-a062-7d7b2ea73b1f",
   "metadata": {
    "tags": []
   },
   "source": [
    "### 5.정보 수집 성향 지수"
   ]
  },
  {
   "cell_type": "markdown",
   "id": "fdb372a6-7dd6-4302-b89d-9601713bd1e6",
   "metadata": {},
   "source": [
    "#### 정보 수집 성향 변수 만들기\n",
    "- GA 데이터를 이용한 투자자의 투자 정보 수집 성향 파악\n",
    "- 주식 현재가 SCREEN 의 EVENTACTION 유형(11개)을 이용\n",
    "- 총 11가지의 투자 정보 중에서 몇 개를 고려하는지를 파악"
   ]
  },
  {
   "cell_type": "code",
   "execution_count": null,
   "id": "d558b9cc-424a-45d2-a6ec-13897b53f58b",
   "metadata": {},
   "outputs": [],
   "source": [
    "# 현재가_상세 screen\n",
    "search = GA[GA['EVENTCATEGORY'] == '현재가_상세']\n",
    "search[['EVENTACTION']].value_counts()"
   ]
  },
  {
   "cell_type": "code",
   "execution_count": null,
   "id": "de1843a7-cee9-46bd-b0ac-3a9317378520",
   "metadata": {},
   "outputs": [],
   "source": [
    "sns.countplot(x = search_cnt['EVENTACTION'], data = search_cnt)\n",
    "plt.title(\"고객 한 명이 고려하는 정보 유형의 수\")\n",
    "plt.xlabel(\"Total Count of Eventaction per customer\")\n",
    "plt.tight_layout()"
   ]
  },
  {
   "cell_type": "code",
   "execution_count": null,
   "id": "a57f6bc8-6513-4014-9c79-fd6eae7eb593",
   "metadata": {},
   "outputs": [],
   "source": [
    "search_cnt = search.groupby(['CUS_NO'])[['EVENTACTION']].nunique()\n",
    "search_cnt.reset_index(inplace = True)\n",
    "search_cnt\n",
    "search_cnt.to_csv('정보수집성향.csv')"
   ]
  },
  {
   "cell_type": "markdown",
   "id": "ae57bf39-f4e6-4889-94ce-483b8a2033e5",
   "metadata": {},
   "source": [
    "## 분류모델링"
   ]
  },
  {
   "cell_type": "markdown",
   "id": "7aa7cff4-6e35-41bc-a1e9-6d8e7691b47a",
   "metadata": {
    "tags": []
   },
   "source": [
    "### 분류 모델링을 위한 데이터 프레임 결합하기"
   ]
  },
  {
   "cell_type": "code",
   "execution_count": 12,
   "id": "a9498b53-3f3f-4595-b54b-17377dab60e9",
   "metadata": {},
   "outputs": [],
   "source": [
    "beta = pd.read_csv('portfolio_beta_01_06.csv')\n",
    "ord_mean = pd.read_csv('일일거래평균.csv')\n",
    "ord_mean = ord_mean[['act_no' ,'bse_ym', 'orr_ord']]\n",
    "marcap = pd.read_csv('우량주 비율변수.csv')\n",
    "bnc_kr = pd.read_csv('파생상품 유무.csv')\n",
    "search = pd.read_csv('정보수집성향.csv')"
   ]
  },
  {
   "cell_type": "code",
   "execution_count": 13,
   "id": "8c5aa976-c88d-4bf6-8f16-affca76b09f9",
   "metadata": {},
   "outputs": [
    {
     "data": {
      "text/html": [
       "<div>\n",
       "<style scoped>\n",
       "    .dataframe tbody tr th:only-of-type {\n",
       "        vertical-align: middle;\n",
       "    }\n",
       "\n",
       "    .dataframe tbody tr th {\n",
       "        vertical-align: top;\n",
       "    }\n",
       "\n",
       "    .dataframe thead th {\n",
       "        text-align: right;\n",
       "    }\n",
       "</style>\n",
       "<table border=\"1\" class=\"dataframe\">\n",
       "  <thead>\n",
       "    <tr style=\"text-align: right;\">\n",
       "      <th></th>\n",
       "      <th>act_no</th>\n",
       "      <th>bse_ym</th>\n",
       "      <th>iem_cd</th>\n",
       "      <th>fc_sec_trd_nat_cd</th>\n",
       "      <th>itg_pdt_tp_cd</th>\n",
       "      <th>stl_bse_itg_bnc_qty</th>\n",
       "      <th>itg_byn_cns_qty</th>\n",
       "      <th>itg_sll_cns_qty</th>\n",
       "      <th>cns_bse_itg_bnc_qty</th>\n",
       "      <th>stl_bse_now_eal_amt</th>\n",
       "      <th>stl_bse_fc_now_eal_amt</th>\n",
       "      <th>cns_bse_now_eal_amt</th>\n",
       "      <th>cns_bse_fc_now_eal_amt</th>\n",
       "      <th>lon_amt</th>\n",
       "      <th>cur_cd</th>\n",
       "    </tr>\n",
       "  </thead>\n",
       "  <tbody>\n",
       "    <tr>\n",
       "      <th>0</th>\n",
       "      <td>e97920ce7d2205d876398178d56a854ebe6aa84f46a9ff...</td>\n",
       "      <td>202205</td>\n",
       "      <td>A101240</td>\n",
       "      <td>0</td>\n",
       "      <td>10</td>\n",
       "      <td>14.0</td>\n",
       "      <td>0.0</td>\n",
       "      <td>0.0</td>\n",
       "      <td>14.0</td>\n",
       "      <td>101640.0</td>\n",
       "      <td>0.0</td>\n",
       "      <td>101640.0</td>\n",
       "      <td>0.0</td>\n",
       "      <td>0.0</td>\n",
       "      <td>KRW</td>\n",
       "    </tr>\n",
       "    <tr>\n",
       "      <th>1</th>\n",
       "      <td>e97920ce7d2205d876398178d56a854ebe6aa84f46a9ff...</td>\n",
       "      <td>202205</td>\n",
       "      <td>A900120</td>\n",
       "      <td>0</td>\n",
       "      <td>10</td>\n",
       "      <td>341.0</td>\n",
       "      <td>0.0</td>\n",
       "      <td>341.0</td>\n",
       "      <td>0.0</td>\n",
       "      <td>87978.0</td>\n",
       "      <td>0.0</td>\n",
       "      <td>0.0</td>\n",
       "      <td>0.0</td>\n",
       "      <td>0.0</td>\n",
       "      <td>KRW</td>\n",
       "    </tr>\n",
       "    <tr>\n",
       "      <th>2</th>\n",
       "      <td>e97920ce7d2205d876398178d56a854ebe6aa84f46a9ff...</td>\n",
       "      <td>202205</td>\n",
       "      <td>A024910</td>\n",
       "      <td>0</td>\n",
       "      <td>10</td>\n",
       "      <td>32.0</td>\n",
       "      <td>0.0</td>\n",
       "      <td>32.0</td>\n",
       "      <td>0.0</td>\n",
       "      <td>77280.0</td>\n",
       "      <td>0.0</td>\n",
       "      <td>0.0</td>\n",
       "      <td>0.0</td>\n",
       "      <td>0.0</td>\n",
       "      <td>KRW</td>\n",
       "    </tr>\n",
       "    <tr>\n",
       "      <th>3</th>\n",
       "      <td>e97920ce7d2205d876398178d56a854ebe6aa84f46a9ff...</td>\n",
       "      <td>202204</td>\n",
       "      <td>A263020</td>\n",
       "      <td>0</td>\n",
       "      <td>10</td>\n",
       "      <td>52.0</td>\n",
       "      <td>0.0</td>\n",
       "      <td>0.0</td>\n",
       "      <td>52.0</td>\n",
       "      <td>184600.0</td>\n",
       "      <td>0.0</td>\n",
       "      <td>184600.0</td>\n",
       "      <td>0.0</td>\n",
       "      <td>0.0</td>\n",
       "      <td>KRW</td>\n",
       "    </tr>\n",
       "    <tr>\n",
       "      <th>4</th>\n",
       "      <td>e97920ce7d2205d876398178d56a854ebe6aa84f46a9ff...</td>\n",
       "      <td>202204</td>\n",
       "      <td>A037030</td>\n",
       "      <td>0</td>\n",
       "      <td>10</td>\n",
       "      <td>18.0</td>\n",
       "      <td>0.0</td>\n",
       "      <td>0.0</td>\n",
       "      <td>18.0</td>\n",
       "      <td>89010.0</td>\n",
       "      <td>0.0</td>\n",
       "      <td>89010.0</td>\n",
       "      <td>0.0</td>\n",
       "      <td>0.0</td>\n",
       "      <td>KRW</td>\n",
       "    </tr>\n",
       "    <tr>\n",
       "      <th>...</th>\n",
       "      <td>...</td>\n",
       "      <td>...</td>\n",
       "      <td>...</td>\n",
       "      <td>...</td>\n",
       "      <td>...</td>\n",
       "      <td>...</td>\n",
       "      <td>...</td>\n",
       "      <td>...</td>\n",
       "      <td>...</td>\n",
       "      <td>...</td>\n",
       "      <td>...</td>\n",
       "      <td>...</td>\n",
       "      <td>...</td>\n",
       "      <td>...</td>\n",
       "      <td>...</td>\n",
       "    </tr>\n",
       "    <tr>\n",
       "      <th>366792</th>\n",
       "      <td>8a302c32df0a3110af9fea8285cb720cfba9cd57b87123...</td>\n",
       "      <td>202203</td>\n",
       "      <td>A005930</td>\n",
       "      <td>0</td>\n",
       "      <td>10</td>\n",
       "      <td>2.0</td>\n",
       "      <td>0.0</td>\n",
       "      <td>0.0</td>\n",
       "      <td>2.0</td>\n",
       "      <td>139200.0</td>\n",
       "      <td>0.0</td>\n",
       "      <td>139200.0</td>\n",
       "      <td>0.0</td>\n",
       "      <td>0.0</td>\n",
       "      <td>KRW</td>\n",
       "    </tr>\n",
       "    <tr>\n",
       "      <th>366793</th>\n",
       "      <td>8a302c32df0a3110af9fea8285cb720cfba9cd57b87123...</td>\n",
       "      <td>202205</td>\n",
       "      <td>A353590</td>\n",
       "      <td>0</td>\n",
       "      <td>10</td>\n",
       "      <td>2.0</td>\n",
       "      <td>0.0</td>\n",
       "      <td>0.0</td>\n",
       "      <td>2.0</td>\n",
       "      <td>29400.0</td>\n",
       "      <td>0.0</td>\n",
       "      <td>29400.0</td>\n",
       "      <td>0.0</td>\n",
       "      <td>0.0</td>\n",
       "      <td>KRW</td>\n",
       "    </tr>\n",
       "    <tr>\n",
       "      <th>366794</th>\n",
       "      <td>8a302c32df0a3110af9fea8285cb720cfba9cd57b87123...</td>\n",
       "      <td>202204</td>\n",
       "      <td>A353590</td>\n",
       "      <td>0</td>\n",
       "      <td>10</td>\n",
       "      <td>2.0</td>\n",
       "      <td>0.0</td>\n",
       "      <td>0.0</td>\n",
       "      <td>2.0</td>\n",
       "      <td>30200.0</td>\n",
       "      <td>0.0</td>\n",
       "      <td>30200.0</td>\n",
       "      <td>0.0</td>\n",
       "      <td>0.0</td>\n",
       "      <td>KRW</td>\n",
       "    </tr>\n",
       "    <tr>\n",
       "      <th>366795</th>\n",
       "      <td>8a302c32df0a3110af9fea8285cb720cfba9cd57b87123...</td>\n",
       "      <td>202203</td>\n",
       "      <td>A353590</td>\n",
       "      <td>0</td>\n",
       "      <td>10</td>\n",
       "      <td>0.0</td>\n",
       "      <td>2.0</td>\n",
       "      <td>0.0</td>\n",
       "      <td>2.0</td>\n",
       "      <td>0.0</td>\n",
       "      <td>0.0</td>\n",
       "      <td>48100.0</td>\n",
       "      <td>0.0</td>\n",
       "      <td>0.0</td>\n",
       "      <td>KRW</td>\n",
       "    </tr>\n",
       "    <tr>\n",
       "      <th>366796</th>\n",
       "      <td>8a302c32df0a3110af9fea8285cb720cfba9cd57b87123...</td>\n",
       "      <td>202206</td>\n",
       "      <td>A005930</td>\n",
       "      <td>0</td>\n",
       "      <td>10</td>\n",
       "      <td>2.0</td>\n",
       "      <td>0.0</td>\n",
       "      <td>0.0</td>\n",
       "      <td>2.0</td>\n",
       "      <td>114000.0</td>\n",
       "      <td>0.0</td>\n",
       "      <td>114000.0</td>\n",
       "      <td>0.0</td>\n",
       "      <td>0.0</td>\n",
       "      <td>KRW</td>\n",
       "    </tr>\n",
       "  </tbody>\n",
       "</table>\n",
       "<p>366797 rows × 15 columns</p>\n",
       "</div>"
      ],
      "text/plain": [
       "                                                   act_no  bse_ym  \\\n",
       "0       e97920ce7d2205d876398178d56a854ebe6aa84f46a9ff...  202205   \n",
       "1       e97920ce7d2205d876398178d56a854ebe6aa84f46a9ff...  202205   \n",
       "2       e97920ce7d2205d876398178d56a854ebe6aa84f46a9ff...  202205   \n",
       "3       e97920ce7d2205d876398178d56a854ebe6aa84f46a9ff...  202204   \n",
       "4       e97920ce7d2205d876398178d56a854ebe6aa84f46a9ff...  202204   \n",
       "...                                                   ...     ...   \n",
       "366792  8a302c32df0a3110af9fea8285cb720cfba9cd57b87123...  202203   \n",
       "366793  8a302c32df0a3110af9fea8285cb720cfba9cd57b87123...  202205   \n",
       "366794  8a302c32df0a3110af9fea8285cb720cfba9cd57b87123...  202204   \n",
       "366795  8a302c32df0a3110af9fea8285cb720cfba9cd57b87123...  202203   \n",
       "366796  8a302c32df0a3110af9fea8285cb720cfba9cd57b87123...  202206   \n",
       "\n",
       "              iem_cd  fc_sec_trd_nat_cd  itg_pdt_tp_cd  stl_bse_itg_bnc_qty  \\\n",
       "0       A101240                       0             10                 14.0   \n",
       "1       A900120                       0             10                341.0   \n",
       "2       A024910                       0             10                 32.0   \n",
       "3       A263020                       0             10                 52.0   \n",
       "4       A037030                       0             10                 18.0   \n",
       "...              ...                ...            ...                  ...   \n",
       "366792  A005930                       0             10                  2.0   \n",
       "366793  A353590                       0             10                  2.0   \n",
       "366794  A353590                       0             10                  2.0   \n",
       "366795  A353590                       0             10                  0.0   \n",
       "366796  A005930                       0             10                  2.0   \n",
       "\n",
       "        itg_byn_cns_qty  itg_sll_cns_qty  cns_bse_itg_bnc_qty  \\\n",
       "0                   0.0              0.0                 14.0   \n",
       "1                   0.0            341.0                  0.0   \n",
       "2                   0.0             32.0                  0.0   \n",
       "3                   0.0              0.0                 52.0   \n",
       "4                   0.0              0.0                 18.0   \n",
       "...                 ...              ...                  ...   \n",
       "366792              0.0              0.0                  2.0   \n",
       "366793              0.0              0.0                  2.0   \n",
       "366794              0.0              0.0                  2.0   \n",
       "366795              2.0              0.0                  2.0   \n",
       "366796              0.0              0.0                  2.0   \n",
       "\n",
       "        stl_bse_now_eal_amt  stl_bse_fc_now_eal_amt  cns_bse_now_eal_amt  \\\n",
       "0                  101640.0                     0.0             101640.0   \n",
       "1                   87978.0                     0.0                  0.0   \n",
       "2                   77280.0                     0.0                  0.0   \n",
       "3                  184600.0                     0.0             184600.0   \n",
       "4                   89010.0                     0.0              89010.0   \n",
       "...                     ...                     ...                  ...   \n",
       "366792             139200.0                     0.0             139200.0   \n",
       "366793              29400.0                     0.0              29400.0   \n",
       "366794              30200.0                     0.0              30200.0   \n",
       "366795                  0.0                     0.0              48100.0   \n",
       "366796             114000.0                     0.0             114000.0   \n",
       "\n",
       "        cns_bse_fc_now_eal_amt  lon_amt cur_cd  \n",
       "0                          0.0      0.0    KRW  \n",
       "1                          0.0      0.0    KRW  \n",
       "2                          0.0      0.0    KRW  \n",
       "3                          0.0      0.0    KRW  \n",
       "4                          0.0      0.0    KRW  \n",
       "...                        ...      ...    ...  \n",
       "366792                     0.0      0.0    KRW  \n",
       "366793                     0.0      0.0    KRW  \n",
       "366794                     0.0      0.0    KRW  \n",
       "366795                     0.0      0.0    KRW  \n",
       "366796                     0.0      0.0    KRW  \n",
       "\n",
       "[366797 rows x 15 columns]"
      ]
     },
     "execution_count": 13,
     "metadata": {},
     "output_type": "execute_result"
    }
   ],
   "source": [
    "bnc"
   ]
  },
  {
   "cell_type": "code",
   "execution_count": 14,
   "id": "8452f4bf-8093-4229-9a8b-0db9e2ece30a",
   "metadata": {},
   "outputs": [
    {
     "data": {
      "text/html": [
       "<div>\n",
       "<style scoped>\n",
       "    .dataframe tbody tr th:only-of-type {\n",
       "        vertical-align: middle;\n",
       "    }\n",
       "\n",
       "    .dataframe tbody tr th {\n",
       "        vertical-align: top;\n",
       "    }\n",
       "\n",
       "    .dataframe thead th {\n",
       "        text-align: right;\n",
       "    }\n",
       "</style>\n",
       "<table border=\"1\" class=\"dataframe\">\n",
       "  <thead>\n",
       "    <tr style=\"text-align: right;\">\n",
       "      <th></th>\n",
       "      <th>cus_no</th>\n",
       "      <th>bse_ym</th>\n",
       "      <th>act_no</th>\n",
       "    </tr>\n",
       "  </thead>\n",
       "  <tbody>\n",
       "    <tr>\n",
       "      <th>0</th>\n",
       "      <td>92ed7cdc3e3673226a613892c47a8eccfe602d0fbdb349...</td>\n",
       "      <td>202203</td>\n",
       "      <td>3610f0105b67e30709e55c546c75c45b8c9d589e90fb9f...</td>\n",
       "    </tr>\n",
       "    <tr>\n",
       "      <th>1</th>\n",
       "      <td>92ed7cdc3e3673226a613892c47a8eccfe602d0fbdb349...</td>\n",
       "      <td>202202</td>\n",
       "      <td>3610f0105b67e30709e55c546c75c45b8c9d589e90fb9f...</td>\n",
       "    </tr>\n",
       "    <tr>\n",
       "      <th>2</th>\n",
       "      <td>92ed7cdc3e3673226a613892c47a8eccfe602d0fbdb349...</td>\n",
       "      <td>202206</td>\n",
       "      <td>3610f0105b67e30709e55c546c75c45b8c9d589e90fb9f...</td>\n",
       "    </tr>\n",
       "    <tr>\n",
       "      <th>3</th>\n",
       "      <td>92ed7cdc3e3673226a613892c47a8eccfe602d0fbdb349...</td>\n",
       "      <td>202205</td>\n",
       "      <td>3610f0105b67e30709e55c546c75c45b8c9d589e90fb9f...</td>\n",
       "    </tr>\n",
       "    <tr>\n",
       "      <th>4</th>\n",
       "      <td>92ed7cdc3e3673226a613892c47a8eccfe602d0fbdb349...</td>\n",
       "      <td>202201</td>\n",
       "      <td>3610f0105b67e30709e55c546c75c45b8c9d589e90fb9f...</td>\n",
       "    </tr>\n",
       "    <tr>\n",
       "      <th>...</th>\n",
       "      <td>...</td>\n",
       "      <td>...</td>\n",
       "      <td>...</td>\n",
       "    </tr>\n",
       "    <tr>\n",
       "      <th>59076</th>\n",
       "      <td>1b3dc5053fa9c52990872c97f85d54f3e8749eabf64b5d...</td>\n",
       "      <td>202204</td>\n",
       "      <td>b41f38d7eedb84857fcc8fe2f58ded96aa3bbd85614d18...</td>\n",
       "    </tr>\n",
       "    <tr>\n",
       "      <th>59077</th>\n",
       "      <td>1b3dc5053fa9c52990872c97f85d54f3e8749eabf64b5d...</td>\n",
       "      <td>202202</td>\n",
       "      <td>b41f38d7eedb84857fcc8fe2f58ded96aa3bbd85614d18...</td>\n",
       "    </tr>\n",
       "    <tr>\n",
       "      <th>59078</th>\n",
       "      <td>1b3dc5053fa9c52990872c97f85d54f3e8749eabf64b5d...</td>\n",
       "      <td>202206</td>\n",
       "      <td>b41f38d7eedb84857fcc8fe2f58ded96aa3bbd85614d18...</td>\n",
       "    </tr>\n",
       "    <tr>\n",
       "      <th>59079</th>\n",
       "      <td>1b3dc5053fa9c52990872c97f85d54f3e8749eabf64b5d...</td>\n",
       "      <td>202201</td>\n",
       "      <td>b41f38d7eedb84857fcc8fe2f58ded96aa3bbd85614d18...</td>\n",
       "    </tr>\n",
       "    <tr>\n",
       "      <th>59080</th>\n",
       "      <td>1b3dc5053fa9c52990872c97f85d54f3e8749eabf64b5d...</td>\n",
       "      <td>202205</td>\n",
       "      <td>b41f38d7eedb84857fcc8fe2f58ded96aa3bbd85614d18...</td>\n",
       "    </tr>\n",
       "  </tbody>\n",
       "</table>\n",
       "<p>59081 rows × 3 columns</p>\n",
       "</div>"
      ],
      "text/plain": [
       "                                                  cus_no  bse_ym  \\\n",
       "0      92ed7cdc3e3673226a613892c47a8eccfe602d0fbdb349...  202203   \n",
       "1      92ed7cdc3e3673226a613892c47a8eccfe602d0fbdb349...  202202   \n",
       "2      92ed7cdc3e3673226a613892c47a8eccfe602d0fbdb349...  202206   \n",
       "3      92ed7cdc3e3673226a613892c47a8eccfe602d0fbdb349...  202205   \n",
       "4      92ed7cdc3e3673226a613892c47a8eccfe602d0fbdb349...  202201   \n",
       "...                                                  ...     ...   \n",
       "59076  1b3dc5053fa9c52990872c97f85d54f3e8749eabf64b5d...  202204   \n",
       "59077  1b3dc5053fa9c52990872c97f85d54f3e8749eabf64b5d...  202202   \n",
       "59078  1b3dc5053fa9c52990872c97f85d54f3e8749eabf64b5d...  202206   \n",
       "59079  1b3dc5053fa9c52990872c97f85d54f3e8749eabf64b5d...  202201   \n",
       "59080  1b3dc5053fa9c52990872c97f85d54f3e8749eabf64b5d...  202205   \n",
       "\n",
       "                                                  act_no  \n",
       "0      3610f0105b67e30709e55c546c75c45b8c9d589e90fb9f...  \n",
       "1      3610f0105b67e30709e55c546c75c45b8c9d589e90fb9f...  \n",
       "2      3610f0105b67e30709e55c546c75c45b8c9d589e90fb9f...  \n",
       "3      3610f0105b67e30709e55c546c75c45b8c9d589e90fb9f...  \n",
       "4      3610f0105b67e30709e55c546c75c45b8c9d589e90fb9f...  \n",
       "...                                                  ...  \n",
       "59076  b41f38d7eedb84857fcc8fe2f58ded96aa3bbd85614d18...  \n",
       "59077  b41f38d7eedb84857fcc8fe2f58ded96aa3bbd85614d18...  \n",
       "59078  b41f38d7eedb84857fcc8fe2f58ded96aa3bbd85614d18...  \n",
       "59079  b41f38d7eedb84857fcc8fe2f58ded96aa3bbd85614d18...  \n",
       "59080  b41f38d7eedb84857fcc8fe2f58ded96aa3bbd85614d18...  \n",
       "\n",
       "[59081 rows x 3 columns]"
      ]
     },
     "execution_count": 14,
     "metadata": {},
     "output_type": "execute_result"
    }
   ],
   "source": [
    "cus = info[['cus_no', 'bse_ym','act_no']]\n",
    "cus"
   ]
  },
  {
   "cell_type": "code",
   "execution_count": 17,
   "id": "5de96969-ecff-4c1a-9609-e0a997bfea8a",
   "metadata": {},
   "outputs": [
    {
     "data": {
      "text/html": [
       "<div>\n",
       "<style scoped>\n",
       "    .dataframe tbody tr th:only-of-type {\n",
       "        vertical-align: middle;\n",
       "    }\n",
       "\n",
       "    .dataframe tbody tr th {\n",
       "        vertical-align: top;\n",
       "    }\n",
       "\n",
       "    .dataframe thead th {\n",
       "        text-align: right;\n",
       "    }\n",
       "</style>\n",
       "<table border=\"1\" class=\"dataframe\">\n",
       "  <thead>\n",
       "    <tr style=\"text-align: right;\">\n",
       "      <th></th>\n",
       "      <th>act_no</th>\n",
       "      <th>cus_no</th>\n",
       "      <th>bse_ym</th>\n",
       "    </tr>\n",
       "  </thead>\n",
       "  <tbody>\n",
       "    <tr>\n",
       "      <th>0</th>\n",
       "      <td>e97920ce7d2205d876398178d56a854ebe6aa84f46a9ff...</td>\n",
       "      <td>89a691f66d34b51a635fdcaa93e0142f93b511855e6599...</td>\n",
       "      <td>202205</td>\n",
       "    </tr>\n",
       "    <tr>\n",
       "      <th>1</th>\n",
       "      <td>e97920ce7d2205d876398178d56a854ebe6aa84f46a9ff...</td>\n",
       "      <td>89a691f66d34b51a635fdcaa93e0142f93b511855e6599...</td>\n",
       "      <td>202205</td>\n",
       "    </tr>\n",
       "    <tr>\n",
       "      <th>2</th>\n",
       "      <td>e97920ce7d2205d876398178d56a854ebe6aa84f46a9ff...</td>\n",
       "      <td>89a691f66d34b51a635fdcaa93e0142f93b511855e6599...</td>\n",
       "      <td>202205</td>\n",
       "    </tr>\n",
       "    <tr>\n",
       "      <th>3</th>\n",
       "      <td>e97920ce7d2205d876398178d56a854ebe6aa84f46a9ff...</td>\n",
       "      <td>89a691f66d34b51a635fdcaa93e0142f93b511855e6599...</td>\n",
       "      <td>202204</td>\n",
       "    </tr>\n",
       "    <tr>\n",
       "      <th>4</th>\n",
       "      <td>e97920ce7d2205d876398178d56a854ebe6aa84f46a9ff...</td>\n",
       "      <td>89a691f66d34b51a635fdcaa93e0142f93b511855e6599...</td>\n",
       "      <td>202204</td>\n",
       "    </tr>\n",
       "    <tr>\n",
       "      <th>...</th>\n",
       "      <td>...</td>\n",
       "      <td>...</td>\n",
       "      <td>...</td>\n",
       "    </tr>\n",
       "    <tr>\n",
       "      <th>366792</th>\n",
       "      <td>8a302c32df0a3110af9fea8285cb720cfba9cd57b87123...</td>\n",
       "      <td>6e5e1594c104dc8b9682e2a194fa8fd7eea167f4cf2a07...</td>\n",
       "      <td>202203</td>\n",
       "    </tr>\n",
       "    <tr>\n",
       "      <th>366793</th>\n",
       "      <td>8a302c32df0a3110af9fea8285cb720cfba9cd57b87123...</td>\n",
       "      <td>6e5e1594c104dc8b9682e2a194fa8fd7eea167f4cf2a07...</td>\n",
       "      <td>202205</td>\n",
       "    </tr>\n",
       "    <tr>\n",
       "      <th>366794</th>\n",
       "      <td>8a302c32df0a3110af9fea8285cb720cfba9cd57b87123...</td>\n",
       "      <td>6e5e1594c104dc8b9682e2a194fa8fd7eea167f4cf2a07...</td>\n",
       "      <td>202204</td>\n",
       "    </tr>\n",
       "    <tr>\n",
       "      <th>366795</th>\n",
       "      <td>8a302c32df0a3110af9fea8285cb720cfba9cd57b87123...</td>\n",
       "      <td>6e5e1594c104dc8b9682e2a194fa8fd7eea167f4cf2a07...</td>\n",
       "      <td>202203</td>\n",
       "    </tr>\n",
       "    <tr>\n",
       "      <th>366796</th>\n",
       "      <td>8a302c32df0a3110af9fea8285cb720cfba9cd57b87123...</td>\n",
       "      <td>6e5e1594c104dc8b9682e2a194fa8fd7eea167f4cf2a07...</td>\n",
       "      <td>202206</td>\n",
       "    </tr>\n",
       "  </tbody>\n",
       "</table>\n",
       "<p>366797 rows × 3 columns</p>\n",
       "</div>"
      ],
      "text/plain": [
       "                                                   act_no  \\\n",
       "0       e97920ce7d2205d876398178d56a854ebe6aa84f46a9ff...   \n",
       "1       e97920ce7d2205d876398178d56a854ebe6aa84f46a9ff...   \n",
       "2       e97920ce7d2205d876398178d56a854ebe6aa84f46a9ff...   \n",
       "3       e97920ce7d2205d876398178d56a854ebe6aa84f46a9ff...   \n",
       "4       e97920ce7d2205d876398178d56a854ebe6aa84f46a9ff...   \n",
       "...                                                   ...   \n",
       "366792  8a302c32df0a3110af9fea8285cb720cfba9cd57b87123...   \n",
       "366793  8a302c32df0a3110af9fea8285cb720cfba9cd57b87123...   \n",
       "366794  8a302c32df0a3110af9fea8285cb720cfba9cd57b87123...   \n",
       "366795  8a302c32df0a3110af9fea8285cb720cfba9cd57b87123...   \n",
       "366796  8a302c32df0a3110af9fea8285cb720cfba9cd57b87123...   \n",
       "\n",
       "                                                   cus_no  bse_ym  \n",
       "0       89a691f66d34b51a635fdcaa93e0142f93b511855e6599...  202205  \n",
       "1       89a691f66d34b51a635fdcaa93e0142f93b511855e6599...  202205  \n",
       "2       89a691f66d34b51a635fdcaa93e0142f93b511855e6599...  202205  \n",
       "3       89a691f66d34b51a635fdcaa93e0142f93b511855e6599...  202204  \n",
       "4       89a691f66d34b51a635fdcaa93e0142f93b511855e6599...  202204  \n",
       "...                                                   ...     ...  \n",
       "366792  6e5e1594c104dc8b9682e2a194fa8fd7eea167f4cf2a07...  202203  \n",
       "366793  6e5e1594c104dc8b9682e2a194fa8fd7eea167f4cf2a07...  202205  \n",
       "366794  6e5e1594c104dc8b9682e2a194fa8fd7eea167f4cf2a07...  202204  \n",
       "366795  6e5e1594c104dc8b9682e2a194fa8fd7eea167f4cf2a07...  202203  \n",
       "366796  6e5e1594c104dc8b9682e2a194fa8fd7eea167f4cf2a07...  202206  \n",
       "\n",
       "[366797 rows x 3 columns]"
      ]
     },
     "execution_count": 17,
     "metadata": {},
     "output_type": "execute_result"
    }
   ],
   "source": [
    "total = bnc.merge(cus, how = 'left', on = ['act_no', 'bse_ym'])\n",
    "total = total[['act_no', 'cus_no', 'bse_ym']]\n",
    "total"
   ]
  },
  {
   "cell_type": "code",
   "execution_count": 18,
   "id": "89da2d40-b1bf-426b-8ff2-b2e73fc96afe",
   "metadata": {},
   "outputs": [
    {
     "name": "stdout",
     "output_type": "stream",
     "text": [
      "<class 'pandas.core.frame.DataFrame'>\n",
      "Int64Index: 366797 entries, 0 to 366796\n",
      "Data columns (total 3 columns):\n",
      " #   Column  Non-Null Count   Dtype \n",
      "---  ------  --------------   ----- \n",
      " 0   act_no  366797 non-null  object\n",
      " 1   cus_no  366797 non-null  object\n",
      " 2   bse_ym  366797 non-null  int64 \n",
      "dtypes: int64(1), object(2)\n",
      "memory usage: 11.2+ MB\n"
     ]
    }
   ],
   "source": [
    "total.info()"
   ]
  },
  {
   "cell_type": "code",
   "execution_count": 19,
   "id": "c6eec122-1af7-46c5-aed2-3b1718ff022e",
   "metadata": {},
   "outputs": [
    {
     "data": {
      "text/html": [
       "<div>\n",
       "<style scoped>\n",
       "    .dataframe tbody tr th:only-of-type {\n",
       "        vertical-align: middle;\n",
       "    }\n",
       "\n",
       "    .dataframe tbody tr th {\n",
       "        vertical-align: top;\n",
       "    }\n",
       "\n",
       "    .dataframe thead th {\n",
       "        text-align: right;\n",
       "    }\n",
       "</style>\n",
       "<table border=\"1\" class=\"dataframe\">\n",
       "  <thead>\n",
       "    <tr style=\"text-align: right;\">\n",
       "      <th></th>\n",
       "      <th>act_no</th>\n",
       "      <th>cus_no</th>\n",
       "      <th>bse_ym</th>\n",
       "      <th>EVENTACTION</th>\n",
       "      <th>portfoliobeta</th>\n",
       "      <th>파생상품 유무</th>\n",
       "      <th>우량주 비율</th>\n",
       "      <th>orr_ord</th>\n",
       "    </tr>\n",
       "  </thead>\n",
       "  <tbody>\n",
       "    <tr>\n",
       "      <th>0</th>\n",
       "      <td>e97920ce7d2205d876398178d56a854ebe6aa84f46a9ff...</td>\n",
       "      <td>89a691f66d34b51a635fdcaa93e0142f93b511855e6599...</td>\n",
       "      <td>202205</td>\n",
       "      <td>4.0</td>\n",
       "      <td>0.822003</td>\n",
       "      <td>3.0</td>\n",
       "      <td>0.005</td>\n",
       "      <td>24.0</td>\n",
       "    </tr>\n",
       "    <tr>\n",
       "      <th>1</th>\n",
       "      <td>e97920ce7d2205d876398178d56a854ebe6aa84f46a9ff...</td>\n",
       "      <td>89a691f66d34b51a635fdcaa93e0142f93b511855e6599...</td>\n",
       "      <td>202205</td>\n",
       "      <td>4.0</td>\n",
       "      <td>0.822003</td>\n",
       "      <td>3.0</td>\n",
       "      <td>0.005</td>\n",
       "      <td>24.0</td>\n",
       "    </tr>\n",
       "    <tr>\n",
       "      <th>2</th>\n",
       "      <td>e97920ce7d2205d876398178d56a854ebe6aa84f46a9ff...</td>\n",
       "      <td>89a691f66d34b51a635fdcaa93e0142f93b511855e6599...</td>\n",
       "      <td>202205</td>\n",
       "      <td>4.0</td>\n",
       "      <td>0.822003</td>\n",
       "      <td>3.0</td>\n",
       "      <td>0.005</td>\n",
       "      <td>24.0</td>\n",
       "    </tr>\n",
       "    <tr>\n",
       "      <th>3</th>\n",
       "      <td>e97920ce7d2205d876398178d56a854ebe6aa84f46a9ff...</td>\n",
       "      <td>89a691f66d34b51a635fdcaa93e0142f93b511855e6599...</td>\n",
       "      <td>202204</td>\n",
       "      <td>5.0</td>\n",
       "      <td>1.059392</td>\n",
       "      <td>1.0</td>\n",
       "      <td>0.006</td>\n",
       "      <td>11.7</td>\n",
       "    </tr>\n",
       "    <tr>\n",
       "      <th>4</th>\n",
       "      <td>e97920ce7d2205d876398178d56a854ebe6aa84f46a9ff...</td>\n",
       "      <td>89a691f66d34b51a635fdcaa93e0142f93b511855e6599...</td>\n",
       "      <td>202204</td>\n",
       "      <td>5.0</td>\n",
       "      <td>1.059392</td>\n",
       "      <td>1.0</td>\n",
       "      <td>0.006</td>\n",
       "      <td>11.7</td>\n",
       "    </tr>\n",
       "    <tr>\n",
       "      <th>...</th>\n",
       "      <td>...</td>\n",
       "      <td>...</td>\n",
       "      <td>...</td>\n",
       "      <td>...</td>\n",
       "      <td>...</td>\n",
       "      <td>...</td>\n",
       "      <td>...</td>\n",
       "      <td>...</td>\n",
       "    </tr>\n",
       "    <tr>\n",
       "      <th>366792</th>\n",
       "      <td>8a302c32df0a3110af9fea8285cb720cfba9cd57b87123...</td>\n",
       "      <td>6e5e1594c104dc8b9682e2a194fa8fd7eea167f4cf2a07...</td>\n",
       "      <td>202203</td>\n",
       "      <td>0.0</td>\n",
       "      <td>0.771525</td>\n",
       "      <td>0.0</td>\n",
       "      <td>1.000</td>\n",
       "      <td>1.0</td>\n",
       "    </tr>\n",
       "    <tr>\n",
       "      <th>366793</th>\n",
       "      <td>8a302c32df0a3110af9fea8285cb720cfba9cd57b87123...</td>\n",
       "      <td>6e5e1594c104dc8b9682e2a194fa8fd7eea167f4cf2a07...</td>\n",
       "      <td>202205</td>\n",
       "      <td>0.0</td>\n",
       "      <td>0.764160</td>\n",
       "      <td>0.0</td>\n",
       "      <td>0.821</td>\n",
       "      <td>0.0</td>\n",
       "    </tr>\n",
       "    <tr>\n",
       "      <th>366794</th>\n",
       "      <td>8a302c32df0a3110af9fea8285cb720cfba9cd57b87123...</td>\n",
       "      <td>6e5e1594c104dc8b9682e2a194fa8fd7eea167f4cf2a07...</td>\n",
       "      <td>202204</td>\n",
       "      <td>0.0</td>\n",
       "      <td>0.845233</td>\n",
       "      <td>0.0</td>\n",
       "      <td>0.817</td>\n",
       "      <td>0.0</td>\n",
       "    </tr>\n",
       "    <tr>\n",
       "      <th>366795</th>\n",
       "      <td>8a302c32df0a3110af9fea8285cb720cfba9cd57b87123...</td>\n",
       "      <td>6e5e1594c104dc8b9682e2a194fa8fd7eea167f4cf2a07...</td>\n",
       "      <td>202203</td>\n",
       "      <td>0.0</td>\n",
       "      <td>0.771525</td>\n",
       "      <td>0.0</td>\n",
       "      <td>1.000</td>\n",
       "      <td>1.0</td>\n",
       "    </tr>\n",
       "    <tr>\n",
       "      <th>366796</th>\n",
       "      <td>8a302c32df0a3110af9fea8285cb720cfba9cd57b87123...</td>\n",
       "      <td>6e5e1594c104dc8b9682e2a194fa8fd7eea167f4cf2a07...</td>\n",
       "      <td>202206</td>\n",
       "      <td>0.0</td>\n",
       "      <td>0.828057</td>\n",
       "      <td>0.0</td>\n",
       "      <td>0.837</td>\n",
       "      <td>0.0</td>\n",
       "    </tr>\n",
       "  </tbody>\n",
       "</table>\n",
       "<p>366797 rows × 8 columns</p>\n",
       "</div>"
      ],
      "text/plain": [
       "                                                   act_no  \\\n",
       "0       e97920ce7d2205d876398178d56a854ebe6aa84f46a9ff...   \n",
       "1       e97920ce7d2205d876398178d56a854ebe6aa84f46a9ff...   \n",
       "2       e97920ce7d2205d876398178d56a854ebe6aa84f46a9ff...   \n",
       "3       e97920ce7d2205d876398178d56a854ebe6aa84f46a9ff...   \n",
       "4       e97920ce7d2205d876398178d56a854ebe6aa84f46a9ff...   \n",
       "...                                                   ...   \n",
       "366792  8a302c32df0a3110af9fea8285cb720cfba9cd57b87123...   \n",
       "366793  8a302c32df0a3110af9fea8285cb720cfba9cd57b87123...   \n",
       "366794  8a302c32df0a3110af9fea8285cb720cfba9cd57b87123...   \n",
       "366795  8a302c32df0a3110af9fea8285cb720cfba9cd57b87123...   \n",
       "366796  8a302c32df0a3110af9fea8285cb720cfba9cd57b87123...   \n",
       "\n",
       "                                                   cus_no  bse_ym  \\\n",
       "0       89a691f66d34b51a635fdcaa93e0142f93b511855e6599...  202205   \n",
       "1       89a691f66d34b51a635fdcaa93e0142f93b511855e6599...  202205   \n",
       "2       89a691f66d34b51a635fdcaa93e0142f93b511855e6599...  202205   \n",
       "3       89a691f66d34b51a635fdcaa93e0142f93b511855e6599...  202204   \n",
       "4       89a691f66d34b51a635fdcaa93e0142f93b511855e6599...  202204   \n",
       "...                                                   ...     ...   \n",
       "366792  6e5e1594c104dc8b9682e2a194fa8fd7eea167f4cf2a07...  202203   \n",
       "366793  6e5e1594c104dc8b9682e2a194fa8fd7eea167f4cf2a07...  202205   \n",
       "366794  6e5e1594c104dc8b9682e2a194fa8fd7eea167f4cf2a07...  202204   \n",
       "366795  6e5e1594c104dc8b9682e2a194fa8fd7eea167f4cf2a07...  202203   \n",
       "366796  6e5e1594c104dc8b9682e2a194fa8fd7eea167f4cf2a07...  202206   \n",
       "\n",
       "        EVENTACTION  portfoliobeta  파생상품 유무  우량주 비율  orr_ord  \n",
       "0               4.0       0.822003      3.0   0.005     24.0  \n",
       "1               4.0       0.822003      3.0   0.005     24.0  \n",
       "2               4.0       0.822003      3.0   0.005     24.0  \n",
       "3               5.0       1.059392      1.0   0.006     11.7  \n",
       "4               5.0       1.059392      1.0   0.006     11.7  \n",
       "...             ...            ...      ...     ...      ...  \n",
       "366792          0.0       0.771525      0.0   1.000      1.0  \n",
       "366793          0.0       0.764160      0.0   0.821      0.0  \n",
       "366794          0.0       0.845233      0.0   0.817      0.0  \n",
       "366795          0.0       0.771525      0.0   1.000      1.0  \n",
       "366796          0.0       0.828057      0.0   0.837      0.0  \n",
       "\n",
       "[366797 rows x 8 columns]"
      ]
     },
     "execution_count": 19,
     "metadata": {},
     "output_type": "execute_result"
    }
   ],
   "source": [
    "m1 = total.merge(search, how = 'left', on = ['cus_no', 'bse_ym'])\n",
    "m1 = m1.fillna(0)\n",
    "m2 = m1.merge(beta, how = 'left', on = ['act_no' , 'bse_ym'])\n",
    "m2\n",
    "m3 = m2.merge(bnc_kr, how = 'left', on = ['act_no', 'bse_ym'])\n",
    "m3\n",
    "m4 = m3.merge(marcap, how = 'left' , on = ['act_no', 'bse_ym'])\n",
    "m4\n",
    "m5 = m4.merge(ord_mean, how = 'left', on = ['act_no' ,'bse_ym'])\n",
    "m5 = m5.fillna(0)\n",
    "m5"
   ]
  },
  {
   "cell_type": "code",
   "execution_count": 20,
   "id": "83aa8da0-058d-465e-a284-0a965c6ce94e",
   "metadata": {},
   "outputs": [],
   "source": [
    "final = m5\n",
    "final.to_csv('최종데이터파일.csv', index = False)"
   ]
  },
  {
   "cell_type": "markdown",
   "id": "a8ef16d4-a962-4876-9db8-8cfcb4e8f1e0",
   "metadata": {},
   "source": [
    "#### - 변수간 상관계수 파악"
   ]
  },
  {
   "cell_type": "code",
   "execution_count": null,
   "id": "fa85f9d9-14ef-407c-9876-74ad79e27032",
   "metadata": {},
   "outputs": [],
   "source": [
    "final[['EVENTACTION', 'portfoliobeta', '파생상품 유무','우량주 비율', 'orr_ord']].corr()"
   ]
  },
  {
   "cell_type": "markdown",
   "id": "cab3fbe9-fd29-4f8e-88f3-c678d4352f10",
   "metadata": {},
   "source": [
    "####  - 결측치 유무 확인"
   ]
  },
  {
   "cell_type": "code",
   "execution_count": null,
   "id": "8f300d83-5746-4b67-a4d0-bac4e4fe2e03",
   "metadata": {},
   "outputs": [],
   "source": [
    "final.isna().sum()"
   ]
  },
  {
   "cell_type": "code",
   "execution_count": null,
   "id": "2c2ccfa5-3fe7-48ca-a155-7f24cba8b814",
   "metadata": {},
   "outputs": [],
   "source": [
    "# 파생상품을 개수로 count했지만, 상품 보유여부로 바꿈.\n",
    "final = final.rename(columns = {'EVENTACTION' : '정보수집지수' , 'portfoliobeta' : '베타계수', 'orr_ord' : '일일 거래평균'})\n",
    "final.loc[final['파생상품 유무'] > 0, '파생상품 유무'] = 1\n",
    "final"
   ]
  },
  {
   "cell_type": "markdown",
   "id": "fdda8a4f-cd90-4b93-9db3-f80f1e2219ac",
   "metadata": {},
   "source": [
    "#### - 변수 타입 확인"
   ]
  },
  {
   "cell_type": "code",
   "execution_count": null,
   "id": "9fd8c8e2-4c53-4368-b65f-b6864cd53d49",
   "metadata": {},
   "outputs": [],
   "source": [
    "final_scaled = final[['정보수집지수' , '베타계수', '파생상품 유무', '우량주 비율', '일일 거래평균']]"
   ]
  },
  {
   "cell_type": "markdown",
   "id": "c24505a3-68f5-4f2f-ba0c-df266f2a617b",
   "metadata": {},
   "source": [
    "#### - 변수 스케일링 "
   ]
  },
  {
   "cell_type": "code",
   "execution_count": null,
   "id": "f8f149e1-54d0-4109-ba78-e9b11fc95653",
   "metadata": {},
   "outputs": [],
   "source": [
    "from sklearn.preprocessing import StandardScaler\n",
    "\n",
    "scaler = StandardScaler()\n",
    "scaler.fit(final_scaled)\n",
    "final_scaled = scaler.transform(final_scaled)\n",
    "\n",
    "final_scaled = pd.DataFrame(final_scaled, columns = ['정보수집지수' , '베타계수', '파생상품 유무', '우량주 비율', '일일 거래평균'])\n",
    "final_scaled"
   ]
  },
  {
   "cell_type": "code",
   "execution_count": null,
   "id": "396210b7-743e-4639-8dc0-a4d24edb3f1f",
   "metadata": {},
   "outputs": [],
   "source": []
  },
  {
   "cell_type": "code",
   "execution_count": null,
   "id": "b2dad558-020c-4496-95ca-969b843a3d32",
   "metadata": {},
   "outputs": [],
   "source": [
    "from yellowbrick.cluster import KElbowVisualizer\n",
    "from sklearn.cluster import KMeans\n",
    "\n",
    "model = KMeans()\n",
    "visualizer = KElbowVisualizer(model, k=(1,10))\n",
    "visualizer.fit(final_scaled)"
   ]
  },
  {
   "cell_type": "code",
   "execution_count": null,
   "id": "7b02d49c-51f2-42f5-a044-9a8602367785",
   "metadata": {},
   "outputs": [],
   "source": [
    "k = 6\n",
    "\n",
    "# 그룹 수, random_state 설정\n",
    "model = KMeans(n_clusters = k, random_state = 10)\n",
    "\n",
    "# 정규화된 데이터에 학습\n",
    "model.fit(final_scaled)\n",
    "\n",
    "# 클러스터링 결과 각 데이터가 몇 번째 그룹에 속하는지 저장\n",
    "final['cluster_id'] = model.fit_predict(final_scaled)"
   ]
  },
  {
   "cell_type": "code",
   "execution_count": null,
   "id": "6747bd13-2b56-45f1-978b-5f31cbde7a74",
   "metadata": {},
   "outputs": [],
   "source": [
    "final.head()"
   ]
  },
  {
   "cell_type": "code",
   "execution_count": null,
   "id": "5ce40073-846e-46fd-8c77-f459f7db7f37",
   "metadata": {},
   "outputs": [],
   "source": [
    "final['cluster_id'].value_counts()"
   ]
  },
  {
   "cell_type": "code",
   "execution_count": null,
   "id": "cf7a3f6a-3dec-4add-a323-3bf95c28a530",
   "metadata": {},
   "outputs": [],
   "source": [
    "sns.boxplot(y='베타계수',x='cluster_id',data= final)"
   ]
  },
  {
   "cell_type": "code",
   "execution_count": null,
   "id": "ac7d36ef-799a-4257-9d94-b9bce87ef31f",
   "metadata": {},
   "outputs": [],
   "source": [
    "sns.boxplot(y='우량주 비율',x='cluster_id',data= final)"
   ]
  },
  {
   "cell_type": "code",
   "execution_count": null,
   "id": "9c1f938a-b6d8-48ce-bc33-e274228d897b",
   "metadata": {},
   "outputs": [],
   "source": [
    "sns.boxplot(y='정보수집지수',x='cluster_id',data= final)"
   ]
  },
  {
   "cell_type": "code",
   "execution_count": null,
   "id": "6573b283-1ed9-4d4e-9061-1fc92c118ace",
   "metadata": {},
   "outputs": [],
   "source": [
    "sns.boxplot(y='파생상품 유무',x='cluster_id',data= final)"
   ]
  },
  {
   "cell_type": "code",
   "execution_count": null,
   "id": "1d95ef78-a481-45e9-9c08-b598b87251ab",
   "metadata": {},
   "outputs": [],
   "source": [
    "sns.boxplot(y='일일 거래평균',x='cluster_id',data= final)"
   ]
  },
  {
   "cell_type": "code",
   "execution_count": null,
   "id": "5e10d2ee-ee11-4ecd-801d-483e0fe18140",
   "metadata": {},
   "outputs": [],
   "source": [
    "final_scaled['cluster_id'] = final['cluster_id']\n",
    "final_scaled['act_no'] = final['act_no']\n",
    "final_scaled"
   ]
  },
  {
   "cell_type": "code",
   "execution_count": null,
   "id": "1294bc77-9f77-4baa-94b9-a1659bf485b1",
   "metadata": {},
   "outputs": [],
   "source": [
    "df_melt = pd.melt(final_scaled.reset_index(), id_vars = ['act_no', 'cluster_id'], value_vars = ['베타계수' ,'정보수집지수', '파생상품 유무', '일일 거래평균', '우량주 비율'], var_name = 'Metric', value_name = 'Value')\n",
    "plt.xlabel('Metirc')\n",
    "sns.pointplot(data = df_melt, x = 'Metric', y = 'Value', hue = 'cluster_id')"
   ]
  },
  {
   "cell_type": "code",
   "execution_count": null,
   "id": "ccdc9e7e-231b-4ab6-b37e-3e0bd0e9dbc9",
   "metadata": {},
   "outputs": [],
   "source": [
    "c0 = final[final['cluster_id']==0][['act_no','cus_no','bse_ym']]\n",
    "c1 = final[final['cluster_id']==1][['act_no','cus_no','bse_ym']]\n",
    "c2 = final[final['cluster_id']==2][['act_no','cus_no','bse_ym']]\n",
    "c3 = final[final['cluster_id']==3][['act_no','cus_no','bse_ym']]\n",
    "c4 = final[final['cluster_id']==4][['act_no','cus_no','bse_ym']]\n",
    "c5 = final[final['cluster_id']==5][['act_no','cus_no','bse_ym']]"
   ]
  },
  {
   "cell_type": "code",
   "execution_count": null,
   "id": "46758db0-0948-4b42-9848-1e66b128a0b0",
   "metadata": {},
   "outputs": [],
   "source": [
    "c0 = pd.merge(c0,info,how='left',on=['act_no','cus_no','bse_ym'])\n",
    "c1 = pd.merge(c1,info,how='left',on=['act_no','cus_no','bse_ym'])\n",
    "c2 = pd.merge(c2,info,how='left',on=['act_no','cus_no','bse_ym'])\n",
    "c3 = pd.merge(c3,info,how='left',on=['act_no','cus_no','bse_ym'])\n",
    "c4 = pd.merge(c4,info,how='left',on=['act_no','cus_no','bse_ym'])\n",
    "c5 = pd.merge(c5,info,how='left',on=['act_no','cus_no','bse_ym'])"
   ]
  },
  {
   "cell_type": "code",
   "execution_count": null,
   "id": "a5d9b60f-5c04-4242-96c0-bf0bdceee0ce",
   "metadata": {},
   "outputs": [],
   "source": [
    "# 클러스터별 라이프스테이지 세그먼트 분포 확인\n",
    "plt.figure(figsize = (16,10))\n",
    "plt.subplot(3,3,1)\n",
    "plt.title('cluster_id = 0')\n",
    "sns.countplot( x = 'lsg_sgm_cd' ,data = c0, order = c0.lsg_sgm_cd.value_counts().index)\n",
    "              \n",
    "plt.subplot(3,3,2)\n",
    "plt.title('cluster_id = 1')\n",
    "sns.countplot( x = 'lsg_sgm_cd' ,data = c1, order = c1.lsg_sgm_cd.value_counts().index)\n",
    "\n",
    "plt.subplot(3,3,3)\n",
    "plt.title('cluster_id = 2')\n",
    "sns.countplot( x = 'lsg_sgm_cd' ,data = c2, order = c2.lsg_sgm_cd.value_counts().index)\n",
    "\n",
    "plt.subplot(3,3,4)\n",
    "plt.title('cluster_id = 3')\n",
    "sns.countplot( x = 'lsg_sgm_cd' ,data = c3, order = c3.lsg_sgm_cd.value_counts().index)\n",
    "\n",
    "plt.subplot(3,3,5)\n",
    "plt.title('cluster_id = 4')\n",
    "sns.countplot( x = 'lsg_sgm_cd' ,data = c4, order = c4.lsg_sgm_cd.value_counts().index)\n",
    "\n",
    "plt.subplot(3,3,6)\n",
    "plt.title('cluster_id = 5')\n",
    "sns.countplot( x = 'lsg_sgm_cd' ,data = c5, order = c5.lsg_sgm_cd.value_counts().index)\n",
    "\n",
    "plt.tight_layout()"
   ]
  },
  {
   "cell_type": "code",
   "execution_count": null,
   "id": "aa7a71fc-f2cf-4154-9dc3-e6a64b30f584",
   "metadata": {},
   "outputs": [],
   "source": [
    "# 클러스터별 주거래 시장구분코드 분포 확인\n",
    "plt.figure(figsize = (16,10))\n",
    "plt.subplot(3,3,1)\n",
    "plt.title('cluster_id = 0')\n",
    "sns.countplot( x = 'mrz_mkt_dit_cd' ,data = c0, order = c0.mrz_mkt_dit_cd.value_counts().index)\n",
    "              \n",
    "plt.subplot(3,3,2)\n",
    "plt.title('cluster_id = 1')\n",
    "sns.countplot( x = 'mrz_mkt_dit_cd' ,data = c1, order = c1.mrz_mkt_dit_cd.value_counts().index)\n",
    "\n",
    "plt.subplot(3,3,3)\n",
    "plt.title('cluster_id = 2')\n",
    "sns.countplot( x = 'mrz_mkt_dit_cd' ,data = c2, order = c2.mrz_mkt_dit_cd.value_counts().index)\n",
    "\n",
    "plt.subplot(3,3,4)\n",
    "plt.title('cluster_id = 3')\n",
    "sns.countplot( x = 'mrz_mkt_dit_cd' ,data = c3, order = c3.mrz_mkt_dit_cd.value_counts().index)\n",
    "\n",
    "plt.subplot(3,3,5)\n",
    "plt.title('cluster_id = 4')\n",
    "sns.countplot( x = 'mrz_mkt_dit_cd' ,data = c4, order = c4.mrz_mkt_dit_cd.value_counts().index)\n",
    "\n",
    "plt.subplot(3,3,6)\n",
    "plt.title('cluster_id = 5')\n",
    "sns.countplot( x = 'mrz_mkt_dit_cd' ,data = c5, order = c5.mrz_mkt_dit_cd.value_counts().index)\n",
    "\n",
    "plt.tight_layout()"
   ]
  },
  {
   "cell_type": "code",
   "execution_count": null,
   "id": "cd4e1498-7569-4ab1-bea2-bc817f1571d4",
   "metadata": {},
   "outputs": [],
   "source": [
    "# 클러스터별 주거래 업종 분포 확인\n",
    "plt.figure(figsize = (16,10))\n",
    "plt.subplot(3,3,1)\n",
    "plt.title('cluster_id = 0')\n",
    "sns.countplot( x = 'mrz_btp_dit_cd' ,data = c0, order = c0.mrz_btp_dit_cd.value_counts().index)\n",
    "              \n",
    "plt.subplot(3,3,2)\n",
    "plt.title('cluster_id = 1')\n",
    "sns.countplot( x = 'mrz_btp_dit_cd' ,data = c1, order = c1.mrz_btp_dit_cd.value_counts().index)\n",
    "\n",
    "plt.subplot(3,3,3)\n",
    "plt.title('cluster_id = 2')\n",
    "sns.countplot( x = 'mrz_btp_dit_cd' ,data = c2, order = c2.mrz_btp_dit_cd.value_counts().index)\n",
    "\n",
    "plt.subplot(3,3,4)\n",
    "plt.title('cluster_id = 3')\n",
    "sns.countplot( x = 'mrz_btp_dit_cd' ,data = c3, order = c3.mrz_btp_dit_cd.value_counts().index)\n",
    "\n",
    "plt.subplot(3,3,5)\n",
    "plt.title('cluster_id = 4')\n",
    "sns.countplot( x = 'mrz_btp_dit_cd' ,data = c4, order = c4.mrz_btp_dit_cd.value_counts().index)\n",
    "\n",
    "plt.subplot(3,3,6)\n",
    "plt.title('cluster_id = 5')\n",
    "sns.countplot( x = 'mrz_btp_dit_cd' ,data = c5, order = c5.mrz_btp_dit_cd.value_counts().index)\n",
    "\n",
    "plt.tight_layout()"
   ]
  },
  {
   "cell_type": "code",
   "execution_count": null,
   "id": "34cd12a7-6ff2-4415-815f-5d7f0c238d52",
   "metadata": {},
   "outputs": [],
   "source": [
    "# 클러스터별 고겍자산구간 분포 확인\n",
    "plt.figure(figsize = (16,10))\n",
    "plt.subplot(3,3,1)\n",
    "plt.title('cluster_id = 0')\n",
    "sns.countplot( x = 'cus_aet_stn_cd' ,data = c0, order = c0.cus_aet_stn_cd.value_counts().index)\n",
    "              \n",
    "plt.subplot(3,3,2)\n",
    "plt.title('cluster_id = 1')\n",
    "sns.countplot( x = 'cus_aet_stn_cd' ,data = c1, order = c1.cus_aet_stn_cd.value_counts().index)\n",
    "\n",
    "plt.subplot(3,3,3)\n",
    "plt.title('cluster_id = 2')\n",
    "sns.countplot( x = 'cus_aet_stn_cd' ,data = c2, order = c2.cus_aet_stn_cd.value_counts().index)\n",
    "\n",
    "plt.subplot(3,3,4)\n",
    "plt.title('cluster_id = 3')\n",
    "sns.countplot( x = 'cus_aet_stn_cd' ,data = c3, order = c3.cus_aet_stn_cd.value_counts().index)\n",
    "\n",
    "plt.subplot(3,3,5)\n",
    "plt.title('cluster_id = 4')\n",
    "sns.countplot( x = 'cus_aet_stn_cd' ,data = c4, order = c4.cus_aet_stn_cd.value_counts().index)\n",
    "\n",
    "plt.subplot(3,3,6)\n",
    "plt.title('cluster_id = 5')\n",
    "sns.countplot( x = 'cus_aet_stn_cd' ,data = c5, order = c5.cus_aet_stn_cd.value_counts().index)\n",
    "\n",
    "plt.tight_layout()"
   ]
  },
  {
   "cell_type": "code",
   "execution_count": null,
   "id": "1765bd93-8fa5-41d6-a1ac-59877b2fe171",
   "metadata": {},
   "outputs": [],
   "source": [
    "# 클러스터별 고객 수익금액구간 분포 확인\n",
    "plt.figure(figsize = (16,10))\n",
    "plt.subplot(3,3,1)\n",
    "plt.title('cluster_id = 0')\n",
    "sns.countplot( x = 'pft_amt_stn_cd' ,data = c0, order = c0.pft_amt_stn_cd.value_counts().index)\n",
    "              \n",
    "plt.subplot(3,3,2)\n",
    "plt.title('cluster_id = 1')\n",
    "sns.countplot( x = 'pft_amt_stn_cd' ,data = c1, order = c1.pft_amt_stn_cd.value_counts().index)\n",
    "\n",
    "plt.subplot(3,3,3)\n",
    "plt.title('cluster_id = 2')\n",
    "sns.countplot( x = 'pft_amt_stn_cd' ,data = c2, order = c2.pft_amt_stn_cd.value_counts().index)\n",
    "\n",
    "plt.subplot(3,3,4)\n",
    "plt.title('cluster_id = 3')\n",
    "sns.countplot( x = 'pft_amt_stn_cd' ,data = c3, order = c3.pft_amt_stn_cd.value_counts().index)\n",
    "\n",
    "plt.subplot(3,3,5)\n",
    "plt.title('cluster_id = 4')\n",
    "sns.countplot( x = 'pft_amt_stn_cd' ,data = c4, order = c4.pft_amt_stn_cd.value_counts().index)\n",
    "\n",
    "plt.subplot(3,3,6)\n",
    "plt.title('cluster_id = 5')\n",
    "sns.countplot( x = 'pft_amt_stn_cd' ,data = c5, order = c5.pft_amt_stn_cd.value_counts().index)\n",
    "\n",
    "plt.tight_layout()"
   ]
  },
  {
   "cell_type": "code",
   "execution_count": null,
   "id": "b83e9d22-e6e5-4721-8f21-443c1ebf128c",
   "metadata": {},
   "outputs": [],
   "source": [
    "# 클러스터별 총 투자기간 세그먼트 분포 확인\n",
    "plt.figure(figsize = (16,10))\n",
    "plt.subplot(3,3,1)\n",
    "plt.title('cluster_id = 0')\n",
    "sns.countplot( x = 'tot_ivs_te_sgm_cd' ,data = c0, order = c0.tot_ivs_te_sgm_cd.value_counts().index)\n",
    "              \n",
    "plt.subplot(3,3,2)\n",
    "plt.title('cluster_id = 1')\n",
    "sns.countplot( x = 'tot_ivs_te_sgm_cd' ,data = c1, order = c1.tot_ivs_te_sgm_cd.value_counts().index)\n",
    "\n",
    "plt.subplot(3,3,3)\n",
    "plt.title('cluster_id = 2')\n",
    "sns.countplot( x = 'tot_ivs_te_sgm_cd' ,data = c2, order = c2.tot_ivs_te_sgm_cd.value_counts().index)\n",
    "\n",
    "plt.subplot(3,3,4)\n",
    "plt.title('cluster_id = 3')\n",
    "sns.countplot( x = 'tot_ivs_te_sgm_cd' ,data = c3, order = c3.tot_ivs_te_sgm_cd.value_counts().index)\n",
    "\n",
    "plt.subplot(3,3,5)\n",
    "plt.title('cluster_id = 4')\n",
    "sns.countplot( x = 'tot_ivs_te_sgm_cd' ,data = c4, order = c4.tot_ivs_te_sgm_cd.value_counts().index)\n",
    "\n",
    "plt.subplot(3,3,6)\n",
    "plt.title('cluster_id = 5')\n",
    "sns.countplot( x = 'tot_ivs_te_sgm_cd' ,data = c5, order = c5.tot_ivs_te_sgm_cd.value_counts().index)\n",
    "\n",
    "plt.tight_layout()"
   ]
  }
 ],
 "metadata": {
  "kernelspec": {
   "display_name": "Python 3 (ipykernel)",
   "language": "python",
   "name": "python3"
  },
  "language_info": {
   "codemirror_mode": {
    "name": "ipython",
    "version": 3
   },
   "file_extension": ".py",
   "mimetype": "text/x-python",
   "name": "python",
   "nbconvert_exporter": "python",
   "pygments_lexer": "ipython3",
   "version": "3.9.7"
  }
 },
 "nbformat": 4,
 "nbformat_minor": 5
}
